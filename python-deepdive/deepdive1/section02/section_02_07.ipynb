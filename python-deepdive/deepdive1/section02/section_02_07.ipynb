{
 "cells": [
  {
   "cell_type": "markdown",
   "id": "blessed-banana",
   "metadata": {},
   "source": [
    "# Identifier names\n",
    "\n",
    "are case-sensitive, must follow certain rules, and must follow certain conventions\n",
    "\n",
    "*Must*\n",
    "\n",
    "- start with underscore (_) or letter (a-zA-Z)\n",
    "- followed by any number of underscores (_), letters (a-zA-Z), or digits (0-9)\n",
    "- cannot be reserved words\n",
    "\n",
    "*Conventions*\n",
    "\n",
    "- first character is single underscore (_) is used to indicate \"internal use\"\n",
    "or \"private\" objects; Objects named this way will not get imported by a\n",
    "statement such as: from module import *\n",
    "- first characters is double underscore, dunder, ( __ ) is used to \"mangle\"\n",
    "class attributes -- useful in inheritance chains\n",
    "- starts and ends with dunder characters used for system-defined names that\n",
    "have a special meaning to the interpreter; Don't invent them, stick to the ones\n",
    "pre-defined by Python.\n",
    "- Packages should be short, all-lowercase names, preferably no underscores\n",
    "- Modules should be short, all-lowercase names, can have underscores\n",
    "- Classes should be upper camel case (CapWords)\n",
    "- Functions should be lowercase, words separated by underscores (snake_case)\n",
    "- Variables should be lowercase, words separated by underscores (snake_case)\n",
    "- Constants should be all-uppercase, words separated by underscores\n",
    "\n",
    "[PEP 8](https://www.python.org/dev/peps/pep-0008)"
   ]
  }
 ],
 "metadata": {
  "kernelspec": {
   "display_name": "Python 3",
   "language": "python",
   "name": "python3"
  },
  "language_info": {
   "codemirror_mode": {
    "name": "ipython",
    "version": 3
   },
   "file_extension": ".py",
   "mimetype": "text/x-python",
   "name": "python",
   "nbconvert_exporter": "python",
   "pygments_lexer": "ipython3",
   "version": "3.9.1"
  }
 },
 "nbformat": 4,
 "nbformat_minor": 5
}
