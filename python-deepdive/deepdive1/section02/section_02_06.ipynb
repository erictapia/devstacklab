{
 "cells": [
  {
   "cell_type": "markdown",
   "id": "tired-raising",
   "metadata": {},
   "source": [
    "# Multi-Line Statements and Strings\n",
    "\n",
    "## Python Program\n",
    "\n",
    "*Physical* lines of code (written code) end with a *physical newline* character\n",
    "\n",
    "*Logical* lines of code (grammar) end with a *logical NEWLINE* token\n",
    "\n",
    "*Sometimes*, physical newlines are ignored *in order to* combine multiple physical lines\n",
    "*into a* single logical line of code *terminated* by a logical NEWLINE token\n",
    "\n",
    "This allows us to make code more readable.\n"
   ]
  },
  {
   "cell_type": "markdown",
   "id": "endless-loading",
   "metadata": {},
   "source": [
    "## Implicit Multi-Line\n"
   ]
  },
  {
   "cell_type": "markdown",
   "id": "backed-skill",
   "metadata": {},
   "source": [
    "list literals: []\n"
   ]
  },
  {
   "cell_type": "code",
   "execution_count": 1,
   "id": "enabling-elevation",
   "metadata": {},
   "outputs": [
    {
     "data": {
      "text/plain": [
       "[1, 2, 3]"
      ]
     },
     "execution_count": 1,
     "metadata": {},
     "output_type": "execute_result"
    }
   ],
   "source": [
    "[\n",
    "    1,\n",
    "    2,\n",
    "    3\n",
    "]"
   ]
  },
  {
   "cell_type": "markdown",
   "id": "alpha-flavor",
   "metadata": {},
   "source": [
    "tuple lieterals: ()\n"
   ]
  },
  {
   "cell_type": "code",
   "execution_count": 2,
   "id": "international-bottom",
   "metadata": {},
   "outputs": [
    {
     "data": {
      "text/plain": [
       "(1, 2, 3)"
      ]
     },
     "execution_count": 2,
     "metadata": {},
     "output_type": "execute_result"
    }
   ],
   "source": [
    "(\n",
    "    1,\n",
    "    2,\n",
    "    3\n",
    ")"
   ]
  },
  {
   "cell_type": "markdown",
   "id": "acute-newspaper",
   "metadata": {},
   "source": [
    "dictionary literals: {}\n"
   ]
  },
  {
   "cell_type": "code",
   "execution_count": 3,
   "id": "graduate-adams",
   "metadata": {},
   "outputs": [
    {
     "data": {
      "text/plain": [
       "{1: 1, 2: 2, 3: 3}"
      ]
     },
     "execution_count": 3,
     "metadata": {},
     "output_type": "execute_result"
    }
   ],
   "source": [
    "{\n",
    "    1: 1,\n",
    "    2: 2,\n",
    "    3: 3\n",
    "}"
   ]
  },
  {
   "cell_type": "markdown",
   "id": "heavy-pennsylvania",
   "metadata": {},
   "source": [
    "set literals: {}\n"
   ]
  },
  {
   "cell_type": "code",
   "execution_count": 4,
   "id": "bearing-edition",
   "metadata": {},
   "outputs": [
    {
     "data": {
      "text/plain": [
       "{1, 2, 3}"
      ]
     },
     "execution_count": 4,
     "metadata": {},
     "output_type": "execute_result"
    }
   ],
   "source": [
    "{\n",
    "    1,\n",
    "    2,\n",
    "    3\n",
    "}"
   ]
  },
  {
   "cell_type": "markdown",
   "id": "miniature-security",
   "metadata": {},
   "source": [
    "function parameters / arguments with inline comments\n"
   ]
  },
  {
   "cell_type": "code",
   "execution_count": 7,
   "id": "supported-place",
   "metadata": {},
   "outputs": [],
   "source": [
    "def func(\n",
    "    a: int, # parameter a\n",
    "    b: int, # parameter b\n",
    "    c: int  # parameter c\n",
    ") -> int:\n",
    "    return a + b + c"
   ]
  },
  {
   "cell_type": "code",
   "execution_count": 8,
   "id": "cathedral-tradition",
   "metadata": {},
   "outputs": [
    {
     "data": {
      "text/plain": [
       "6"
      ]
     },
     "execution_count": 8,
     "metadata": {},
     "output_type": "execute_result"
    }
   ],
   "source": [
    "func(\n",
    "    1, # argument a\n",
    "    2, # argument b\n",
    "    3  # argument c\n",
    ")"
   ]
  },
  {
   "cell_type": "markdown",
   "id": "later-bonus",
   "metadata": {},
   "source": [
    "## Explicit Multi-Line\n",
    "\n",
    "Statements can be broken into multiple lines explicitly, by using the *\\* character.\n",
    "\n",
    "Multi-line statements are not implicitly converted to a single logical line."
   ]
  },
  {
   "cell_type": "code",
   "execution_count": 11,
   "id": "operating-badge",
   "metadata": {},
   "outputs": [],
   "source": [
    "a = b = c = True"
   ]
  },
  {
   "cell_type": "markdown",
   "id": "irish-efficiency",
   "metadata": {},
   "source": [
    "*Invalid* multi-line statement"
   ]
  },
  {
   "cell_type": "code",
   "execution_count": 9,
   "id": "mysterious-miracle",
   "metadata": {},
   "outputs": [
    {
     "ename": "SyntaxError",
     "evalue": "invalid syntax (<ipython-input-9-044a5129ebdf>, line 1)",
     "output_type": "error",
     "traceback": [
      "\u001b[0;36m  File \u001b[0;32m\"<ipython-input-9-044a5129ebdf>\"\u001b[0;36m, line \u001b[0;32m1\u001b[0m\n\u001b[0;31m    if a\u001b[0m\n\u001b[0m        ^\u001b[0m\n\u001b[0;31mSyntaxError\u001b[0m\u001b[0;31m:\u001b[0m invalid syntax\n"
     ]
    }
   ],
   "source": [
    "if a\n",
    "    and b\n",
    "        and c:\n",
    "    pass"
   ]
  },
  {
   "cell_type": "code",
   "execution_count": null,
   "id": "quarterly-recycling",
   "metadata": {},
   "outputs": [],
   "source": [
    "*Valid* explicittly multi-line statement.  Indentention does not matter because logically it will be a\n",
    "single line statement.\n"
   ]
  },
  {
   "cell_type": "code",
   "execution_count": 14,
   "id": "durable-destination",
   "metadata": {},
   "outputs": [
    {
     "name": "stdout",
     "output_type": "stream",
     "text": [
      "True\n"
     ]
    }
   ],
   "source": [
    "if a \\\n",
    "    and b \\\n",
    "        and c:\n",
    "    print(True)"
   ]
  },
  {
   "cell_type": "markdown",
   "id": "furnished-dollar",
   "metadata": {},
   "source": [
    "## Multi-line String Literals\n",
    "\n",
    "Multi-line string literals are created using triple delimeters using either *'* single or *\"* double\n",
    "qoutes.  These strings will include control characters as part of the strings such as spaces, newline,\n",
    "and tabs.\n"
   ]
  },
  {
   "cell_type": "code",
   "execution_count": 19,
   "id": "durable-latitude",
   "metadata": {},
   "outputs": [],
   "source": [
    "m1 = '''\n",
    "This is a multi-line string literal.\n",
    "'''\n",
    "\n",
    "m2 = \"\"\"\n",
    "This is also a multi-line string literal.\n",
    "\"\"\"\n",
    "\n",
    "m3 = '''\n",
    "        This is also a multi-line string literal.\n",
    "    '''"
   ]
  },
  {
   "cell_type": "code",
   "execution_count": 20,
   "id": "tough-correlation",
   "metadata": {},
   "outputs": [
    {
     "name": "stdout",
     "output_type": "stream",
     "text": [
      "\n",
      "This is a multi-line string literal.\n",
      "\n",
      "\n",
      "This is also a multi-line string literal.\n",
      "\n",
      "\n",
      "        This is also a multi-line string literal.\n",
      "    \n"
     ]
    }
   ],
   "source": [
    "print(m1)\n",
    "print(m2)\n",
    "print(m3)"
   ]
  },
  {
   "cell_type": "markdown",
   "id": "following-harassment",
   "metadata": {},
   "source": [
    "A string assigned as a multi-line will include space, and escaped new line characters."
   ]
  },
  {
   "cell_type": "code",
   "execution_count": 2,
   "id": "seventh-glass",
   "metadata": {},
   "outputs": [],
   "source": [
    "a = '''\n",
    "This is a\n",
    "   multi-line\n",
    "     string.\n",
    "'''"
   ]
  },
  {
   "cell_type": "code",
   "execution_count": 3,
   "id": "lesser-touch",
   "metadata": {},
   "outputs": [
    {
     "data": {
      "text/plain": [
       "'\\nThis is a\\n   multi-line\\n     string.\\n'"
      ]
     },
     "execution_count": 3,
     "metadata": {},
     "output_type": "execute_result"
    }
   ],
   "source": [
    "a"
   ]
  }
 ],
 "metadata": {
  "kernelspec": {
   "display_name": "Python 3",
   "language": "python",
   "name": "python3"
  },
  "language_info": {
   "codemirror_mode": {
    "name": "ipython",
    "version": 3
   },
   "file_extension": ".py",
   "mimetype": "text/x-python",
   "name": "python",
   "nbconvert_exporter": "python",
   "pygments_lexer": "ipython3",
   "version": "3.8.5"
  }
 },
 "nbformat": 4,
 "nbformat_minor": 5
}
