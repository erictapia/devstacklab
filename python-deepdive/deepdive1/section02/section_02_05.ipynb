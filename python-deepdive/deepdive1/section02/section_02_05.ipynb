{
 "cells": [
  {
   "cell_type": "markdown",
   "id": "maritime-division",
   "metadata": {},
   "source": [
    "# Python Type Hierarchy"
   ]
  },
  {
   "cell_type": "markdown",
   "id": "corrected-marina",
   "metadata": {},
   "source": [
    "## Numbers\n",
    "\n",
    "| Integral | Non-Integral |\n",
    "| :--- | :--- |\n",
    "| Integers | Floats |\n",
    "| Booleans | Complex |\n",
    "| | Decimals |\n",
    "| | Fractions |\n"
   ]
  },
  {
   "cell_type": "markdown",
   "id": "matched-cloud",
   "metadata": {},
   "source": [
    "## Collections\n",
    "\n",
    "***Sequences***\n",
    "\n",
    "| Mutable | Immutable |\n",
    "| :--- | :--- |\n",
    "| Lists   | Tuples |\n",
    "| | Strings |\n",
    "\n",
    "\n",
    "***Sets***\n",
    "\n",
    "| Mutable | Immutable |\n",
    "| :--- | :--- |\n",
    "| Sets | Frozen Sets |\n",
    "\n",
    "***Mappings***\n",
    "\n",
    "| Mutable | Immutable |\n",
    "| :--- | :--- |\n",
    "| Dictionaries | |\n"
   ]
  },
  {
   "cell_type": "markdown",
   "id": "behavioral-occasion",
   "metadata": {},
   "source": [
    "## Callables\n",
    "\n",
    "User-Defined Functions\n",
    "\n",
    "Generators\n",
    "\n",
    "Classes\n",
    "\n",
    "Instance Methods\n",
    "\n",
    "Class Instances(__call__())\n",
    "\n",
    "Built-in Functions (e.g. len(), open())\n",
    "\n",
    "Built-in Meethods (e.g. my_list.append(x))\n"
   ]
  },
  {
   "cell_type": "markdown",
   "id": "bound-wilderness",
   "metadata": {},
   "source": [
    "## Singletons\n",
    "\n",
    "None\n",
    "\n",
    "NotImplemented\n",
    "\n",
    "Ellipsis (...)\n"
   ]
  }
 ],
 "metadata": {
  "kernelspec": {
   "display_name": "Python 3",
   "language": "python",
   "name": "python3"
  },
  "language_info": {
   "codemirror_mode": {
    "name": "ipython",
    "version": 3
   },
   "file_extension": ".py",
   "mimetype": "text/x-python",
   "name": "python",
   "nbconvert_exporter": "python",
   "pygments_lexer": "ipython3",
   "version": "3.8.5"
  }
 },
 "nbformat": 4,
 "nbformat_minor": 5
}
