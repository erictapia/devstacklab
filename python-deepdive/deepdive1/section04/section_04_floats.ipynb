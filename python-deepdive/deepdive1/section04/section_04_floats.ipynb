{
 "cells": [
  {
   "cell_type": "markdown",
   "id": "general-chile",
   "metadata": {},
   "source": [
    "# Floats: Internal Representations\n",
    "\n",
    "- is Python's default implementation for representing real numbers\n",
    "- implemented using the C double type, also called binary64\n",
    "- uses a fixed number of bytes, 8 bytes but with overhead is 24 bytes\n",
    "- infinite numbers have an approximate float representation\n",
    "\n",
    "64 bits structure:\n",
    "- sign: 1 bit\n",
    "- exponent: 11 bits, range: -1022, 1023\n",
    "- significant digits: 52 bits, 15-17 significant (base 10) digits \n",
    "\n",
    "Examples:\n",
    "\n",
    "| Value | Sign | Exponent | Significant |\n",
    "| --- | --- | --- | --- |\n",
    "| 1.2345 | 0 | -4 | 12345 |\n",
    "| 1234.5 | 0 | -1 | 12345 |\n",
    "| 12345000000 | 0 | 6 | 12345 |\n",
    "| 0.00012345 | 0 | -3 | 12345 |\n",
    "| 12345e-50 | 0 | -50 | 12345 |\n",
    "\n",
    "Representation: decimal\n",
    "\n",
    "- numbers can be represented as base-10 intgers and fractions\n",
    "\n",
    "Examples:\n",
    "\n",
    "0.75 = 7/10 + 5/100 = 7 x 10^-1 + 5 x 10^-2\n",
    "\n",
    "0.256 = 2/10 + 5/100 + 6/1000 = 2 x 10^-1 + 5 x 10^-2 + 6 x 10^-3\n",
    "\n",
    "Representation: decimal\n",
    "\n",
    "- numbers are represented using bits, powers of 2\n",
    "- not all numbers have a finite binary representation\n",
    "\n",
    "Examples:\n",
    "\n",
    "binary float(0.11) = 1/2 + 1/4 = 1 x 2^-1 + 1 x 2^-2 (BASE 10)"
   ]
  },
  {
   "cell_type": "markdown",
   "id": "universal-strike",
   "metadata": {},
   "source": [
    "## Code examples"
   ]
  },
  {
   "cell_type": "code",
   "execution_count": 1,
   "id": "underlying-business",
   "metadata": {},
   "outputs": [
    {
     "data": {
      "text/plain": [
       "10.0"
      ]
     },
     "execution_count": 1,
     "metadata": {},
     "output_type": "execute_result"
    }
   ],
   "source": [
    "float(10)"
   ]
  },
  {
   "cell_type": "code",
   "execution_count": 2,
   "id": "funny-synthesis",
   "metadata": {},
   "outputs": [
    {
     "data": {
      "text/plain": [
       "10.4"
      ]
     },
     "execution_count": 2,
     "metadata": {},
     "output_type": "execute_result"
    }
   ],
   "source": [
    "float(10.4)"
   ]
  },
  {
   "cell_type": "code",
   "execution_count": 3,
   "id": "separate-newsletter",
   "metadata": {},
   "outputs": [
    {
     "data": {
      "text/plain": [
       "12.5"
      ]
     },
     "execution_count": 3,
     "metadata": {},
     "output_type": "execute_result"
    }
   ],
   "source": [
    "float(\"12.5\")"
   ]
  },
  {
   "cell_type": "markdown",
   "id": "circular-unemployment",
   "metadata": {},
   "source": [
    "Float from a string fraction raises a ValueError exception"
   ]
  },
  {
   "cell_type": "code",
   "execution_count": 6,
   "id": "entertaining-twins",
   "metadata": {},
   "outputs": [
    {
     "ename": "ValueError",
     "evalue": "could not convert string to float: '1/7'",
     "output_type": "error",
     "traceback": [
      "\u001b[0;31m---------------------------------------------------------------------------\u001b[0m",
      "\u001b[0;31mValueError\u001b[0m                                Traceback (most recent call last)",
      "\u001b[0;32m<ipython-input-6-af90f7de8da8>\u001b[0m in \u001b[0;36m<module>\u001b[0;34m\u001b[0m\n\u001b[0;32m----> 1\u001b[0;31m \u001b[0mfloat\u001b[0m\u001b[0;34m(\u001b[0m\u001b[0;34m\"1/7\"\u001b[0m\u001b[0;34m)\u001b[0m\u001b[0;34m\u001b[0m\u001b[0;34m\u001b[0m\u001b[0m\n\u001b[0m",
      "\u001b[0;31mValueError\u001b[0m: could not convert string to float: '1/7'"
     ]
    }
   ],
   "source": [
    "float(\"1/7\")"
   ]
  },
  {
   "cell_type": "code",
   "execution_count": 8,
   "id": "coastal-lemon",
   "metadata": {},
   "outputs": [],
   "source": [
    "from fractions import Fraction"
   ]
  },
  {
   "cell_type": "code",
   "execution_count": 9,
   "id": "forbidden-austria",
   "metadata": {},
   "outputs": [],
   "source": [
    "a = Fraction(\"22/7\")"
   ]
  },
  {
   "cell_type": "code",
   "execution_count": 10,
   "id": "inappropriate-relevance",
   "metadata": {},
   "outputs": [
    {
     "data": {
      "text/plain": [
       "3.142857142857143"
      ]
     },
     "execution_count": 10,
     "metadata": {},
     "output_type": "execute_result"
    }
   ],
   "source": [
    "float(a)"
   ]
  },
  {
   "cell_type": "markdown",
   "id": "fixed-shoot",
   "metadata": {},
   "source": [
    "Python will sometimes use smaller precision but internally the float has a\n",
    "different precision"
   ]
  },
  {
   "cell_type": "code",
   "execution_count": 11,
   "id": "automated-contribution",
   "metadata": {},
   "outputs": [
    {
     "name": "stdout",
     "output_type": "stream",
     "text": [
      "0.1\n"
     ]
    }
   ],
   "source": [
    "print(0.1)"
   ]
  },
  {
   "cell_type": "code",
   "execution_count": 12,
   "id": "traditional-tablet",
   "metadata": {},
   "outputs": [
    {
     "data": {
      "text/plain": [
       "'0.100000000000000'"
      ]
     },
     "execution_count": 12,
     "metadata": {},
     "output_type": "execute_result"
    }
   ],
   "source": [
    "format(0.1, \".15f\")"
   ]
  },
  {
   "cell_type": "code",
   "execution_count": 13,
   "id": "adverse-intro",
   "metadata": {},
   "outputs": [
    {
     "data": {
      "text/plain": [
       "'0.1000000000000000055511151'"
      ]
     },
     "execution_count": 13,
     "metadata": {},
     "output_type": "execute_result"
    }
   ],
   "source": [
    "format(0.1, \".25f\")"
   ]
  },
  {
   "cell_type": "markdown",
   "id": "pleasant-ceramic",
   "metadata": {},
   "source": [
    "There are some float numbers that have an exact float representation"
   ]
  },
  {
   "cell_type": "code",
   "execution_count": 14,
   "id": "passing-mailman",
   "metadata": {},
   "outputs": [
    {
     "name": "stdout",
     "output_type": "stream",
     "text": [
      "0.125\n"
     ]
    }
   ],
   "source": [
    "print(0.125)"
   ]
  },
  {
   "cell_type": "code",
   "execution_count": 15,
   "id": "spare-master",
   "metadata": {},
   "outputs": [
    {
     "data": {
      "text/plain": [
       "0.125"
      ]
     },
     "execution_count": 15,
     "metadata": {},
     "output_type": "execute_result"
    }
   ],
   "source": [
    "1/8"
   ]
  },
  {
   "cell_type": "code",
   "execution_count": 16,
   "id": "finite-palmer",
   "metadata": {},
   "outputs": [
    {
     "data": {
      "text/plain": [
       "'0.1250000000000000000000000'"
      ]
     },
     "execution_count": 16,
     "metadata": {},
     "output_type": "execute_result"
    }
   ],
   "source": [
    "format(0.125, \".25f\")"
   ]
  },
  {
   "cell_type": "markdown",
   "id": "molecular-permission",
   "metadata": {},
   "source": [
    "# Floats: Equality Testing\n",
    "\n",
    "- float equality can lead to some \"weirdness\", 0.1 + 0.1 + 0.1 != 0.3\n",
    "- equality can be compared with absolute tolerances, format(f, tolarance)\n",
    "\n",
    "## Example of absolute tolerances\n",
    "\n",
    "x = 0.1 + 0.1 + 0.1 --> 0.30000000000000004441\n",
    "\n",
    "y = 0.3 --> 0.2 --> 0.29999999999999998890\n",
    "\n",
    "difference: 0.00000000000000005551\n",
    "\n",
    "Using absolute tolerances, \n",
    "\n",
    "abs_tol = 10^-15 = 0.000000000000001\n",
    "\n",
    "math.fabs(x - y) < abs_tol   <-- True\n",
    "\n",
    "a = 10000.1 + 10000.1 + 10000.1 --> 30000.30000000000291038305\n",
    "\n",
    "b = 30000.3 --> 30000.29999999999927240424\n",
    "\n",
    "difference: 0.0000000000033797881\n",
    "\n",
    "math.fabs(a - b) < abs_tol   <-- False\n"
   ]
  },
  {
   "cell_type": "markdown",
   "id": "still-humanitarian",
   "metadata": {},
   "source": [
    "## Examples of relative tolerances\n",
    "\n",
    "### small numbers\n",
    "\n",
    "rel_tol = 0.001% = 1e-5\n",
    "\n",
    "tol = rel_tol * max(|x|, |y|)\n",
    "\n",
    "x = 0.1 + 0.1 + 0.1\n",
    "\n",
    "y = 0.3 --> 0.2\n",
    "\n",
    "tol = 0.000003000000000\n",
    "\n",
    "math.fabs(x - y) < tol   <-- True\n",
    "\n",
    "\n",
    "### Big numbers\n",
    "\n",
    "x = 10000.1 + 10000.1 + 10000.1\n",
    "\n",
    "y = 30000.3\n",
    "\n",
    "tol = 0.300003000000000\n",
    "\n",
    "math.fabs(a - b) < tol   <-- True"
   ]
  },
  {
   "cell_type": "markdown",
   "id": "floating-interim",
   "metadata": {},
   "source": [
    "## Combining both techniques\n",
    "\n",
    "- use the larger of the two tolerances\n",
    "- math uses this solution as described in PEP 485\n",
    "- math.isclose(a, b, *, rel_tol-le-09, abs_tol=0.0)\n",
    "- math.isclose defaults is not good for values close to 0"
   ]
  },
  {
   "cell_type": "markdown",
   "id": "existing-powder",
   "metadata": {},
   "source": [
    "## Code Examples"
   ]
  },
  {
   "cell_type": "code",
   "execution_count": 17,
   "id": "ecological-pound",
   "metadata": {},
   "outputs": [],
   "source": [
    "x = 0.1"
   ]
  },
  {
   "cell_type": "code",
   "execution_count": 18,
   "id": "forbidden-volunteer",
   "metadata": {},
   "outputs": [
    {
     "data": {
      "text/plain": [
       "'0.1000000000000000055511151'"
      ]
     },
     "execution_count": 18,
     "metadata": {},
     "output_type": "execute_result"
    }
   ],
   "source": [
    "format(x, \".25f\")"
   ]
  },
  {
   "cell_type": "code",
   "execution_count": 19,
   "id": "general-reduction",
   "metadata": {},
   "outputs": [],
   "source": [
    "x = 0.125"
   ]
  },
  {
   "cell_type": "code",
   "execution_count": 20,
   "id": "confidential-aruba",
   "metadata": {},
   "outputs": [
    {
     "data": {
      "text/plain": [
       "'0.1250000000000000000000000'"
      ]
     },
     "execution_count": 20,
     "metadata": {},
     "output_type": "execute_result"
    }
   ],
   "source": [
    "format(x, \".25f\")"
   ]
  },
  {
   "cell_type": "code",
   "execution_count": 21,
   "id": "macro-conjunction",
   "metadata": {},
   "outputs": [],
   "source": [
    "x = 0.125 + 0.125 + 0.125"
   ]
  },
  {
   "cell_type": "code",
   "execution_count": 22,
   "id": "female-pricing",
   "metadata": {},
   "outputs": [],
   "source": [
    "y = 0.375"
   ]
  },
  {
   "cell_type": "code",
   "execution_count": 23,
   "id": "million-death",
   "metadata": {},
   "outputs": [
    {
     "data": {
      "text/plain": [
       "True"
      ]
     },
     "execution_count": 23,
     "metadata": {},
     "output_type": "execute_result"
    }
   ],
   "source": [
    "x == y"
   ]
  },
  {
   "cell_type": "code",
   "execution_count": 24,
   "id": "alleged-trader",
   "metadata": {},
   "outputs": [],
   "source": [
    "x = 0.1 + 0.1 + 0.1"
   ]
  },
  {
   "cell_type": "code",
   "execution_count": 25,
   "id": "appreciated-sewing",
   "metadata": {},
   "outputs": [],
   "source": [
    "y = 0.3"
   ]
  },
  {
   "cell_type": "code",
   "execution_count": 26,
   "id": "signed-tunnel",
   "metadata": {},
   "outputs": [
    {
     "data": {
      "text/plain": [
       "False"
      ]
     },
     "execution_count": 26,
     "metadata": {},
     "output_type": "execute_result"
    }
   ],
   "source": [
    "x == y"
   ]
  },
  {
   "cell_type": "code",
   "execution_count": 28,
   "id": "wrapped-furniture",
   "metadata": {},
   "outputs": [
    {
     "data": {
      "text/plain": [
       "'0.3000000000000000444089210'"
      ]
     },
     "execution_count": 28,
     "metadata": {},
     "output_type": "execute_result"
    }
   ],
   "source": [
    "format(x, \".25f\")"
   ]
  },
  {
   "cell_type": "code",
   "execution_count": 29,
   "id": "excess-billy",
   "metadata": {},
   "outputs": [
    {
     "data": {
      "text/plain": [
       "'0.2999999999999999888977698'"
      ]
     },
     "execution_count": 29,
     "metadata": {},
     "output_type": "execute_result"
    }
   ],
   "source": [
    "format(y, \".25f\")"
   ]
  },
  {
   "cell_type": "code",
   "execution_count": 27,
   "id": "dirty-uniform",
   "metadata": {},
   "outputs": [
    {
     "data": {
      "text/plain": [
       "True"
      ]
     },
     "execution_count": 27,
     "metadata": {},
     "output_type": "execute_result"
    }
   ],
   "source": [
    "round(x, 3) == round(y, 3)"
   ]
  },
  {
   "cell_type": "code",
   "execution_count": 31,
   "id": "excellent-aspect",
   "metadata": {},
   "outputs": [
    {
     "data": {
      "text/plain": [
       "0.9999990000019999"
      ]
     },
     "execution_count": 31,
     "metadata": {},
     "output_type": "execute_result"
    }
   ],
   "source": [
    "x = 10000.01\n",
    "y = 10000.02\n",
    "x/y"
   ]
  },
  {
   "cell_type": "code",
   "execution_count": 36,
   "id": "unavailable-malawi",
   "metadata": {},
   "outputs": [
    {
     "data": {
      "text/plain": [
       "0.5"
      ]
     },
     "execution_count": 36,
     "metadata": {},
     "output_type": "execute_result"
    }
   ],
   "source": [
    "x = 0.1\n",
    "y = 0.2\n",
    "x/y"
   ]
  },
  {
   "cell_type": "code",
   "execution_count": 33,
   "id": "fatty-concept",
   "metadata": {},
   "outputs": [],
   "source": [
    "from math import isclose"
   ]
  },
  {
   "cell_type": "code",
   "execution_count": 38,
   "id": "fleet-search",
   "metadata": {},
   "outputs": [],
   "source": [
    "x = 0.1+ 0.1 + 0.1\n",
    "y = 0.3"
   ]
  },
  {
   "cell_type": "code",
   "execution_count": 39,
   "id": "fundamental-woman",
   "metadata": {},
   "outputs": [
    {
     "data": {
      "text/plain": [
       "True"
      ]
     },
     "execution_count": 39,
     "metadata": {},
     "output_type": "execute_result"
    }
   ],
   "source": [
    "isclose(x, y)"
   ]
  },
  {
   "cell_type": "code",
   "execution_count": 40,
   "id": "signed-aquatic",
   "metadata": {},
   "outputs": [
    {
     "data": {
      "text/plain": [
       "False"
      ]
     },
     "execution_count": 40,
     "metadata": {},
     "output_type": "execute_result"
    }
   ],
   "source": [
    "x == y"
   ]
  },
  {
   "cell_type": "code",
   "execution_count": 41,
   "id": "earlier-pitch",
   "metadata": {},
   "outputs": [],
   "source": [
    "x = 123456789.01\n",
    "y = 123456789.02"
   ]
  },
  {
   "cell_type": "code",
   "execution_count": 42,
   "id": "atomic-precipitation",
   "metadata": {},
   "outputs": [
    {
     "data": {
      "text/plain": [
       "True"
      ]
     },
     "execution_count": 42,
     "metadata": {},
     "output_type": "execute_result"
    }
   ],
   "source": [
    "isclose(x, y, rel_tol=0.01)"
   ]
  },
  {
   "cell_type": "code",
   "execution_count": 43,
   "id": "opening-sample",
   "metadata": {},
   "outputs": [
    {
     "data": {
      "text/plain": [
       "False"
      ]
     },
     "execution_count": 43,
     "metadata": {},
     "output_type": "execute_result"
    }
   ],
   "source": [
    "x = 0.01\n",
    "y = 0.02\n",
    "isclose(x, y, rel_tol=0.01)"
   ]
  },
  {
   "cell_type": "code",
   "execution_count": 44,
   "id": "surrounded-sauce",
   "metadata": {},
   "outputs": [
    {
     "data": {
      "text/plain": [
       "False"
      ]
     },
     "execution_count": 44,
     "metadata": {},
     "output_type": "execute_result"
    }
   ],
   "source": [
    "x = 0.0000001\n",
    "y = 0.0000002\n",
    "isclose(x, y, rel_tol=0.01)"
   ]
  },
  {
   "cell_type": "code",
   "execution_count": 45,
   "id": "broad-seven",
   "metadata": {},
   "outputs": [
    {
     "data": {
      "text/plain": [
       "True"
      ]
     },
     "execution_count": 45,
     "metadata": {},
     "output_type": "execute_result"
    }
   ],
   "source": [
    "isclose(x, y, rel_tol=0.01, abs_tol=0.01)"
   ]
  },
  {
   "cell_type": "markdown",
   "id": "drawn-suggestion",
   "metadata": {},
   "source": [
    "# Floats: Coercing to Integers\n",
    "\n",
    "- float -> Integer\n",
    "- data loss\n",
    "- different ways to configure data loss\n",
    "\n",
    "Methods (data loss in all cases)\n",
    "\n",
    "- truncation\n",
    "- floor\n",
    "- ceiling\n",
    "- rounding\n",
    "\n",
    "## Truncation\n",
    "\n",
    "- returns the integer portion of the number\n",
    "- ignores everything after the decimal point\n",
    "- math.trunc()\n",
    "- ex: 10.4 -> 10\n",
    "- the int constructor uses truncation, ex: int(10.4) -> 10\n",
    "\n",
    "## Floor\n",
    "\n",
    "- returns the largest integer less than (or equal to) the number\n",
    "- ex: 10.4 -> 10, -10.4 -> -11\n",
    "- positive numbers, truncation and floor are equivalent\n",
    "- negative numbers, truncation and floor are different\n",
    "- //\n",
    "- math.floor()\n",
    "\n",
    "## Ceiling\n",
    "\n",
    "- returns the smallest integer greater than (or equal to) the number\n",
    "- ex: 10.4 -> 11, -10.3 -> -10\n",
    "- math.ceil()"
   ]
  },
  {
   "cell_type": "markdown",
   "id": "scheduled-workplace",
   "metadata": {},
   "source": [
    "## Code Examples"
   ]
  },
  {
   "cell_type": "code",
   "execution_count": 1,
   "id": "future-quality",
   "metadata": {},
   "outputs": [],
   "source": [
    "from math import trunc"
   ]
  },
  {
   "cell_type": "code",
   "execution_count": 2,
   "id": "personal-skill",
   "metadata": {},
   "outputs": [
    {
     "data": {
      "text/plain": [
       "(10, 10, 10)"
      ]
     },
     "execution_count": 2,
     "metadata": {},
     "output_type": "execute_result"
    }
   ],
   "source": [
    "trunc(10.3), trunc(10.5), trunc(10.9)"
   ]
  },
  {
   "cell_type": "code",
   "execution_count": 4,
   "id": "convenient-bangkok",
   "metadata": {},
   "outputs": [
    {
     "data": {
      "text/plain": [
       "(10, 10, 10)"
      ]
     },
     "execution_count": 4,
     "metadata": {},
     "output_type": "execute_result"
    }
   ],
   "source": [
    "int(10.4), int(10.5), int(10.9)"
   ]
  },
  {
   "cell_type": "code",
   "execution_count": 5,
   "id": "intellectual-receiver",
   "metadata": {},
   "outputs": [],
   "source": [
    "from math import floor"
   ]
  },
  {
   "cell_type": "code",
   "execution_count": 9,
   "id": "above-walnut",
   "metadata": {},
   "outputs": [
    {
     "data": {
      "text/plain": [
       "(10, 10, 10)"
      ]
     },
     "execution_count": 9,
     "metadata": {},
     "output_type": "execute_result"
    }
   ],
   "source": [
    "floor(10.3), floor(10.5), floor(10.9)"
   ]
  },
  {
   "cell_type": "code",
   "execution_count": 7,
   "id": "vietnamese-reproduction",
   "metadata": {},
   "outputs": [
    {
     "data": {
      "text/plain": [
       "(-10, -10, -10)"
      ]
     },
     "execution_count": 7,
     "metadata": {},
     "output_type": "execute_result"
    }
   ],
   "source": [
    "trunc(-10.3), trunc(-10.5), trunc(-10.9)"
   ]
  },
  {
   "cell_type": "code",
   "execution_count": 10,
   "id": "gorgeous-gardening",
   "metadata": {},
   "outputs": [
    {
     "data": {
      "text/plain": [
       "(-11, -11, -11)"
      ]
     },
     "execution_count": 10,
     "metadata": {},
     "output_type": "execute_result"
    }
   ],
   "source": [
    "floor(-10.3), floor(-10.5), floor(-10.9)"
   ]
  },
  {
   "cell_type": "code",
   "execution_count": 11,
   "id": "precise-revolution",
   "metadata": {},
   "outputs": [],
   "source": [
    "from math import ceil"
   ]
  },
  {
   "cell_type": "code",
   "execution_count": 12,
   "id": "disturbed-sitting",
   "metadata": {},
   "outputs": [
    {
     "data": {
      "text/plain": [
       "(11, 11, 11)"
      ]
     },
     "execution_count": 12,
     "metadata": {},
     "output_type": "execute_result"
    }
   ],
   "source": [
    "ceil(10.4), ceil(10.5), ceil(10.9)"
   ]
  },
  {
   "cell_type": "code",
   "execution_count": 13,
   "id": "impressive-express",
   "metadata": {},
   "outputs": [
    {
     "data": {
      "text/plain": [
       "(-10, -10, -10)"
      ]
     },
     "execution_count": 13,
     "metadata": {},
     "output_type": "execute_result"
    }
   ],
   "source": [
    "ceil(-10.4), ceil(-10.5), ceil(-10.9)"
   ]
  },
  {
   "cell_type": "markdown",
   "id": "excessive-ready",
   "metadata": {},
   "source": [
    "# Floats: Rounding\n",
    "\n",
    "- built-in function, round(x, n=0)\n",
    "- returns integer x to the closest multiple of 10 ^-n\n",
    "- by default, n = 0, round will return the int\n",
    "- passing an n argument, the return type is the same as the passed type\n",
    "- it looks at the differences between the passed value and the integer before and after in the 10^-n position.\n",
    "- the integer with smallest difference is returned value\n",
    "- ex: round(18.2, -1) -> 20.0\n",
    "- with ties, same difference, it rounds using banker's rounding\n",
    "- banker's rounding: it rounds to the nearest value with an even least significant digit\n",
    "- ex: round(1.25, 1) -> 1.2, round(-1.25, 1) -> -1.2  <-- Not 1.3, -1.3\n",
    "\n",
    "## Rounding away from zero\n",
    "\n",
    "- sign(x) * int(x + 0.5 * sign(x))\n",
    "- ex: 10.4 + 0.5 = 10.9 = int(10.9) = 10\n",
    "- ex: 10.5 + 0.5 = 11.0 = int(11.0) = 11\n",
    "\n",
    "## Math.copysign()\n",
    "\n",
    "- returns the magnitude (absolute value) of x but with the sign of y\n",
    "- copysign(x, y)"
   ]
  },
  {
   "cell_type": "markdown",
   "id": "designing-percentage",
   "metadata": {},
   "source": [
    "## Code Examples"
   ]
  },
  {
   "cell_type": "code",
   "execution_count": 14,
   "id": "static-syndication",
   "metadata": {},
   "outputs": [
    {
     "data": {
      "text/plain": [
       "(2, int)"
      ]
     },
     "execution_count": 14,
     "metadata": {},
     "output_type": "execute_result"
    }
   ],
   "source": [
    "a = round(1.9)\n",
    "a, type(a)"
   ]
  },
  {
   "cell_type": "code",
   "execution_count": 15,
   "id": "israeli-brush",
   "metadata": {},
   "outputs": [
    {
     "data": {
      "text/plain": [
       "(2.0, float)"
      ]
     },
     "execution_count": 15,
     "metadata": {},
     "output_type": "execute_result"
    }
   ],
   "source": [
    "a = round(1.9, 0)\n",
    "a, type(a)"
   ]
  },
  {
   "cell_type": "markdown",
   "id": "latter-workstation",
   "metadata": {},
   "source": [
    "### n > 0"
   ]
  },
  {
   "cell_type": "code",
   "execution_count": 17,
   "id": "sweet-expansion",
   "metadata": {},
   "outputs": [
    {
     "data": {
      "text/plain": [
       "(1.889, 1.89, 1.9, 2.0)"
      ]
     },
     "execution_count": 17,
     "metadata": {},
     "output_type": "execute_result"
    }
   ],
   "source": [
    "round(1.8888, 3), round(1.8888, 2), round(1.8888, 1), round(1.8888, 0)"
   ]
  },
  {
   "cell_type": "markdown",
   "id": "twelve-resort",
   "metadata": {},
   "source": [
    "### n < 0"
   ]
  },
  {
   "cell_type": "code",
   "execution_count": 20,
   "id": "temporal-royalty",
   "metadata": {},
   "outputs": [
    {
     "data": {
      "text/plain": [
       "(888.9, 889.0, 890.0, 900.0, 1000.0, 0.0)"
      ]
     },
     "execution_count": 20,
     "metadata": {},
     "output_type": "execute_result"
    }
   ],
   "source": [
    "round(888.88, 1), round(888.88, 0), \\\n",
    "round(888.88, -1), round(888.88, -2), round(888.88, -3), round(888.88, -4)"
   ]
  },
  {
   "cell_type": "markdown",
   "id": "economic-indianapolis",
   "metadata": {},
   "source": [
    "### Ties - Banker's Rounding"
   ]
  },
  {
   "cell_type": "code",
   "execution_count": 21,
   "id": "adult-compression",
   "metadata": {},
   "outputs": [
    {
     "data": {
      "text/plain": [
       "1.2"
      ]
     },
     "execution_count": 21,
     "metadata": {},
     "output_type": "execute_result"
    }
   ],
   "source": [
    "round(1.25, 1)"
   ]
  },
  {
   "cell_type": "code",
   "execution_count": 22,
   "id": "characteristic-correspondence",
   "metadata": {},
   "outputs": [
    {
     "data": {
      "text/plain": [
       "1.4"
      ]
     },
     "execution_count": 22,
     "metadata": {},
     "output_type": "execute_result"
    }
   ],
   "source": [
    "round(1.35, 1)"
   ]
  },
  {
   "cell_type": "code",
   "execution_count": 23,
   "id": "reliable-statistics",
   "metadata": {},
   "outputs": [
    {
     "data": {
      "text/plain": [
       "-1.2"
      ]
     },
     "execution_count": 23,
     "metadata": {},
     "output_type": "execute_result"
    }
   ],
   "source": [
    "round(-1.25, 1)"
   ]
  },
  {
   "cell_type": "code",
   "execution_count": 24,
   "id": "occupied-mission",
   "metadata": {},
   "outputs": [
    {
     "data": {
      "text/plain": [
       "-1.4"
      ]
     },
     "execution_count": 24,
     "metadata": {},
     "output_type": "execute_result"
    }
   ],
   "source": [
    "round(-1.35, 1)"
   ]
  },
  {
   "cell_type": "markdown",
   "id": "postal-sacrifice",
   "metadata": {},
   "source": [
    "### Impementing a float rounding away from 0 "
   ]
  },
  {
   "cell_type": "code",
   "execution_count": 25,
   "id": "criminal-paper",
   "metadata": {},
   "outputs": [],
   "source": [
    "from math import copysign\n",
    "\n",
    "def _round(x):\n",
    "    return int(x + 0.5 * copysign(1, x))"
   ]
  },
  {
   "cell_type": "code",
   "execution_count": 27,
   "id": "spatial-implement",
   "metadata": {},
   "outputs": [
    {
     "data": {
      "text/plain": [
       "(2, 2)"
      ]
     },
     "execution_count": 27,
     "metadata": {},
     "output_type": "execute_result"
    }
   ],
   "source": [
    "round(1.5), _round(1.5)"
   ]
  },
  {
   "cell_type": "code",
   "execution_count": 28,
   "id": "convertible-tanzania",
   "metadata": {},
   "outputs": [
    {
     "data": {
      "text/plain": [
       "(2, 3)"
      ]
     },
     "execution_count": 28,
     "metadata": {},
     "output_type": "execute_result"
    }
   ],
   "source": [
    "round(2.5), _round(2.5)"
   ]
  }
 ],
 "metadata": {
  "kernelspec": {
   "display_name": "Python 3",
   "language": "python",
   "name": "python3"
  },
  "language_info": {
   "codemirror_mode": {
    "name": "ipython",
    "version": 3
   },
   "file_extension": ".py",
   "mimetype": "text/x-python",
   "name": "python",
   "nbconvert_exporter": "python",
   "pygments_lexer": "ipython3",
   "version": "3.8.5"
  }
 },
 "nbformat": 4,
 "nbformat_minor": 5
}
