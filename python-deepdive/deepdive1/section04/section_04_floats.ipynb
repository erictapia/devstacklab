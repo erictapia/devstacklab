{
 "cells": [
  {
   "cell_type": "markdown",
   "id": "therapeutic-greek",
   "metadata": {},
   "source": [
    "# Floats: Internal Representations\n",
    "\n",
    "- is Python's default implementation for representing real numbers\n",
    "- implemented using the C double type, also called binary64\n",
    "- uses a fixed number of bytes, 8 bytes but with overhead is 24 bytes\n",
    "- infinite numbers have an approximate float representation\n",
    "\n",
    "64 bits structure:\n",
    "- sign: 1 bit\n",
    "- exponent: 11 bits, range: -1022, 1023\n",
    "- significant digits: 52 bits, 15-17 significant (base 10) digits \n",
    "\n",
    "Examples:\n",
    "\n",
    "| Value | Sign | Exponent | Significant |\n",
    "| --- | --- | --- | --- |\n",
    "| 1.2345 | 0 | -4 | 12345 |\n",
    "| 1234.5 | 0 | -1 | 12345 |\n",
    "| 12345000000 | 0 | 6 | 12345 |\n",
    "| 0.00012345 | 0 | -3 | 12345 |\n",
    "| 12345e-50 | 0 | -50 | 12345 |\n",
    "\n",
    "Representation: decimal\n",
    "\n",
    "- numbers can be represented as base-10 intgers and fractions\n",
    "\n",
    "Examples:\n",
    "\n",
    "0.75 = 7/10 + 5/100 = 7 x 10^-1 + 5 x 10^-2\n",
    "\n",
    "0.256 = 2/10 + 5/100 + 6/1000 = 2 x 10^-1 + 5 x 10^-2 + 6 x 10^-3\n",
    "\n",
    "Representation: decimal\n",
    "\n",
    "- numbers are represented using bits, powers of 2\n",
    "- not all numbers have a finite binary representation\n",
    "\n",
    "Examples:\n",
    "\n",
    "binary float(0.11) = 1/2 + 1/4 = 1 x 2^-1 + 1 x 2^-2 (BASE 10)"
   ]
  },
  {
   "cell_type": "markdown",
   "id": "excited-longitude",
   "metadata": {},
   "source": [
    "# Code examples"
   ]
  },
  {
   "cell_type": "code",
   "execution_count": 1,
   "id": "valued-desperate",
   "metadata": {},
   "outputs": [
    {
     "data": {
      "text/plain": [
       "10.0"
      ]
     },
     "execution_count": 1,
     "metadata": {},
     "output_type": "execute_result"
    }
   ],
   "source": [
    "float(10)"
   ]
  },
  {
   "cell_type": "code",
   "execution_count": 2,
   "id": "peaceful-terminal",
   "metadata": {},
   "outputs": [
    {
     "data": {
      "text/plain": [
       "10.4"
      ]
     },
     "execution_count": 2,
     "metadata": {},
     "output_type": "execute_result"
    }
   ],
   "source": [
    "float(10.4)"
   ]
  },
  {
   "cell_type": "code",
   "execution_count": 3,
   "id": "tribal-times",
   "metadata": {},
   "outputs": [
    {
     "data": {
      "text/plain": [
       "12.5"
      ]
     },
     "execution_count": 3,
     "metadata": {},
     "output_type": "execute_result"
    }
   ],
   "source": [
    "float(\"12.5\")"
   ]
  },
  {
   "cell_type": "markdown",
   "id": "simplified-disco",
   "metadata": {},
   "source": [
    "Float from a string fraction raises a ValueError exception"
   ]
  },
  {
   "cell_type": "code",
   "execution_count": 6,
   "id": "operational-paper",
   "metadata": {},
   "outputs": [
    {
     "ename": "ValueError",
     "evalue": "could not convert string to float: '1/7'",
     "output_type": "error",
     "traceback": [
      "\u001b[0;31m---------------------------------------------------------------------------\u001b[0m",
      "\u001b[0;31mValueError\u001b[0m                                Traceback (most recent call last)",
      "\u001b[0;32m<ipython-input-6-af90f7de8da8>\u001b[0m in \u001b[0;36m<module>\u001b[0;34m\u001b[0m\n\u001b[0;32m----> 1\u001b[0;31m \u001b[0mfloat\u001b[0m\u001b[0;34m(\u001b[0m\u001b[0;34m\"1/7\"\u001b[0m\u001b[0;34m)\u001b[0m\u001b[0;34m\u001b[0m\u001b[0;34m\u001b[0m\u001b[0m\n\u001b[0m",
      "\u001b[0;31mValueError\u001b[0m: could not convert string to float: '1/7'"
     ]
    }
   ],
   "source": [
    "float(\"1/7\")"
   ]
  },
  {
   "cell_type": "code",
   "execution_count": 8,
   "id": "higher-ocean",
   "metadata": {},
   "outputs": [],
   "source": [
    "from fractions import Fraction"
   ]
  },
  {
   "cell_type": "code",
   "execution_count": 9,
   "id": "offshore-boating",
   "metadata": {},
   "outputs": [],
   "source": [
    "a = Fraction(\"22/7\")"
   ]
  },
  {
   "cell_type": "code",
   "execution_count": 10,
   "id": "compliant-young",
   "metadata": {},
   "outputs": [
    {
     "data": {
      "text/plain": [
       "3.142857142857143"
      ]
     },
     "execution_count": 10,
     "metadata": {},
     "output_type": "execute_result"
    }
   ],
   "source": [
    "float(a)"
   ]
  },
  {
   "cell_type": "markdown",
   "id": "bright-sarah",
   "metadata": {},
   "source": [
    "Python will sometimes use smaller precision but internally the float has a\n",
    "different precision"
   ]
  },
  {
   "cell_type": "code",
   "execution_count": 11,
   "id": "pediatric-fifteen",
   "metadata": {},
   "outputs": [
    {
     "name": "stdout",
     "output_type": "stream",
     "text": [
      "0.1\n"
     ]
    }
   ],
   "source": [
    "print(0.1)"
   ]
  },
  {
   "cell_type": "code",
   "execution_count": 12,
   "id": "interested-transport",
   "metadata": {},
   "outputs": [
    {
     "data": {
      "text/plain": [
       "'0.100000000000000'"
      ]
     },
     "execution_count": 12,
     "metadata": {},
     "output_type": "execute_result"
    }
   ],
   "source": [
    "format(0.1, \".15f\")"
   ]
  },
  {
   "cell_type": "code",
   "execution_count": 13,
   "id": "indonesian-change",
   "metadata": {},
   "outputs": [
    {
     "data": {
      "text/plain": [
       "'0.1000000000000000055511151'"
      ]
     },
     "execution_count": 13,
     "metadata": {},
     "output_type": "execute_result"
    }
   ],
   "source": [
    "format(0.1, \".25f\")"
   ]
  },
  {
   "cell_type": "markdown",
   "id": "working-bridge",
   "metadata": {},
   "source": [
    "There are some float numbers that have an exact float representation"
   ]
  },
  {
   "cell_type": "code",
   "execution_count": 14,
   "id": "registered-plain",
   "metadata": {},
   "outputs": [
    {
     "name": "stdout",
     "output_type": "stream",
     "text": [
      "0.125\n"
     ]
    }
   ],
   "source": [
    "print(0.125)"
   ]
  },
  {
   "cell_type": "code",
   "execution_count": 15,
   "id": "quick-patio",
   "metadata": {},
   "outputs": [
    {
     "data": {
      "text/plain": [
       "0.125"
      ]
     },
     "execution_count": 15,
     "metadata": {},
     "output_type": "execute_result"
    }
   ],
   "source": [
    "1/8"
   ]
  },
  {
   "cell_type": "code",
   "execution_count": 16,
   "id": "graduate-concrete",
   "metadata": {},
   "outputs": [
    {
     "data": {
      "text/plain": [
       "'0.1250000000000000000000000'"
      ]
     },
     "execution_count": 16,
     "metadata": {},
     "output_type": "execute_result"
    }
   ],
   "source": [
    "format(0.125, \".25f\")"
   ]
  },
  {
   "cell_type": "markdown",
   "id": "shared-egypt",
   "metadata": {},
   "source": [
    "# Floats: Equality Testing\n",
    "\n",
    "- float equality can lead to some \"weirdness\", 0.1 + 0.1 + 0.1 != 0.3\n",
    "- equality can be compared with absolute tolerances, format(f, tolarance)\n",
    "\n",
    "## Example of absolute tolerances\n",
    "\n",
    "x = 0.1 + 0.1 + 0.1 --> 0.30000000000000004441\n",
    "\n",
    "y = 0.3 --> 0.2 --> 0.29999999999999998890\n",
    "\n",
    "difference: 0.00000000000000005551\n",
    "\n",
    "Using absolute tolerances, \n",
    "\n",
    "abs_tol = 10^-15 = 0.000000000000001\n",
    "\n",
    "math.fabs(x - y) < abs_tol   <-- True\n",
    "\n",
    "a = 10000.1 + 10000.1 + 10000.1 --> 30000.30000000000291038305\n",
    "\n",
    "b = 30000.3 --> 30000.29999999999927240424\n",
    "\n",
    "difference: 0.0000000000033797881\n",
    "\n",
    "math.fabs(a - b) < abs_tol   <-- False\n"
   ]
  },
  {
   "cell_type": "markdown",
   "id": "chinese-consent",
   "metadata": {},
   "source": [
    "## Examples of relative tolerances\n",
    "\n",
    "### small numbers\n",
    "\n",
    "rel_tol = 0.001% = 1e-5\n",
    "\n",
    "tol = rel_tol * max(|x|, |y|)\n",
    "\n",
    "x = 0.1 + 0.1 + 0.1\n",
    "\n",
    "y = 0.3 --> 0.2\n",
    "\n",
    "tol = 0.000003000000000\n",
    "\n",
    "math.fabs(x - y) < tol   <-- True\n",
    "\n",
    "\n",
    "### Big numbers\n",
    "\n",
    "x = 10000.1 + 10000.1 + 10000.1\n",
    "\n",
    "y = 30000.3\n",
    "\n",
    "tol = 0.300003000000000\n",
    "\n",
    "math.fabs(a - b) < tol   <-- True"
   ]
  },
  {
   "cell_type": "markdown",
   "id": "romantic-insertion",
   "metadata": {},
   "source": [
    "## Combining both techniques\n",
    "\n",
    "- use the larger of the two tolerances\n",
    "- math uses this solution as described in PEP 485\n",
    "- math.isclose(a, b, *, rel_tol-le-09, abs_tol=0.0)\n",
    "- math.isclose defaults is not good for values close to 0"
   ]
  },
  {
   "cell_type": "markdown",
   "id": "geographic-oxide",
   "metadata": {},
   "source": [
    "# Code Examples"
   ]
  },
  {
   "cell_type": "code",
   "execution_count": 17,
   "id": "plastic-setting",
   "metadata": {},
   "outputs": [],
   "source": [
    "x = 0.1"
   ]
  },
  {
   "cell_type": "code",
   "execution_count": 18,
   "id": "sufficient-breathing",
   "metadata": {},
   "outputs": [
    {
     "data": {
      "text/plain": [
       "'0.1000000000000000055511151'"
      ]
     },
     "execution_count": 18,
     "metadata": {},
     "output_type": "execute_result"
    }
   ],
   "source": [
    "format(x, \".25f\")"
   ]
  },
  {
   "cell_type": "code",
   "execution_count": 19,
   "id": "editorial-people",
   "metadata": {},
   "outputs": [],
   "source": [
    "x = 0.125"
   ]
  },
  {
   "cell_type": "code",
   "execution_count": 20,
   "id": "frequent-funeral",
   "metadata": {},
   "outputs": [
    {
     "data": {
      "text/plain": [
       "'0.1250000000000000000000000'"
      ]
     },
     "execution_count": 20,
     "metadata": {},
     "output_type": "execute_result"
    }
   ],
   "source": [
    "format(x, \".25f\")"
   ]
  },
  {
   "cell_type": "code",
   "execution_count": 21,
   "id": "intended-rebate",
   "metadata": {},
   "outputs": [],
   "source": [
    "x = 0.125 + 0.125 + 0.125"
   ]
  },
  {
   "cell_type": "code",
   "execution_count": 22,
   "id": "difficult-admission",
   "metadata": {},
   "outputs": [],
   "source": [
    "y = 0.375"
   ]
  },
  {
   "cell_type": "code",
   "execution_count": 23,
   "id": "emerging-cambridge",
   "metadata": {},
   "outputs": [
    {
     "data": {
      "text/plain": [
       "True"
      ]
     },
     "execution_count": 23,
     "metadata": {},
     "output_type": "execute_result"
    }
   ],
   "source": [
    "x == y"
   ]
  },
  {
   "cell_type": "code",
   "execution_count": 24,
   "id": "sharp-swimming",
   "metadata": {},
   "outputs": [],
   "source": [
    "x = 0.1 + 0.1 + 0.1"
   ]
  },
  {
   "cell_type": "code",
   "execution_count": 25,
   "id": "abroad-decline",
   "metadata": {},
   "outputs": [],
   "source": [
    "y = 0.3"
   ]
  },
  {
   "cell_type": "code",
   "execution_count": 26,
   "id": "tribal-technical",
   "metadata": {},
   "outputs": [
    {
     "data": {
      "text/plain": [
       "False"
      ]
     },
     "execution_count": 26,
     "metadata": {},
     "output_type": "execute_result"
    }
   ],
   "source": [
    "x == y"
   ]
  },
  {
   "cell_type": "code",
   "execution_count": 28,
   "id": "fundamental-shock",
   "metadata": {},
   "outputs": [
    {
     "data": {
      "text/plain": [
       "'0.3000000000000000444089210'"
      ]
     },
     "execution_count": 28,
     "metadata": {},
     "output_type": "execute_result"
    }
   ],
   "source": [
    "format(x, \".25f\")"
   ]
  },
  {
   "cell_type": "code",
   "execution_count": 29,
   "id": "proved-stable",
   "metadata": {},
   "outputs": [
    {
     "data": {
      "text/plain": [
       "'0.2999999999999999888977698'"
      ]
     },
     "execution_count": 29,
     "metadata": {},
     "output_type": "execute_result"
    }
   ],
   "source": [
    "format(y, \".25f\")"
   ]
  },
  {
   "cell_type": "code",
   "execution_count": 27,
   "id": "quiet-graph",
   "metadata": {},
   "outputs": [
    {
     "data": {
      "text/plain": [
       "True"
      ]
     },
     "execution_count": 27,
     "metadata": {},
     "output_type": "execute_result"
    }
   ],
   "source": [
    "round(x, 3) == round(y, 3)"
   ]
  },
  {
   "cell_type": "code",
   "execution_count": 31,
   "id": "constitutional-aquarium",
   "metadata": {},
   "outputs": [
    {
     "data": {
      "text/plain": [
       "0.9999990000019999"
      ]
     },
     "execution_count": 31,
     "metadata": {},
     "output_type": "execute_result"
    }
   ],
   "source": [
    "x = 10000.01\n",
    "y = 10000.02\n",
    "x/y"
   ]
  },
  {
   "cell_type": "code",
   "execution_count": 36,
   "id": "medical-prairie",
   "metadata": {},
   "outputs": [
    {
     "data": {
      "text/plain": [
       "0.5"
      ]
     },
     "execution_count": 36,
     "metadata": {},
     "output_type": "execute_result"
    }
   ],
   "source": [
    "x = 0.1\n",
    "y = 0.2\n",
    "x/y"
   ]
  },
  {
   "cell_type": "code",
   "execution_count": 33,
   "id": "supported-oxygen",
   "metadata": {},
   "outputs": [],
   "source": [
    "from math import isclose"
   ]
  },
  {
   "cell_type": "code",
   "execution_count": 38,
   "id": "opened-harvest",
   "metadata": {},
   "outputs": [],
   "source": [
    "x = 0.1+ 0.1 + 0.1\n",
    "y = 0.3"
   ]
  },
  {
   "cell_type": "code",
   "execution_count": 39,
   "id": "following-seating",
   "metadata": {},
   "outputs": [
    {
     "data": {
      "text/plain": [
       "True"
      ]
     },
     "execution_count": 39,
     "metadata": {},
     "output_type": "execute_result"
    }
   ],
   "source": [
    "isclose(x, y)"
   ]
  },
  {
   "cell_type": "code",
   "execution_count": 40,
   "id": "specified-revision",
   "metadata": {},
   "outputs": [
    {
     "data": {
      "text/plain": [
       "False"
      ]
     },
     "execution_count": 40,
     "metadata": {},
     "output_type": "execute_result"
    }
   ],
   "source": [
    "x == y"
   ]
  },
  {
   "cell_type": "code",
   "execution_count": 41,
   "id": "iraqi-sacrifice",
   "metadata": {},
   "outputs": [],
   "source": [
    "x = 123456789.01\n",
    "y = 123456789.02"
   ]
  },
  {
   "cell_type": "code",
   "execution_count": 42,
   "id": "tender-roads",
   "metadata": {},
   "outputs": [
    {
     "data": {
      "text/plain": [
       "True"
      ]
     },
     "execution_count": 42,
     "metadata": {},
     "output_type": "execute_result"
    }
   ],
   "source": [
    "isclose(x, y, rel_tol=0.01)"
   ]
  },
  {
   "cell_type": "code",
   "execution_count": 43,
   "id": "shaped-intensity",
   "metadata": {},
   "outputs": [
    {
     "data": {
      "text/plain": [
       "False"
      ]
     },
     "execution_count": 43,
     "metadata": {},
     "output_type": "execute_result"
    }
   ],
   "source": [
    "x = 0.01\n",
    "y = 0.02\n",
    "isclose(x, y, rel_tol=0.01)"
   ]
  },
  {
   "cell_type": "code",
   "execution_count": 44,
   "id": "atmospheric-senator",
   "metadata": {},
   "outputs": [
    {
     "data": {
      "text/plain": [
       "False"
      ]
     },
     "execution_count": 44,
     "metadata": {},
     "output_type": "execute_result"
    }
   ],
   "source": [
    "x = 0.0000001\n",
    "y = 0.0000002\n",
    "isclose(x, y, rel_tol=0.01)"
   ]
  },
  {
   "cell_type": "code",
   "execution_count": 45,
   "id": "recreational-treasury",
   "metadata": {},
   "outputs": [
    {
     "data": {
      "text/plain": [
       "True"
      ]
     },
     "execution_count": 45,
     "metadata": {},
     "output_type": "execute_result"
    }
   ],
   "source": [
    "isclose(x, y, rel_tol=0.01, abs_tol=0.01)"
   ]
  }
 ],
 "metadata": {
  "kernelspec": {
   "display_name": "Python 3",
   "language": "python",
   "name": "python3"
  },
  "language_info": {
   "codemirror_mode": {
    "name": "ipython",
    "version": 3
   },
   "file_extension": ".py",
   "mimetype": "text/x-python",
   "name": "python",
   "nbconvert_exporter": "python",
   "pygments_lexer": "ipython3",
   "version": "3.8.5"
  }
 },
 "nbformat": 4,
 "nbformat_minor": 5
}
