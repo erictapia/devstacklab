{
 "cells": [
  {
   "cell_type": "markdown",
   "id": "aboriginal-healing",
   "metadata": {},
   "source": [
    "# Decimals\n",
    "\n",
    "- have a context that controls aspects of working with decimals, precision and rounding\n",
    "- context can be global (default) or teimporary (local)\n",
    "- import decimal\n",
    "- default context: decimal.getcontext()\n",
    "- local context: decimal.localcontext(ctx=None) <-- returns a context manager (with)\n",
    "\n",
    "## Why use decimals?\n",
    "\n",
    "- float's have a finite number of decimal expansion\n",
    "- Fraction's is complex and requires extra memory\n",
    "\n",
    "## Precision and Rounding\n",
    "\n",
    "precision: during arithmetic operations\n",
    "\n",
    "rounding: algorithm\n",
    "\n",
    "### Get context\n",
    "\n",
    "ctx = decimal.getcontext()\n",
    "\n",
    "### Get or set the precision (value is an int)\n",
    "\n",
    "ctx.prec\n",
    "\n",
    "### Get or set the rounding mechanism (value is a string)\n",
    "\n",
    "ctx.rounding\n",
    "\n",
    "| Algorithm | Description |\n",
    "| --- | --- |\n",
    "| ROUND_UP | rounds away from zero |\n",
    "| ROUND_DOWN | rounds toward zero |\n",
    "| ROUND_CEILING | rounds to ceiling (infinity) |\n",
    "| ROUND_FLOOR | rounds to floor (-infinity) |\n",
    "| ROUND_HALF_UP | rounds to nearest, ties away from zero |\n",
    "| ROUND_HALF_DOWN | rounds to nearest, ties towards zero |\n",
    "| ROUND_EVEN | rounds to nearest, ties to even (lease significant digit) |\n",
    "\n",
    "## Working with Global and Local Contexts\n",
    "\n",
    "### Global\n",
    "\n",
    "All operations will use the global contexts and any changes to the\n",
    "global contexts will stick.\n",
    "\n",
    "Setting the global context rounding \n",
    "\n",
    "decimal.getcontext().rounding = decimal.ROUND_HALF_UP\n",
    "\n",
    "### Local\n",
    "\n",
    "Operations will use the local contexts only with statements inside the\n",
    "with block\n",
    "\n",
    "<pre>\n",
    "with decimal.localcontext() as ctx:\n",
    "\n",
    "  ctx.prec = 2\n",
    "\n",
    "  ctx.rounding = decimal.ROUND_HALF_UP\n",
    "</pre>"
   ]
  },
  {
   "cell_type": "markdown",
   "id": "incident-spouse",
   "metadata": {},
   "source": [
    "### Code Examples"
   ]
  },
  {
   "cell_type": "code",
   "execution_count": 12,
   "id": "accepting-presence",
   "metadata": {},
   "outputs": [],
   "source": [
    "import decimal\n",
    "from decimal import Decimal"
   ]
  },
  {
   "cell_type": "code",
   "execution_count": 13,
   "id": "psychological-prize",
   "metadata": {},
   "outputs": [
    {
     "data": {
      "text/plain": [
       "Context(prec=28, rounding=ROUND_HALF_EVEN, Emin=-999999, Emax=999999, capitals=1, clamp=0, flags=[], traps=[InvalidOperation, DivisionByZero, Overflow])"
      ]
     },
     "execution_count": 13,
     "metadata": {},
     "output_type": "execute_result"
    }
   ],
   "source": [
    "decimal.getcontext()"
   ]
  },
  {
   "cell_type": "code",
   "execution_count": 14,
   "id": "through-manufacturer",
   "metadata": {},
   "outputs": [
    {
     "data": {
      "text/plain": [
       "'ROUND_HALF_EVEN'"
      ]
     },
     "execution_count": 14,
     "metadata": {},
     "output_type": "execute_result"
    }
   ],
   "source": [
    "decimal.getcontext().rounding"
   ]
  },
  {
   "cell_type": "markdown",
   "id": "academic-answer",
   "metadata": {},
   "source": [
    "### Jupyter BUG:\n",
    "\n",
    "- decimal.getcontext().prec is not working correctly"
   ]
  },
  {
   "cell_type": "code",
   "execution_count": 15,
   "id": "according-security",
   "metadata": {},
   "outputs": [],
   "source": [
    "decimal.getcontext().prec = 6"
   ]
  },
  {
   "cell_type": "code",
   "execution_count": 17,
   "id": "steady-vehicle",
   "metadata": {},
   "outputs": [
    {
     "data": {
      "text/plain": [
       "Context(prec=28, rounding=ROUND_HALF_EVEN, Emin=-999999, Emax=999999, capitals=1, clamp=0, flags=[], traps=[InvalidOperation, DivisionByZero, Overflow])"
      ]
     },
     "execution_count": 17,
     "metadata": {},
     "output_type": "execute_result"
    }
   ],
   "source": [
    "decimal.getcontext()"
   ]
  },
  {
   "cell_type": "code",
   "execution_count": 18,
   "id": "parallel-measure",
   "metadata": {},
   "outputs": [],
   "source": [
    "g_ctx = decimal.getcontext()"
   ]
  },
  {
   "cell_type": "code",
   "execution_count": 19,
   "id": "common-marketing",
   "metadata": {},
   "outputs": [
    {
     "data": {
      "text/plain": [
       "decimal.Context"
      ]
     },
     "execution_count": 19,
     "metadata": {},
     "output_type": "execute_result"
    }
   ],
   "source": [
    "type(g_ctx)"
   ]
  },
  {
   "cell_type": "code",
   "execution_count": 20,
   "id": "speaking-story",
   "metadata": {},
   "outputs": [],
   "source": [
    "g_ctx.prec = 6"
   ]
  },
  {
   "cell_type": "code",
   "execution_count": 21,
   "id": "cellular-courtesy",
   "metadata": {},
   "outputs": [
    {
     "data": {
      "text/plain": [
       "Context(prec=6, rounding=ROUND_HALF_EVEN, Emin=-999999, Emax=999999, capitals=1, clamp=0, flags=[], traps=[InvalidOperation, DivisionByZero, Overflow])"
      ]
     },
     "execution_count": 21,
     "metadata": {},
     "output_type": "execute_result"
    }
   ],
   "source": [
    "g_ctx"
   ]
  },
  {
   "cell_type": "code",
   "execution_count": 22,
   "id": "declared-floor",
   "metadata": {},
   "outputs": [
    {
     "data": {
      "text/plain": [
       "Context(prec=28, rounding=ROUND_HALF_EVEN, Emin=-999999, Emax=999999, capitals=1, clamp=0, flags=[], traps=[InvalidOperation, DivisionByZero, Overflow])"
      ]
     },
     "execution_count": 22,
     "metadata": {},
     "output_type": "execute_result"
    }
   ],
   "source": [
    "decimal.getcontext()"
   ]
  },
  {
   "cell_type": "code",
   "execution_count": 23,
   "id": "classical-personality",
   "metadata": {},
   "outputs": [],
   "source": [
    "decimal.getcontext().prec = 28"
   ]
  },
  {
   "cell_type": "markdown",
   "id": "excessive-probability",
   "metadata": {},
   "source": [
    "### Local"
   ]
  },
  {
   "cell_type": "code",
   "execution_count": 24,
   "id": "stupid-basketball",
   "metadata": {},
   "outputs": [
    {
     "data": {
      "text/plain": [
       "<decimal.ContextManager at 0x7fa7982eb670>"
      ]
     },
     "execution_count": 24,
     "metadata": {},
     "output_type": "execute_result"
    }
   ],
   "source": [
    "decimal.localcontext()"
   ]
  },
  {
   "cell_type": "code",
   "execution_count": 25,
   "id": "rental-methodology",
   "metadata": {},
   "outputs": [
    {
     "name": "stdout",
     "output_type": "stream",
     "text": [
      "<class 'decimal.Context'>\n",
      "Context(prec=28, rounding=ROUND_HALF_EVEN, Emin=-999999, Emax=999999, capitals=1, clamp=0, flags=[], traps=[InvalidOperation, DivisionByZero, Overflow])\n"
     ]
    }
   ],
   "source": [
    "with decimal.localcontext() as ctx:\n",
    "    print(type(ctx))\n",
    "    print(ctx)"
   ]
  },
  {
   "cell_type": "code",
   "execution_count": 30,
   "id": "large-birthday",
   "metadata": {},
   "outputs": [
    {
     "name": "stdout",
     "output_type": "stream",
     "text": [
      "Context(prec=6, rounding=ROUND_HALF_UP, Emin=-999999, Emax=999999, capitals=1, clamp=0, flags=[], traps=[InvalidOperation, DivisionByZero, Overflow])\n",
      "\n",
      "Context(prec=6, rounding=ROUND_HALF_UP, Emin=-999999, Emax=999999, capitals=1, clamp=0, flags=[], traps=[InvalidOperation, DivisionByZero, Overflow])\n",
      "\n",
      "True\n"
     ]
    }
   ],
   "source": [
    "with decimal.localcontext() as ctx:\n",
    "    ctx.prec = 6\n",
    "    ctx.rounding = decimal.ROUND_HALF_UP\n",
    "    print(ctx)\n",
    "    print()\n",
    "    print(decimal.getcontext())\n",
    "    print()\n",
    "    # Confirm decimal.getcontext uses the current context and not global\n",
    "    print(id(ctx) == id(decimal.getcontext()))"
   ]
  },
  {
   "cell_type": "markdown",
   "id": "sixth-scale",
   "metadata": {},
   "source": [
    "### Rounding"
   ]
  },
  {
   "cell_type": "code",
   "execution_count": 32,
   "id": "interracial-nursing",
   "metadata": {},
   "outputs": [],
   "source": [
    "x = Decimal(\"1.25\")\n",
    "y = Decimal(\"1.35\")"
   ]
  },
  {
   "cell_type": "code",
   "execution_count": 33,
   "id": "major-abortion",
   "metadata": {},
   "outputs": [
    {
     "name": "stdout",
     "output_type": "stream",
     "text": [
      "Local Context:\n",
      "1.3\n",
      "1.4\n",
      "Global Context:\n",
      "1.2\n",
      "1.4\n"
     ]
    }
   ],
   "source": [
    "with decimal.localcontext() as ctx:\n",
    "    ctx.prec = 6\n",
    "    ctx.rounding = decimal.ROUND_HALF_UP\n",
    "    print(\"Local Context:\")\n",
    "    print(round(x, 1))\n",
    "    print(round(y, 1))\n",
    "\n",
    "print(\"Global Context:\")\n",
    "print(round(x, 1))\n",
    "print(round(y, 1))"
   ]
  },
  {
   "cell_type": "markdown",
   "id": "forty-deposit",
   "metadata": {},
   "source": [
    "# Decimals: Constructors and Contexts\n",
    "\n",
    "- class is in the decimal module\n",
    "- Decimal(x): x can be a variety of types; int, str, tuples, ...\n",
    "\n",
    "## Using the tuple constructor\n",
    "\n",
    "1.23 --> +123 x 10 ^ -2\n",
    "\n",
    "-1.23 --> -123 x 10 ^ -2\n",
    "\n",
    "Using tuple, format: (sign, (digit1, digit2, ..., digitn), exp)\n",
    "\n",
    "example: -3.1415 --> Decimal(1, (3, 1, 4, 1, 5), -4)\n",
    "\n",
    "## Context Precision and the Constructor\n",
    "\n",
    "- Context precision affects mathematical operations\n",
    "- Context precision does not affect the constructor\n",
    "\n",
    "Example:\n",
    "\n",
    "### Setting global precision\n",
    "\n",
    "decimal.getcontext().prec = 2\n",
    "\n",
    "<pre>\n",
    "Global precision does not affect the constructor\n",
    "\n",
    "    a = Decimal(\"0.12345\") --> a = 0.12345\n",
    "\n",
    "    b = Decimal(\"0.12345\") --> b = 0.12345\n",
    "</pre>\n",
    "<pre>\n",
    "Global precision does affect the operations\n",
    "\n",
    "    c = a + b --> c = 0.25\n",
    "</pre>"
   ]
  },
  {
   "cell_type": "markdown",
   "id": "funded-watson",
   "metadata": {},
   "source": [
    "### Code examples"
   ]
  },
  {
   "cell_type": "code",
   "execution_count": 34,
   "id": "neither-python",
   "metadata": {},
   "outputs": [],
   "source": [
    "import decimal\n",
    "from decimal import Decimal"
   ]
  },
  {
   "cell_type": "markdown",
   "id": "valued-still",
   "metadata": {},
   "source": [
    "### Constructor with different types"
   ]
  },
  {
   "cell_type": "code",
   "execution_count": 35,
   "id": "recovered-newport",
   "metadata": {},
   "outputs": [
    {
     "data": {
      "text/plain": [
       "Decimal('10')"
      ]
     },
     "execution_count": 35,
     "metadata": {},
     "output_type": "execute_result"
    }
   ],
   "source": [
    "Decimal(10)"
   ]
  },
  {
   "cell_type": "code",
   "execution_count": 36,
   "id": "corresponding-favor",
   "metadata": {},
   "outputs": [
    {
     "data": {
      "text/plain": [
       "Decimal('10.1')"
      ]
     },
     "execution_count": 36,
     "metadata": {},
     "output_type": "execute_result"
    }
   ],
   "source": [
    "Decimal(\"10.1\")"
   ]
  },
  {
   "cell_type": "code",
   "execution_count": 37,
   "id": "accurate-option",
   "metadata": {},
   "outputs": [
    {
     "data": {
      "text/plain": [
       "Decimal('3.1415')"
      ]
     },
     "execution_count": 37,
     "metadata": {},
     "output_type": "execute_result"
    }
   ],
   "source": [
    "Decimal((0, (3, 1, 4, 1, 5), -4))"
   ]
  },
  {
   "cell_type": "code",
   "execution_count": 38,
   "id": "approved-yesterday",
   "metadata": {},
   "outputs": [
    {
     "data": {
      "text/plain": [
       "Decimal('-3.1415')"
      ]
     },
     "execution_count": 38,
     "metadata": {},
     "output_type": "execute_result"
    }
   ],
   "source": [
    "Decimal((1, (3, 1, 4, 1, 5), -4))"
   ]
  },
  {
   "cell_type": "markdown",
   "id": "positive-discretion",
   "metadata": {},
   "source": [
    "### Floats has issues"
   ]
  },
  {
   "cell_type": "code",
   "execution_count": 39,
   "id": "comprehensive-flashing",
   "metadata": {},
   "outputs": [
    {
     "data": {
      "text/plain": [
       "'0.1000000000000000055511151'"
      ]
     },
     "execution_count": 39,
     "metadata": {},
     "output_type": "execute_result"
    }
   ],
   "source": [
    "# Issues with floats\n",
    "format(0.1, \".25f\")"
   ]
  },
  {
   "cell_type": "code",
   "execution_count": 40,
   "id": "concrete-crisis",
   "metadata": {},
   "outputs": [
    {
     "data": {
      "text/plain": [
       "Decimal('0.1000000000000000055511151231257827021181583404541015625')"
      ]
     },
     "execution_count": 40,
     "metadata": {},
     "output_type": "execute_result"
    }
   ],
   "source": [
    "Decimal(0.1)"
   ]
  },
  {
   "cell_type": "code",
   "execution_count": 42,
   "id": "stopped-notion",
   "metadata": {},
   "outputs": [
    {
     "data": {
      "text/plain": [
       "False"
      ]
     },
     "execution_count": 42,
     "metadata": {},
     "output_type": "execute_result"
    }
   ],
   "source": [
    "Decimal(0.1) == Decimal(\"0.1\")"
   ]
  },
  {
   "cell_type": "markdown",
   "id": "manual-hepatitis",
   "metadata": {},
   "source": [
    "### Context (Jupyter has a bug)"
   ]
  },
  {
   "cell_type": "code",
   "execution_count": 58,
   "id": "cooked-office",
   "metadata": {},
   "outputs": [],
   "source": [
    "decimal.getcontext().prec = 2"
   ]
  },
  {
   "cell_type": "code",
   "execution_count": 59,
   "id": "continued-ozone",
   "metadata": {},
   "outputs": [],
   "source": [
    "# global context precision does not affect constructor\n",
    "a = Decimal(\"0.123456789\")"
   ]
  },
  {
   "cell_type": "code",
   "execution_count": 60,
   "id": "local-remedy",
   "metadata": {},
   "outputs": [
    {
     "data": {
      "text/plain": [
       "Decimal('0.123456789')"
      ]
     },
     "execution_count": 60,
     "metadata": {},
     "output_type": "execute_result"
    }
   ],
   "source": [
    "a"
   ]
  },
  {
   "cell_type": "code",
   "execution_count": 61,
   "id": "herbal-agreement",
   "metadata": {},
   "outputs": [
    {
     "data": {
      "text/plain": [
       "Decimal('0.246913578')"
      ]
     },
     "execution_count": 61,
     "metadata": {},
     "output_type": "execute_result"
    }
   ],
   "source": [
    "# Juypter bug, global precision not working\n",
    "a + a"
   ]
  },
  {
   "cell_type": "code",
   "execution_count": 62,
   "id": "original-harrison",
   "metadata": {},
   "outputs": [
    {
     "name": "stdout",
     "output_type": "stream",
     "text": [
      "Global context: a + a = 0.246913578\n",
      "Local context: a + a = 0.25\n"
     ]
    }
   ],
   "source": [
    "print(f\"Global context: a + a = {a + a}\")\n",
    "\n",
    "with decimal.localcontext() as ctx:\n",
    "    ctx.prec = 2\n",
    "    print(f\"Local context: a + a = {a + a}\")"
   ]
  },
  {
   "cell_type": "markdown",
   "id": "sexual-benchmark",
   "metadata": {},
   "source": [
    "# Decimals: Mathematical Operations\n",
    "\n",
    "- some arithmetic operators don't work the same as floats or integers: //, %, divmod()\n",
    "- // operator performs a truncated division, affects negative numbers\n",
    "\n",
    "Examples\n",
    "\n",
    "| Integer | Decimal |\n",
    "| --- | --- |\n",
    "| 10 // 3 = 3 | Decimal(10) // Decimal(10) // Decimal(3) = Decimal(3) |\n",
    "| -10 // 3 = -4 | Decimal(10) // Decimal(-10) // Decimal(3) = Decimal(-3) |"
   ]
  },
  {
   "cell_type": "markdown",
   "id": "sealed-traveler",
   "metadata": {},
   "source": [
    "## Code Examples"
   ]
  },
  {
   "cell_type": "code",
   "execution_count": 63,
   "id": "minimal-penetration",
   "metadata": {},
   "outputs": [],
   "source": [
    "import decimal\n",
    "from decimal import Decimal"
   ]
  },
  {
   "cell_type": "code",
   "execution_count": 64,
   "id": "restricted-check",
   "metadata": {},
   "outputs": [
    {
     "name": "stdout",
     "output_type": "stream",
     "text": [
      "3 1\n",
      "(3, 1)\n",
      "True\n"
     ]
    }
   ],
   "source": [
    "x = 10\n",
    "y = 3\n",
    "print(x//y, x%y)\n",
    "print(divmod(x,y))\n",
    "print(x== y * (x//y) + (x%y))"
   ]
  },
  {
   "cell_type": "code",
   "execution_count": 65,
   "id": "excellent-official",
   "metadata": {},
   "outputs": [
    {
     "name": "stdout",
     "output_type": "stream",
     "text": [
      "3 1\n",
      "(Decimal('3'), Decimal('1'))\n",
      "True\n"
     ]
    }
   ],
   "source": [
    "x = Decimal(10)\n",
    "y = Decimal(3)\n",
    "print(x//y, x%y)\n",
    "print(divmod(x,y))\n",
    "print(x== y * (x//y) + (x%y))"
   ]
  },
  {
   "cell_type": "code",
   "execution_count": 66,
   "id": "lightweight-journalist",
   "metadata": {},
   "outputs": [
    {
     "name": "stdout",
     "output_type": "stream",
     "text": [
      "-4 2\n",
      "(-4, 2)\n",
      "True\n"
     ]
    }
   ],
   "source": [
    "x = -10\n",
    "y = 3\n",
    "print(x//y, x%y)\n",
    "print(divmod(x,y))\n",
    "print(x== y * (x//y) + (x%y))"
   ]
  },
  {
   "cell_type": "code",
   "execution_count": 67,
   "id": "polyphonic-sacramento",
   "metadata": {},
   "outputs": [
    {
     "name": "stdout",
     "output_type": "stream",
     "text": [
      "-3 -1\n",
      "(Decimal('-3'), Decimal('-1'))\n",
      "True\n"
     ]
    }
   ],
   "source": [
    "x = Decimal(-10)\n",
    "y = Decimal(3)\n",
    "print(x//y, x%y)\n",
    "print(divmod(x,y))\n",
    "print(x== y * (x//y) + (x%y))"
   ]
  },
  {
   "cell_type": "markdown",
   "id": "conservative-range",
   "metadata": {},
   "source": [
    "### Other Math functions"
   ]
  },
  {
   "cell_type": "code",
   "execution_count": 75,
   "id": "durable-advocate",
   "metadata": {},
   "outputs": [],
   "source": [
    "a = Decimal(\"1.5\")"
   ]
  },
  {
   "cell_type": "code",
   "execution_count": 69,
   "id": "prospective-grill",
   "metadata": {},
   "outputs": [
    {
     "data": {
      "text/plain": [
       "Decimal('1.5')"
      ]
     },
     "execution_count": 69,
     "metadata": {},
     "output_type": "execute_result"
    }
   ],
   "source": [
    "a"
   ]
  },
  {
   "cell_type": "code",
   "execution_count": 70,
   "id": "simple-association",
   "metadata": {},
   "outputs": [
    {
     "data": {
      "text/plain": [
       "Decimal('0.4054651081081643819780131155')"
      ]
     },
     "execution_count": 70,
     "metadata": {},
     "output_type": "execute_result"
    }
   ],
   "source": [
    "a.ln()"
   ]
  },
  {
   "cell_type": "code",
   "execution_count": 71,
   "id": "constant-tragedy",
   "metadata": {},
   "outputs": [
    {
     "data": {
      "text/plain": [
       "Decimal('4.481689070338064822602055460')"
      ]
     },
     "execution_count": 71,
     "metadata": {},
     "output_type": "execute_result"
    }
   ],
   "source": [
    "a.exp()"
   ]
  },
  {
   "cell_type": "code",
   "execution_count": 80,
   "id": "composite-prophet",
   "metadata": {},
   "outputs": [
    {
     "data": {
      "text/plain": [
       "Decimal('1.224744871391589049098642037')"
      ]
     },
     "execution_count": 80,
     "metadata": {},
     "output_type": "execute_result"
    }
   ],
   "source": [
    "a.sqrt()"
   ]
  },
  {
   "cell_type": "code",
   "execution_count": 79,
   "id": "meaningful-airfare",
   "metadata": {},
   "outputs": [],
   "source": [
    "x = 2\n",
    "x_dec = Decimal(2)"
   ]
  },
  {
   "cell_type": "code",
   "execution_count": 81,
   "id": "identified-willow",
   "metadata": {},
   "outputs": [],
   "source": [
    "import math"
   ]
  },
  {
   "cell_type": "code",
   "execution_count": 82,
   "id": "fossil-mounting",
   "metadata": {},
   "outputs": [],
   "source": [
    "root_float = math.sqrt(x)\n",
    "root_mixed = math.sqrt(x_dec)\n",
    "root_dec = x_dec.sqrt()"
   ]
  },
  {
   "cell_type": "code",
   "execution_count": 83,
   "id": "ethical-reference",
   "metadata": {},
   "outputs": [
    {
     "name": "stdout",
     "output_type": "stream",
     "text": [
      "1.414213562373095145474621859\n",
      "1.414213562373095145474621859\n",
      "1.414213562373095048801688724\n"
     ]
    }
   ],
   "source": [
    "print(format(root_float, \"1.27f\"))\n",
    "print(format(root_mixed, \"1.27f\"))\n",
    "print(root_dec)"
   ]
  },
  {
   "cell_type": "code",
   "execution_count": 84,
   "id": "superior-internship",
   "metadata": {},
   "outputs": [
    {
     "name": "stdout",
     "output_type": "stream",
     "text": [
      "2.000000000000000444089209850\n",
      "2.000000000000000444089209850\n",
      "1.999999999999999999999999999\n"
     ]
    }
   ],
   "source": [
    "print(format(root_float * root_float, \"1.27f\"))\n",
    "print(format(root_mixed * root_mixed, \"1.27f\"))\n",
    "print(root_dec * root_dec)"
   ]
  },
  {
   "cell_type": "code",
   "execution_count": 90,
   "id": "buried-terror",
   "metadata": {},
   "outputs": [],
   "source": [
    "x = 0.01\n",
    "x_dec = Decimal(\"0.01\")"
   ]
  },
  {
   "cell_type": "code",
   "execution_count": 91,
   "id": "scientific-purple",
   "metadata": {},
   "outputs": [
    {
     "name": "stdout",
     "output_type": "stream",
     "text": [
      "0.010000000000000000208166817\n",
      "0.01\n"
     ]
    }
   ],
   "source": [
    "print(format(x, \".27f\"))\n",
    "print(x_dec)"
   ]
  },
  {
   "cell_type": "code",
   "execution_count": 92,
   "id": "lyric-profit",
   "metadata": {},
   "outputs": [],
   "source": [
    "root_float = math.sqrt(x)\n",
    "root_mixed = math.sqrt(x_dec)\n",
    "root_dec = x_dec.sqrt()"
   ]
  },
  {
   "cell_type": "code",
   "execution_count": 93,
   "id": "emerging-threat",
   "metadata": {},
   "outputs": [
    {
     "name": "stdout",
     "output_type": "stream",
     "text": [
      "0.100000000000000005551115123\n",
      "0.100000000000000005551115123\n",
      "0.1\n"
     ]
    }
   ],
   "source": [
    "print(format(root_float, \"1.27f\"))\n",
    "print(format(root_mixed, \"1.27f\"))\n",
    "print(root_dec)"
   ]
  },
  {
   "cell_type": "code",
   "execution_count": 94,
   "id": "historic-format",
   "metadata": {},
   "outputs": [
    {
     "name": "stdout",
     "output_type": "stream",
     "text": [
      "0.010000000000000001942890293\n",
      "0.010000000000000001942890293\n",
      "0.01\n"
     ]
    }
   ],
   "source": [
    "print(format(root_float * root_float, \"1.27f\"))\n",
    "print(format(root_mixed * root_mixed, \"1.27f\"))\n",
    "print(root_dec * root_dec)"
   ]
  },
  {
   "cell_type": "markdown",
   "id": "mental-subdivision",
   "metadata": {},
   "source": [
    "# Decimals: Performance Considerations\n",
    "\n",
    "Drawbacks to the Decimal class vs the float class\n",
    "\n",
    "- not as easy to code: construction via strings or tuples\n",
    "- not all mathematical functions that exist in the math module have a Decimal counterpart\n",
    "- more memory overhead\n",
    "- performance is much slower than floats"
   ]
  },
  {
   "cell_type": "markdown",
   "id": "moral-intro",
   "metadata": {},
   "source": [
    "## Code Examples:"
   ]
  },
  {
   "cell_type": "code",
   "execution_count": 95,
   "id": "disciplinary-bulletin",
   "metadata": {},
   "outputs": [],
   "source": [
    "from decimal import Decimal"
   ]
  },
  {
   "cell_type": "code",
   "execution_count": 96,
   "id": "legislative-brain",
   "metadata": {},
   "outputs": [],
   "source": [
    "import sys"
   ]
  },
  {
   "cell_type": "markdown",
   "id": "unique-slope",
   "metadata": {},
   "source": [
    "### Comparing overhead"
   ]
  },
  {
   "cell_type": "code",
   "execution_count": 97,
   "id": "joined-signal",
   "metadata": {},
   "outputs": [],
   "source": [
    "a = 3.1415\n",
    "b = Decimal(\"3.1415\")"
   ]
  },
  {
   "cell_type": "code",
   "execution_count": 98,
   "id": "welsh-arnold",
   "metadata": {},
   "outputs": [
    {
     "data": {
      "text/plain": [
       "24"
      ]
     },
     "execution_count": 98,
     "metadata": {},
     "output_type": "execute_result"
    }
   ],
   "source": [
    "sys.getsizeof(a)"
   ]
  },
  {
   "cell_type": "code",
   "execution_count": 99,
   "id": "sweet-hamburg",
   "metadata": {},
   "outputs": [
    {
     "data": {
      "text/plain": [
       "104"
      ]
     },
     "execution_count": 99,
     "metadata": {},
     "output_type": "execute_result"
    }
   ],
   "source": [
    "sys.getsizeof(b)"
   ]
  },
  {
   "cell_type": "markdown",
   "id": "respective-flashing",
   "metadata": {},
   "source": [
    "### Performance"
   ]
  },
  {
   "cell_type": "code",
   "execution_count": 100,
   "id": "drawn-technology",
   "metadata": {},
   "outputs": [],
   "source": [
    "import time"
   ]
  },
  {
   "cell_type": "markdown",
   "id": "pacific-queue",
   "metadata": {},
   "source": [
    "### Timing duration of creating a float vs decimal"
   ]
  },
  {
   "cell_type": "code",
   "execution_count": 105,
   "id": "spread-istanbul",
   "metadata": {},
   "outputs": [],
   "source": [
    "def run_float(n=1):\n",
    "    for i in range(n):\n",
    "        a = 3.1415\n",
    "\n",
    "def run_decimal(n=1):\n",
    "    for i in range(n):\n",
    "        a = Decimal(\"3.1415\")"
   ]
  },
  {
   "cell_type": "code",
   "execution_count": 104,
   "id": "mineral-phoenix",
   "metadata": {},
   "outputs": [],
   "source": [
    "n = 10_000_000"
   ]
  },
  {
   "cell_type": "code",
   "execution_count": 107,
   "id": "sporting-vintage",
   "metadata": {},
   "outputs": [
    {
     "name": "stdout",
     "output_type": "stream",
     "text": [
      "float: 0.5650138259807136\n"
     ]
    }
   ],
   "source": [
    "start = time.perf_counter()\n",
    "run_float(n)\n",
    "end_time = time.perf_counter()\n",
    "print(f\"float: {end_time - start}\")"
   ]
  },
  {
   "cell_type": "code",
   "execution_count": 108,
   "id": "utility-saint",
   "metadata": {},
   "outputs": [
    {
     "name": "stdout",
     "output_type": "stream",
     "text": [
      "float: 3.263208988995757\n"
     ]
    }
   ],
   "source": [
    "start = time.perf_counter()\n",
    "run_decimal(n)\n",
    "end_time = time.perf_counter()\n",
    "print(f\"float: {end_time - start}\")"
   ]
  },
  {
   "cell_type": "markdown",
   "id": "indonesian-portland",
   "metadata": {},
   "source": [
    "### Timing duration of adding, float vs decimal"
   ]
  },
  {
   "cell_type": "code",
   "execution_count": 109,
   "id": "competitive-greene",
   "metadata": {},
   "outputs": [],
   "source": [
    "def run_float(n=1):\n",
    "    a = 3.1415\n",
    "    for i in range(n):\n",
    "        a + a\n",
    "\n",
    "def run_decimal(n=1):\n",
    "    a = Decimal(\"3.1415\")\n",
    "    for i in range(n):\n",
    "        a + a"
   ]
  },
  {
   "cell_type": "code",
   "execution_count": 110,
   "id": "solved-compound",
   "metadata": {},
   "outputs": [
    {
     "name": "stdout",
     "output_type": "stream",
     "text": [
      "float: 0.8693183780123945\n"
     ]
    }
   ],
   "source": [
    "start = time.perf_counter()\n",
    "run_float(n)\n",
    "end_time = time.perf_counter()\n",
    "print(f\"float: {end_time - start}\")"
   ]
  },
  {
   "cell_type": "code",
   "execution_count": 111,
   "id": "supported-services",
   "metadata": {},
   "outputs": [
    {
     "name": "stdout",
     "output_type": "stream",
     "text": [
      "float: 1.784163254982559\n"
     ]
    }
   ],
   "source": [
    "start = time.perf_counter()\n",
    "run_decimal(n)\n",
    "end_time = time.perf_counter()\n",
    "print(f\"float: {end_time - start}\")"
   ]
  },
  {
   "cell_type": "markdown",
   "id": "unknown-uzbekistan",
   "metadata": {},
   "source": [
    "### Timing duration of using sqrt, float vs decimal"
   ]
  },
  {
   "cell_type": "code",
   "execution_count": 112,
   "id": "perceived-comment",
   "metadata": {},
   "outputs": [],
   "source": [
    "def run_float(n=1):\n",
    "    a = 3.1415\n",
    "    for i in range(n):\n",
    "        math.sqrt(a)\n",
    "\n",
    "def run_decimal(n=1):\n",
    "    a = Decimal(\"3.1415\")\n",
    "    for i in range(n):\n",
    "        a.sqrt()"
   ]
  },
  {
   "cell_type": "code",
   "execution_count": 113,
   "id": "latter-advisory",
   "metadata": {},
   "outputs": [],
   "source": [
    "n = 5_000_000"
   ]
  },
  {
   "cell_type": "code",
   "execution_count": 114,
   "id": "freelance-synthesis",
   "metadata": {},
   "outputs": [
    {
     "name": "stdout",
     "output_type": "stream",
     "text": [
      "float: 0.914245280000614\n"
     ]
    }
   ],
   "source": [
    "start = time.perf_counter()\n",
    "run_float(n)\n",
    "end_time = time.perf_counter()\n",
    "print(f\"float: {end_time - start}\")"
   ]
  },
  {
   "cell_type": "code",
   "execution_count": 115,
   "id": "hungarian-resource",
   "metadata": {},
   "outputs": [
    {
     "name": "stdout",
     "output_type": "stream",
     "text": [
      "float: 22.89354524301598\n"
     ]
    }
   ],
   "source": [
    "start = time.perf_counter()\n",
    "run_decimal(n)\n",
    "end_time = time.perf_counter()\n",
    "print(f\"float: {end_time - start}\")"
   ]
  }
 ],
 "metadata": {
  "kernelspec": {
   "display_name": "Python 3",
   "language": "python",
   "name": "python3"
  },
  "language_info": {
   "codemirror_mode": {
    "name": "ipython",
    "version": 3
   },
   "file_extension": ".py",
   "mimetype": "text/x-python",
   "name": "python",
   "nbconvert_exporter": "python",
   "pygments_lexer": "ipython3",
   "version": "3.8.5"
  }
 },
 "nbformat": 4,
 "nbformat_minor": 5
}
