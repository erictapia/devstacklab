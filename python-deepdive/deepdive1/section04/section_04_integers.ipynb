{
 "cells": [
  {
   "cell_type": "markdown",
   "id": "nutritional-arrangement",
   "metadata": {},
   "source": [
    "# Integers: Data Types\n",
    "\n",
    "int - ex: 0, 10, -100, ...\n",
    "\n",
    "- are represented internally using base-2\n",
    "- the number of bits determines the value range\n",
    "- uses a variable number of bits so an integer can be as large as the memory allows\n",
    "- the larger the number, the slower operations run"
   ]
  },
  {
   "cell_type": "code",
   "execution_count": 1,
   "id": "exterior-paris",
   "metadata": {},
   "outputs": [
    {
     "data": {
      "text/plain": [
       "int"
      ]
     },
     "execution_count": 1,
     "metadata": {},
     "output_type": "execute_result"
    }
   ],
   "source": [
    "type(100)"
   ]
  },
  {
   "cell_type": "code",
   "execution_count": 2,
   "id": "adverse-circus",
   "metadata": {},
   "outputs": [],
   "source": [
    "import sys"
   ]
  },
  {
   "cell_type": "markdown",
   "id": "laden-cargo",
   "metadata": {},
   "source": [
    "The overhead of storing an integer in bytes"
   ]
  },
  {
   "cell_type": "code",
   "execution_count": 3,
   "id": "determined-forest",
   "metadata": {},
   "outputs": [
    {
     "data": {
      "text/plain": [
       "24"
      ]
     },
     "execution_count": 3,
     "metadata": {},
     "output_type": "execute_result"
    }
   ],
   "source": [
    "sys.getsizeof(0)"
   ]
  },
  {
   "cell_type": "code",
   "execution_count": 4,
   "id": "grand-diagram",
   "metadata": {},
   "outputs": [
    {
     "data": {
      "text/plain": [
       "28"
      ]
     },
     "execution_count": 4,
     "metadata": {},
     "output_type": "execute_result"
    }
   ],
   "source": [
    "sys.getsizeof(1)"
   ]
  },
  {
   "cell_type": "code",
   "execution_count": 9,
   "id": "alive-divorce",
   "metadata": {},
   "outputs": [
    {
     "data": {
      "text/plain": [
       "160"
      ]
     },
     "execution_count": 9,
     "metadata": {},
     "output_type": "execute_result"
    }
   ],
   "source": [
    "sys.getsizeof(2**1000)"
   ]
  },
  {
   "cell_type": "code",
   "execution_count": 10,
   "id": "equipped-regulation",
   "metadata": {},
   "outputs": [
    {
     "data": {
      "text/plain": [
       "1088"
      ]
     },
     "execution_count": 10,
     "metadata": {},
     "output_type": "execute_result"
    }
   ],
   "source": [
    "# Number of bits\n",
    "(160 - 24) * 8"
   ]
  },
  {
   "cell_type": "markdown",
   "id": "organizational-terrorist",
   "metadata": {},
   "source": [
    "Operation is slower as the integer value increases"
   ]
  },
  {
   "cell_type": "code",
   "execution_count": 11,
   "id": "communist-premises",
   "metadata": {},
   "outputs": [],
   "source": [
    "import time"
   ]
  },
  {
   "cell_type": "code",
   "execution_count": 15,
   "id": "muslim-carbon",
   "metadata": {},
   "outputs": [],
   "source": [
    "def calc(a):\n",
    "    start = time.perf_counter()\n",
    "    \n",
    "    for i in range(10_000_000):\n",
    "        a * 2\n",
    "    \n",
    "    end = time.perf_counter()\n",
    "    print(end - start)"
   ]
  },
  {
   "cell_type": "code",
   "execution_count": 16,
   "id": "useful-hundred",
   "metadata": {},
   "outputs": [
    {
     "name": "stdout",
     "output_type": "stream",
     "text": [
      "0.7362740719690919\n"
     ]
    }
   ],
   "source": [
    "calc(10)"
   ]
  },
  {
   "cell_type": "code",
   "execution_count": 17,
   "id": "angry-disco",
   "metadata": {},
   "outputs": [
    {
     "name": "stdout",
     "output_type": "stream",
     "text": [
      "1.1699034557677805\n"
     ]
    }
   ],
   "source": [
    "calc(2 ** 100)"
   ]
  },
  {
   "cell_type": "code",
   "execution_count": 18,
   "id": "forbidden-shuttle",
   "metadata": {},
   "outputs": [
    {
     "name": "stdout",
     "output_type": "stream",
     "text": [
      "6.508364222943783\n"
     ]
    }
   ],
   "source": [
    "calc( 2 ** 10_000)"
   ]
  },
  {
   "cell_type": "markdown",
   "id": "synthetic-preference",
   "metadata": {},
   "source": [
    "# Integers: Operations\n",
    "\n",
    "Standard arithmetic operations\n",
    "\n",
    "| Operation Name | Operator | Example | Result Type |\n",
    "| --- | --- | --- | --- |\n",
    "| addition | + | int + int | int |\n",
    "| subtraction | - | int - int | int |\n",
    "| multiplication | * | int * int | int |\n",
    "| division | / | int / int | float |\n",
    "| exponents | ** | int ** int | int |\n",
    "| floor division | // | int // int | int |\n",
    "| modulo | % | int % int | int |\n",
    "\n",
    "floor of a real number is the largest integer <= than the real number.\n",
    "Ex.: \n",
    "- floor(33.75) --> 33\n",
    "- floor(-33.75)--> -34\n"
   ]
  },
  {
   "cell_type": "code",
   "execution_count": 19,
   "id": "speaking-rover",
   "metadata": {},
   "outputs": [
    {
     "data": {
      "text/plain": [
       "int"
      ]
     },
     "execution_count": 19,
     "metadata": {},
     "output_type": "execute_result"
    }
   ],
   "source": [
    "type(1 + 1)"
   ]
  },
  {
   "cell_type": "code",
   "execution_count": 20,
   "id": "metropolitan-assault",
   "metadata": {},
   "outputs": [
    {
     "data": {
      "text/plain": [
       "int"
      ]
     },
     "execution_count": 20,
     "metadata": {},
     "output_type": "execute_result"
    }
   ],
   "source": [
    "type(2 * 3)"
   ]
  },
  {
   "cell_type": "code",
   "execution_count": 21,
   "id": "traditional-optimum",
   "metadata": {},
   "outputs": [
    {
     "data": {
      "text/plain": [
       "int"
      ]
     },
     "execution_count": 21,
     "metadata": {},
     "output_type": "execute_result"
    }
   ],
   "source": [
    "type(4 - 10)"
   ]
  },
  {
   "cell_type": "code",
   "execution_count": 22,
   "id": "broad-editing",
   "metadata": {},
   "outputs": [
    {
     "data": {
      "text/plain": [
       "int"
      ]
     },
     "execution_count": 22,
     "metadata": {},
     "output_type": "execute_result"
    }
   ],
   "source": [
    "type(3 ** 6)"
   ]
  },
  {
   "cell_type": "code",
   "execution_count": 23,
   "id": "tender-yahoo",
   "metadata": {},
   "outputs": [
    {
     "data": {
      "text/plain": [
       "float"
      ]
     },
     "execution_count": 23,
     "metadata": {},
     "output_type": "execute_result"
    }
   ],
   "source": [
    "type(2 / 3)"
   ]
  },
  {
   "cell_type": "code",
   "execution_count": 24,
   "id": "established-manufacturer",
   "metadata": {},
   "outputs": [
    {
     "data": {
      "text/plain": [
       "float"
      ]
     },
     "execution_count": 24,
     "metadata": {},
     "output_type": "execute_result"
    }
   ],
   "source": [
    "# Even divisible is still a float\n",
    "type(10 / 5)"
   ]
  },
  {
   "cell_type": "code",
   "execution_count": 25,
   "id": "exceptional-positive",
   "metadata": {},
   "outputs": [
    {
     "data": {
      "text/plain": [
       "2.0"
      ]
     },
     "execution_count": 25,
     "metadata": {},
     "output_type": "execute_result"
    }
   ],
   "source": [
    "10/5"
   ]
  },
  {
   "cell_type": "markdown",
   "id": "stone-bullet",
   "metadata": {},
   "source": [
    "# Floor"
   ]
  },
  {
   "cell_type": "code",
   "execution_count": 26,
   "id": "aware-chemical",
   "metadata": {},
   "outputs": [],
   "source": [
    "import math"
   ]
  },
  {
   "cell_type": "code",
   "execution_count": 27,
   "id": "integral-enhancement",
   "metadata": {},
   "outputs": [
    {
     "data": {
      "text/plain": [
       "3"
      ]
     },
     "execution_count": 27,
     "metadata": {},
     "output_type": "execute_result"
    }
   ],
   "source": [
    "math.floor(3.15)"
   ]
  },
  {
   "cell_type": "code",
   "execution_count": 28,
   "id": "behavioral-affairs",
   "metadata": {},
   "outputs": [
    {
     "data": {
      "text/plain": [
       "-4"
      ]
     },
     "execution_count": 28,
     "metadata": {},
     "output_type": "execute_result"
    }
   ],
   "source": [
    "math.floor(-3.15)"
   ]
  },
  {
   "cell_type": "markdown",
   "id": "disabled-maintenance",
   "metadata": {},
   "source": [
    "Floor has a limited precision"
   ]
  },
  {
   "cell_type": "code",
   "execution_count": 29,
   "id": "substantial-universal",
   "metadata": {},
   "outputs": [
    {
     "data": {
      "text/plain": [
       "-4"
      ]
     },
     "execution_count": 29,
     "metadata": {},
     "output_type": "execute_result"
    }
   ],
   "source": [
    "math.floor(-3.000000000000001)"
   ]
  },
  {
   "cell_type": "code",
   "execution_count": 30,
   "id": "according-transaction",
   "metadata": {},
   "outputs": [
    {
     "data": {
      "text/plain": [
       "-3"
      ]
     },
     "execution_count": 30,
     "metadata": {},
     "output_type": "execute_result"
    }
   ],
   "source": [
    "math.floor(-3.0000000000000001)"
   ]
  },
  {
   "cell_type": "code",
   "execution_count": 32,
   "id": "opposed-tutorial",
   "metadata": {},
   "outputs": [
    {
     "name": "stdout",
     "output_type": "stream",
     "text": [
      "2.0625\n",
      "2\n",
      "2\n"
     ]
    }
   ],
   "source": [
    "a = 33\n",
    "b = 16\n",
    "print(a/b)\n",
    "print(a//b)\n",
    "print(math.floor(a/b))"
   ]
  },
  {
   "cell_type": "code",
   "execution_count": 33,
   "id": "secure-dinner",
   "metadata": {},
   "outputs": [
    {
     "name": "stdout",
     "output_type": "stream",
     "text": [
      "-2.0625\n",
      "-3\n",
      "-3\n"
     ]
    }
   ],
   "source": [
    "a = -33\n",
    "b = 16\n",
    "print(a/b)\n",
    "print(a//b)\n",
    "print(math.floor(a/b))"
   ]
  },
  {
   "cell_type": "code",
   "execution_count": 34,
   "id": "hairy-advertiser",
   "metadata": {},
   "outputs": [
    {
     "name": "stdout",
     "output_type": "stream",
     "text": [
      "-2.0625\n",
      "-3\n",
      "-3\n",
      "-2\n"
     ]
    }
   ],
   "source": [
    "a = -33\n",
    "b = 16\n",
    "print(a/b)\n",
    "print(a//b)\n",
    "print(math.floor(a/b))\n",
    "print(math.trunc(a/b))"
   ]
  },
  {
   "cell_type": "markdown",
   "id": "comparative-values",
   "metadata": {},
   "source": [
    "a: dividend\n",
    "\n",
    "b: divsor\n",
    "\n",
    "a // b: quotient\n",
    "\n",
    "a % b: remainder\n",
    "\n",
    "a = b * (a // b) + (a % b)"
   ]
  },
  {
   "cell_type": "code",
   "execution_count": 36,
   "id": "german-wichita",
   "metadata": {},
   "outputs": [
    {
     "name": "stdout",
     "output_type": "stream",
     "text": [
      "13 / 4 = 3.25\n",
      "13 // 4 = 3\n",
      "13 % 4 = 1\n",
      "True\n"
     ]
    }
   ],
   "source": [
    "a = 13\n",
    "b = 4\n",
    "print(f\"{a} / {b} = {a / b}\")\n",
    "print(f\"{a} // {b} = {a // b}\")\n",
    "print(f\"{a} % {b} = {a % b}\")\n",
    "\n",
    "print( a == b * (a // b) + (a % b))"
   ]
  },
  {
   "cell_type": "code",
   "execution_count": 37,
   "id": "raised-building",
   "metadata": {},
   "outputs": [
    {
     "name": "stdout",
     "output_type": "stream",
     "text": [
      "-13 / 4 = -3.25\n",
      "-13 // 4 = -4\n",
      "-13 % 4 = 3\n",
      "True\n"
     ]
    }
   ],
   "source": [
    "a = -13\n",
    "b = 4\n",
    "print(f\"{a} / {b} = {a / b}\")\n",
    "print(f\"{a} // {b} = {a // b}\")\n",
    "print(f\"{a} % {b} = {a % b}\")\n",
    "\n",
    "print( a == b * (a // b) + (a % b))"
   ]
  },
  {
   "cell_type": "code",
   "execution_count": 38,
   "id": "affected-delaware",
   "metadata": {},
   "outputs": [
    {
     "name": "stdout",
     "output_type": "stream",
     "text": [
      "13 / -4 = -3.25\n",
      "13 // -4 = -4\n",
      "13 % -4 = -3\n",
      "True\n"
     ]
    }
   ],
   "source": [
    "a = 13\n",
    "b = -4\n",
    "print(f\"{a} / {b} = {a / b}\")\n",
    "print(f\"{a} // {b} = {a // b}\")\n",
    "print(f\"{a} % {b} = {a % b}\")\n",
    "\n",
    "print( a == b * (a // b) + (a % b))"
   ]
  },
  {
   "cell_type": "code",
   "execution_count": 39,
   "id": "scheduled-alarm",
   "metadata": {},
   "outputs": [
    {
     "name": "stdout",
     "output_type": "stream",
     "text": [
      "-13 / -4 = 3.25\n",
      "-13 // -4 = 3\n",
      "-13 % -4 = -1\n",
      "True\n"
     ]
    }
   ],
   "source": [
    "a = -13\n",
    "b = -4\n",
    "print(f\"{a} / {b} = {a / b}\")\n",
    "print(f\"{a} // {b} = {a // b}\")\n",
    "print(f\"{a} % {b} = {a % b}\")\n",
    "\n",
    "print( a == b * (a // b) + (a % b))"
   ]
  },
  {
   "cell_type": "markdown",
   "id": "terminal-denial",
   "metadata": {},
   "source": [
    "# Integers: Constructors and Bases\n",
    "\n",
    "- is an object, instance of the int clas\n",
    "- provides multiple constructors\n",
    "- a constructor with a single numerical parameter\n",
    "- a constructor with a string and a second optional parameter\n",
    "\n",
    "Supported arguments of the int constructor\n",
    "\n",
    "| Type | Example | Result |\n",
    "| --- | --- | --- |\n",
    "| float | int(10.9) | 10 - uses truncation |\n",
    "| -float | int(-10.9) | -10 - uses truncation |\n",
    "| bool | int(True) | 1 |\n",
    "| Decimal | int(Decimal(\"10.9\")) | 10 - uses truncation |\n",
    "\n",
    "Constructor with non-numerical argument\n",
    "\n",
    "int(str, base=10)\n",
    "\n",
    "| Example | Result |\n",
    "| --- | --- |\n",
    "| int(\"123\") | 123 |\n",
    "| int(\"1010\", base=2) | 10 |\n",
    "| int(\"A12F\", base=16) | 41264 |\n",
    "| int(\"354\", base=8 | 348 |\n",
    "\n",
    "Built-in functions to output integer to as string with another base representation\n",
    "\n",
    "| Function | Example | Result |\n",
    "|--- | --- | --- |\n",
    "| bin | bin(10) | \"0b1010\" |\n",
    "| oct | oct(10) | \"0o12\" |\n",
    "| hex | hex(10) | \"0xa\" |\n",
    "\n",
    "Literal integers with base can be used, example: a = 0b1010 is the same as a=10"
   ]
  },
  {
   "cell_type": "markdown",
   "id": "departmental-hamburg",
   "metadata": {},
   "source": [
    "# Code examples"
   ]
  },
  {
   "cell_type": "code",
   "execution_count": 41,
   "id": "polish-auckland",
   "metadata": {},
   "outputs": [
    {
     "data": {
      "text/plain": [
       "12345"
      ]
     },
     "execution_count": 41,
     "metadata": {},
     "output_type": "execute_result"
    }
   ],
   "source": [
    "int(\"12345\")"
   ]
  },
  {
   "cell_type": "code",
   "execution_count": 42,
   "id": "velvet-collapse",
   "metadata": {},
   "outputs": [
    {
     "data": {
      "text/plain": [
       "5"
      ]
     },
     "execution_count": 42,
     "metadata": {},
     "output_type": "execute_result"
    }
   ],
   "source": [
    "int(\"101\", base=2)"
   ]
  },
  {
   "cell_type": "code",
   "execution_count": 43,
   "id": "palestinian-seeking",
   "metadata": {},
   "outputs": [
    {
     "data": {
      "text/plain": [
       "255"
      ]
     },
     "execution_count": 43,
     "metadata": {},
     "output_type": "execute_result"
    }
   ],
   "source": [
    "int(\"ff\", base=16)"
   ]
  },
  {
   "cell_type": "code",
   "execution_count": 44,
   "id": "smoking-affair",
   "metadata": {},
   "outputs": [
    {
     "data": {
      "text/plain": [
       "'0b1010'"
      ]
     },
     "execution_count": 44,
     "metadata": {},
     "output_type": "execute_result"
    }
   ],
   "source": [
    "bin(10)"
   ]
  },
  {
   "cell_type": "code",
   "execution_count": 46,
   "id": "better-parts",
   "metadata": {},
   "outputs": [
    {
     "data": {
      "text/plain": [
       "'0o12'"
      ]
     },
     "execution_count": 46,
     "metadata": {},
     "output_type": "execute_result"
    }
   ],
   "source": [
    "oct(10)"
   ]
  },
  {
   "cell_type": "code",
   "execution_count": 48,
   "id": "sorted-cattle",
   "metadata": {},
   "outputs": [
    {
     "data": {
      "text/plain": [
       "'0xa'"
      ]
     },
     "execution_count": 48,
     "metadata": {},
     "output_type": "execute_result"
    }
   ],
   "source": [
    "hex(10)"
   ]
  },
  {
   "cell_type": "code",
   "execution_count": 50,
   "id": "verbal-fantasy",
   "metadata": {},
   "outputs": [],
   "source": [
    "a = int(\"101\", base=2)\n",
    "b = 0b101"
   ]
  },
  {
   "cell_type": "code",
   "execution_count": 51,
   "id": "forced-therapy",
   "metadata": {},
   "outputs": [
    {
     "data": {
      "text/plain": [
       "5"
      ]
     },
     "execution_count": 51,
     "metadata": {},
     "output_type": "execute_result"
    }
   ],
   "source": [
    "a"
   ]
  },
  {
   "cell_type": "code",
   "execution_count": 52,
   "id": "filled-hurricane",
   "metadata": {},
   "outputs": [
    {
     "data": {
      "text/plain": [
       "5"
      ]
     },
     "execution_count": 52,
     "metadata": {},
     "output_type": "execute_result"
    }
   ],
   "source": [
    "b"
   ]
  },
  {
   "cell_type": "markdown",
   "id": "periodic-country",
   "metadata": {},
   "source": [
    "Function that output a base 10 number as a representation of the passed base"
   ]
  },
  {
   "cell_type": "code",
   "execution_count": 55,
   "id": "dominant-intent",
   "metadata": {},
   "outputs": [],
   "source": [
    "def from_base10(n, b):\n",
    "    if b < 2:\n",
    "        raise ValueError(\"Base b must be >= 2\")\n",
    "    \n",
    "    if n < 0:\n",
    "        raise ValueError(\"Number n must be >= 0\")\n",
    "    \n",
    "    if n == 0:\n",
    "        return [0]\n",
    "\n",
    "    digits = []\n",
    "    \n",
    "    while n > 0:\n",
    "        n, m = divmod(n, b)\n",
    "        digits.insert(0, m)\n",
    "    \n",
    "    return digits"
   ]
  },
  {
   "cell_type": "code",
   "execution_count": 56,
   "id": "unexpected-heather",
   "metadata": {},
   "outputs": [
    {
     "data": {
      "text/plain": [
       "[1, 0, 1, 0]"
      ]
     },
     "execution_count": 56,
     "metadata": {},
     "output_type": "execute_result"
    }
   ],
   "source": [
    "from_base10(10, 2)"
   ]
  },
  {
   "cell_type": "code",
   "execution_count": 57,
   "id": "unknown-appendix",
   "metadata": {},
   "outputs": [
    {
     "data": {
      "text/plain": [
       "[15, 15]"
      ]
     },
     "execution_count": 57,
     "metadata": {},
     "output_type": "execute_result"
    }
   ],
   "source": [
    "from_base10(255, 16)"
   ]
  },
  {
   "cell_type": "code",
   "execution_count": 63,
   "id": "executed-target",
   "metadata": {},
   "outputs": [],
   "source": [
    "def encode(digits, digit_map):\n",
    "    if max(digits) >= len(digit_map):\n",
    "        raise ValueError(\"digits_map is not long enough to encode the digits\")\n",
    "    \n",
    "    return \"\".join([digit_map[digit] for digit in digits])"
   ]
  },
  {
   "cell_type": "code",
   "execution_count": 64,
   "id": "monetary-theology",
   "metadata": {},
   "outputs": [
    {
     "data": {
      "text/plain": [
       "'FF'"
      ]
     },
     "execution_count": 64,
     "metadata": {},
     "output_type": "execute_result"
    }
   ],
   "source": [
    "encode([15, 15], \"0123456789ABCDEF\")"
   ]
  },
  {
   "cell_type": "code",
   "execution_count": 67,
   "id": "infinite-diploma",
   "metadata": {},
   "outputs": [],
   "source": [
    "def rebase_from10(number, base):\n",
    "    digit_map = \"0123456789ABCDEFGHIJKLMNOPQRSTUVWXYZ\"\n",
    "    \n",
    "    if base < 2 or base > 36:\n",
    "        raise ValueError(\"Invalid base: 2 <= base <= 36\")\n",
    "    \n",
    "    sign = -1 if number < 0 else 1\n",
    "    \n",
    "    number *= sign\n",
    "    \n",
    "    digits = from_base10(number, base)\n",
    "    encoding = encode(digits, digit_map)\n",
    "    \n",
    "    if sign == -1:\n",
    "        encoding = \"-\" + encoding\n",
    "    \n",
    "    return encoding"
   ]
  },
  {
   "cell_type": "code",
   "execution_count": 69,
   "id": "balanced-capability",
   "metadata": {},
   "outputs": [
    {
     "name": "stdout",
     "output_type": "stream",
     "text": [
      "100111010\n",
      "314\n"
     ]
    }
   ],
   "source": [
    "e = rebase_from10(314, 2)\n",
    "print(e)\n",
    "print(int(e, base=2))"
   ]
  },
  {
   "cell_type": "code",
   "execution_count": 71,
   "id": "changing-variation",
   "metadata": {},
   "outputs": [
    {
     "name": "stdout",
     "output_type": "stream",
     "text": [
      "-100111010\n",
      "-314\n"
     ]
    }
   ],
   "source": [
    "e = rebase_from10(-314, 2)\n",
    "print(e)\n",
    "print(int(e, base=2))"
   ]
  },
  {
   "cell_type": "code",
   "execution_count": 72,
   "id": "virgin-annotation",
   "metadata": {},
   "outputs": [
    {
     "name": "stdout",
     "output_type": "stream",
     "text": [
      "D7B\n",
      "3451\n"
     ]
    }
   ],
   "source": [
    "e = rebase_from10(3451, 16)\n",
    "print(e)\n",
    "print(int(e, base=16))"
   ]
  },
  {
   "cell_type": "code",
   "execution_count": null,
   "id": "resistant-horizon",
   "metadata": {},
   "outputs": [],
   "source": []
  }
 ],
 "metadata": {
  "kernelspec": {
   "display_name": "Python 3",
   "language": "python",
   "name": "python3"
  },
  "language_info": {
   "codemirror_mode": {
    "name": "ipython",
    "version": 3
   },
   "file_extension": ".py",
   "mimetype": "text/x-python",
   "name": "python",
   "nbconvert_exporter": "python",
   "pygments_lexer": "ipython3",
   "version": "3.8.5"
  }
 },
 "nbformat": 4,
 "nbformat_minor": 5
}
