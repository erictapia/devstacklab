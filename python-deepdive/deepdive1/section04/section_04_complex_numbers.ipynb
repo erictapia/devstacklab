{
 "cells": [
  {
   "cell_type": "markdown",
   "id": "verbal-accounting",
   "metadata": {},
   "source": [
    "# Complex Numbers (huh? lol I forgot what I once knew)\n",
    "\n",
    "- Construtor: complex(x, y)\n",
    "- x: real part\n",
    "- y: imaginary part\n",
    "- literal: x + yJ or x + yj\n",
    "- x and y are stored as floats\n",
    "\n",
    "Example:\n",
    "\n",
    "<pre>\n",
    "    a = complex(1, 2)\n",
    "    b = 1 + 2j\n",
    "    a == b  --> True\n",
    "</pre>\n",
    "\n",
    "## Properties and methods\n",
    "\n",
    "- .real\n",
    "- .imag\n",
    "- .conjugate() --> returns the complex conjugate\n",
    "\n",
    "## Arithmetic operators\n",
    "\n",
    "- standard arithmetic operators work as expected with complex numbers\n",
    "- real and complex numbers can be mixed, (1 + 2j) * 3 --> 4 + 2j\n",
    "- // and % operators are not supported\n",
    "\n",
    "## Other operations\n",
    "\n",
    "- == and != operators are supported\n",
    "- comparison operators are not supported, <. >, ...\n",
    "- math module functions will not work\n",
    "- cmath module functions work\n",
    "\n",
    "## cmath functions\n",
    "\n",
    "- .phase(x): returns the angle between -pi, pi counter-clockwise from the real axis\n",
    "- .abs(x): returns the magnitude (r) of x\n",
    "- .rect(r, phi): returns a complex number equivalent to the complex number defined by r,phi"
   ]
  },
  {
   "cell_type": "markdown",
   "id": "forward-seventh",
   "metadata": {},
   "source": [
    "## Code Examples"
   ]
  },
  {
   "cell_type": "code",
   "execution_count": 1,
   "id": "ceramic-nudist",
   "metadata": {},
   "outputs": [],
   "source": [
    "a = complex(1, 2)"
   ]
  },
  {
   "cell_type": "code",
   "execution_count": 2,
   "id": "accompanied-interference",
   "metadata": {},
   "outputs": [
    {
     "data": {
      "text/plain": [
       "(1+2j)"
      ]
     },
     "execution_count": 2,
     "metadata": {},
     "output_type": "execute_result"
    }
   ],
   "source": [
    "a"
   ]
  },
  {
   "cell_type": "code",
   "execution_count": 3,
   "id": "seven-client",
   "metadata": {},
   "outputs": [],
   "source": [
    "b = 1 + 2j"
   ]
  },
  {
   "cell_type": "code",
   "execution_count": 4,
   "id": "public-gothic",
   "metadata": {},
   "outputs": [
    {
     "data": {
      "text/plain": [
       "(1+2j)"
      ]
     },
     "execution_count": 4,
     "metadata": {},
     "output_type": "execute_result"
    }
   ],
   "source": [
    "b"
   ]
  },
  {
   "cell_type": "code",
   "execution_count": 5,
   "id": "welsh-proof",
   "metadata": {},
   "outputs": [
    {
     "data": {
      "text/plain": [
       "True"
      ]
     },
     "execution_count": 5,
     "metadata": {},
     "output_type": "execute_result"
    }
   ],
   "source": [
    "a == b"
   ]
  },
  {
   "cell_type": "code",
   "execution_count": 8,
   "id": "collaborative-sandwich",
   "metadata": {},
   "outputs": [
    {
     "data": {
      "text/plain": [
       "(1.0, float)"
      ]
     },
     "execution_count": 8,
     "metadata": {},
     "output_type": "execute_result"
    }
   ],
   "source": [
    "a.real,type(a.real)"
   ]
  },
  {
   "cell_type": "code",
   "execution_count": 9,
   "id": "respective-barrel",
   "metadata": {},
   "outputs": [
    {
     "data": {
      "text/plain": [
       "(2.0, float)"
      ]
     },
     "execution_count": 9,
     "metadata": {},
     "output_type": "execute_result"
    }
   ],
   "source": [
    "a.imag,type(a.imag)"
   ]
  },
  {
   "cell_type": "code",
   "execution_count": 10,
   "id": "bored-brunei",
   "metadata": {},
   "outputs": [
    {
     "data": {
      "text/plain": [
       "(1-2j)"
      ]
     },
     "execution_count": 10,
     "metadata": {},
     "output_type": "execute_result"
    }
   ],
   "source": [
    "a.conjugate()"
   ]
  },
  {
   "cell_type": "code",
   "execution_count": 11,
   "id": "attended-mills",
   "metadata": {},
   "outputs": [],
   "source": [
    "a = 1 + 2j\n",
    "b = 10 + 8j"
   ]
  },
  {
   "cell_type": "code",
   "execution_count": 12,
   "id": "outdoor-realtor",
   "metadata": {},
   "outputs": [
    {
     "data": {
      "text/plain": [
       "(11+10j)"
      ]
     },
     "execution_count": 12,
     "metadata": {},
     "output_type": "execute_result"
    }
   ],
   "source": [
    "a + b"
   ]
  },
  {
   "cell_type": "code",
   "execution_count": 13,
   "id": "injured-johns",
   "metadata": {},
   "outputs": [
    {
     "data": {
      "text/plain": [
       "(-6+28j)"
      ]
     },
     "execution_count": 13,
     "metadata": {},
     "output_type": "execute_result"
    }
   ],
   "source": [
    "a * b"
   ]
  },
  {
   "cell_type": "code",
   "execution_count": 14,
   "id": "attended-limitation",
   "metadata": {},
   "outputs": [
    {
     "data": {
      "text/plain": [
       "(0.1585365853658537+0.07317073170731708j)"
      ]
     },
     "execution_count": 14,
     "metadata": {},
     "output_type": "execute_result"
    }
   ],
   "source": [
    "a / b"
   ]
  },
  {
   "cell_type": "markdown",
   "id": "invisible-sentence",
   "metadata": {},
   "source": [
    "### Non-supported operators"
   ]
  },
  {
   "cell_type": "code",
   "execution_count": 15,
   "id": "joint-fruit",
   "metadata": {},
   "outputs": [
    {
     "ename": "TypeError",
     "evalue": "can't take floor of complex number.",
     "output_type": "error",
     "traceback": [
      "\u001b[0;31m---------------------------------------------------------------------------\u001b[0m",
      "\u001b[0;31mTypeError\u001b[0m                                 Traceback (most recent call last)",
      "\u001b[0;32m<ipython-input-15-066bb42fbcdc>\u001b[0m in \u001b[0;36m<module>\u001b[0;34m\u001b[0m\n\u001b[0;32m----> 1\u001b[0;31m \u001b[0ma\u001b[0m \u001b[0;34m//\u001b[0m \u001b[0;36m2\u001b[0m\u001b[0;34m\u001b[0m\u001b[0;34m\u001b[0m\u001b[0m\n\u001b[0m",
      "\u001b[0;31mTypeError\u001b[0m: can't take floor of complex number."
     ]
    }
   ],
   "source": [
    "a // 2"
   ]
  },
  {
   "cell_type": "code",
   "execution_count": 16,
   "id": "solid-geneva",
   "metadata": {},
   "outputs": [
    {
     "ename": "TypeError",
     "evalue": "can't mod complex numbers.",
     "output_type": "error",
     "traceback": [
      "\u001b[0;31m---------------------------------------------------------------------------\u001b[0m",
      "\u001b[0;31mTypeError\u001b[0m                                 Traceback (most recent call last)",
      "\u001b[0;32m<ipython-input-16-1a711ff621d1>\u001b[0m in \u001b[0;36m<module>\u001b[0;34m\u001b[0m\n\u001b[0;32m----> 1\u001b[0;31m \u001b[0ma\u001b[0m \u001b[0;34m%\u001b[0m \u001b[0;36m2\u001b[0m\u001b[0;34m\u001b[0m\u001b[0;34m\u001b[0m\u001b[0m\n\u001b[0m",
      "\u001b[0;31mTypeError\u001b[0m: can't mod complex numbers."
     ]
    }
   ],
   "source": [
    "a % 2"
   ]
  },
  {
   "cell_type": "code",
   "execution_count": 17,
   "id": "checked-tuning",
   "metadata": {},
   "outputs": [
    {
     "ename": "TypeError",
     "evalue": "can't take floor or mod of complex number.",
     "output_type": "error",
     "traceback": [
      "\u001b[0;31m---------------------------------------------------------------------------\u001b[0m",
      "\u001b[0;31mTypeError\u001b[0m                                 Traceback (most recent call last)",
      "\u001b[0;32m<ipython-input-17-317a292a216e>\u001b[0m in \u001b[0;36m<module>\u001b[0;34m\u001b[0m\n\u001b[0;32m----> 1\u001b[0;31m \u001b[0mdivmod\u001b[0m\u001b[0;34m(\u001b[0m\u001b[0ma\u001b[0m\u001b[0;34m,\u001b[0m \u001b[0mb\u001b[0m\u001b[0;34m)\u001b[0m\u001b[0;34m\u001b[0m\u001b[0;34m\u001b[0m\u001b[0m\n\u001b[0m",
      "\u001b[0;31mTypeError\u001b[0m: can't take floor or mod of complex number."
     ]
    }
   ],
   "source": [
    "divmod(a, b)"
   ]
  },
  {
   "cell_type": "markdown",
   "id": "checked-issue",
   "metadata": {},
   "source": [
    "### More code examples"
   ]
  },
  {
   "cell_type": "code",
   "execution_count": 18,
   "id": "floppy-fellow",
   "metadata": {},
   "outputs": [],
   "source": [
    "a = 0.1j"
   ]
  },
  {
   "cell_type": "code",
   "execution_count": 19,
   "id": "anticipated-aberdeen",
   "metadata": {},
   "outputs": [
    {
     "data": {
      "text/plain": [
       "'0.1000000000000000055511151'"
      ]
     },
     "execution_count": 19,
     "metadata": {},
     "output_type": "execute_result"
    }
   ],
   "source": [
    "format(a.imag, \".25f\")"
   ]
  },
  {
   "cell_type": "code",
   "execution_count": 20,
   "id": "fifty-update",
   "metadata": {},
   "outputs": [
    {
     "data": {
      "text/plain": [
       "False"
      ]
     },
     "execution_count": 20,
     "metadata": {},
     "output_type": "execute_result"
    }
   ],
   "source": [
    "a + a + a == 0.3j"
   ]
  },
  {
   "cell_type": "code",
   "execution_count": 23,
   "id": "waiting-oxygen",
   "metadata": {},
   "outputs": [
    {
     "data": {
      "text/plain": [
       "'0.3000000000000000444089210'"
      ]
     },
     "execution_count": 23,
     "metadata": {},
     "output_type": "execute_result"
    }
   ],
   "source": [
    "format((a + a + a).imag, \".25f\")"
   ]
  },
  {
   "cell_type": "code",
   "execution_count": 22,
   "id": "systematic-cliff",
   "metadata": {},
   "outputs": [
    {
     "data": {
      "text/plain": [
       "'0.2999999999999999888977698'"
      ]
     },
     "execution_count": 22,
     "metadata": {},
     "output_type": "execute_result"
    }
   ],
   "source": [
    "format((0.3j).imag, \".25f\")"
   ]
  },
  {
   "cell_type": "markdown",
   "id": "recorded-express",
   "metadata": {},
   "source": [
    "## cmath - watched video only"
   ]
  }
 ],
 "metadata": {
  "kernelspec": {
   "display_name": "Python 3",
   "language": "python",
   "name": "python3"
  },
  "language_info": {
   "codemirror_mode": {
    "name": "ipython",
    "version": 3
   },
   "file_extension": ".py",
   "mimetype": "text/x-python",
   "name": "python",
   "nbconvert_exporter": "python",
   "pygments_lexer": "ipython3",
   "version": "3.8.5"
  }
 },
 "nbformat": 4,
 "nbformat_minor": 5
}
