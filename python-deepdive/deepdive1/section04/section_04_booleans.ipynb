{
 "cells": [
  {
   "cell_type": "markdown",
   "id": "residential-plaintiff",
   "metadata": {},
   "source": [
    "# Booleans\n",
    "\n",
    "- bool clas is a subclass of the int class\n",
    "- singleton object of type bool\n",
    "- is vs ==, boolean can use either because a bool is a singleton object\n",
    "- True vs 1, are not the same objects; same applies to False vs 0\n",
    "\n",
    "## Boolean constructor\n",
    "\n",
    "- bool(x)\n",
    "- each class has a truth state, constructor returns the class truth value (truthyness)"
   ]
  },
  {
   "cell_type": "markdown",
   "id": "stopped-youth",
   "metadata": {},
   "source": [
    "## Code Examples"
   ]
  },
  {
   "cell_type": "code",
   "execution_count": 1,
   "id": "broke-drain",
   "metadata": {},
   "outputs": [
    {
     "data": {
      "text/plain": [
       "True"
      ]
     },
     "execution_count": 1,
     "metadata": {},
     "output_type": "execute_result"
    }
   ],
   "source": [
    "issubclass(bool, int)"
   ]
  },
  {
   "cell_type": "code",
   "execution_count": 2,
   "id": "alert-airplane",
   "metadata": {},
   "outputs": [
    {
     "data": {
      "text/plain": [
       "(bool, 9472352, 1)"
      ]
     },
     "execution_count": 2,
     "metadata": {},
     "output_type": "execute_result"
    }
   ],
   "source": [
    "type(True), id(True), int(True)"
   ]
  },
  {
   "cell_type": "code",
   "execution_count": 3,
   "id": "apart-blame",
   "metadata": {},
   "outputs": [
    {
     "data": {
      "text/plain": [
       "(bool, 9469920, 0)"
      ]
     },
     "execution_count": 3,
     "metadata": {},
     "output_type": "execute_result"
    }
   ],
   "source": [
    "type(False), id(False), int(False)"
   ]
  },
  {
   "cell_type": "code",
   "execution_count": 4,
   "id": "seventh-weather",
   "metadata": {},
   "outputs": [
    {
     "data": {
      "text/plain": [
       "True"
      ]
     },
     "execution_count": 4,
     "metadata": {},
     "output_type": "execute_result"
    }
   ],
   "source": [
    "3 < 4"
   ]
  },
  {
   "cell_type": "code",
   "execution_count": 5,
   "id": "quarterly-consistency",
   "metadata": {},
   "outputs": [
    {
     "data": {
      "text/plain": [
       "(bool, 9472352, 1)"
      ]
     },
     "execution_count": 5,
     "metadata": {},
     "output_type": "execute_result"
    }
   ],
   "source": [
    "type(3 < 4), id(3 < 4), int(3 < 4)"
   ]
  },
  {
   "cell_type": "code",
   "execution_count": 6,
   "id": "differential-norfolk",
   "metadata": {},
   "outputs": [
    {
     "data": {
      "text/plain": [
       "(True, True)"
      ]
     },
     "execution_count": 6,
     "metadata": {},
     "output_type": "execute_result"
    }
   ],
   "source": [
    "# == compares variable value\n",
    "# is compares variable id\n",
    "(3 < 4) == True, (3 < 4) is True"
   ]
  },
  {
   "cell_type": "code",
   "execution_count": 7,
   "id": "third-portable",
   "metadata": {},
   "outputs": [
    {
     "data": {
      "text/plain": [
       "False"
      ]
     },
     "execution_count": 7,
     "metadata": {},
     "output_type": "execute_result"
    }
   ],
   "source": [
    "None is False"
   ]
  },
  {
   "cell_type": "code",
   "execution_count": 8,
   "id": "falling-payday",
   "metadata": {},
   "outputs": [
    {
     "data": {
      "text/plain": [
       "(1, 0)"
      ]
     },
     "execution_count": 8,
     "metadata": {},
     "output_type": "execute_result"
    }
   ],
   "source": [
    "int(True), int(False)"
   ]
  },
  {
   "cell_type": "code",
   "execution_count": 9,
   "id": "cardiac-activation",
   "metadata": {},
   "outputs": [
    {
     "data": {
      "text/plain": [
       "2"
      ]
     },
     "execution_count": 9,
     "metadata": {},
     "output_type": "execute_result"
    }
   ],
   "source": [
    "1 + True"
   ]
  },
  {
   "cell_type": "code",
   "execution_count": 10,
   "id": "competitive-salvation",
   "metadata": {},
   "outputs": [
    {
     "data": {
      "text/plain": [
       "1"
      ]
     },
     "execution_count": 10,
     "metadata": {},
     "output_type": "execute_result"
    }
   ],
   "source": [
    "(True + True + True) % 2"
   ]
  },
  {
   "cell_type": "code",
   "execution_count": 11,
   "id": "ceramic-pearl",
   "metadata": {},
   "outputs": [
    {
     "data": {
      "text/plain": [
       "False"
      ]
     },
     "execution_count": 11,
     "metadata": {},
     "output_type": "execute_result"
    }
   ],
   "source": [
    "bool(0)"
   ]
  },
  {
   "cell_type": "code",
   "execution_count": 12,
   "id": "twelve-senior",
   "metadata": {},
   "outputs": [
    {
     "data": {
      "text/plain": [
       "True"
      ]
     },
     "execution_count": 12,
     "metadata": {},
     "output_type": "execute_result"
    }
   ],
   "source": [
    "bool(1)"
   ]
  },
  {
   "cell_type": "code",
   "execution_count": 13,
   "id": "hearing-sugar",
   "metadata": {},
   "outputs": [
    {
     "data": {
      "text/plain": [
       "True"
      ]
     },
     "execution_count": 13,
     "metadata": {},
     "output_type": "execute_result"
    }
   ],
   "source": [
    "bool(-1)"
   ]
  },
  {
   "cell_type": "markdown",
   "id": "banned-script",
   "metadata": {},
   "source": [
    "# Booleans: Truth Values\n",
    "\n",
    "- all objects in Python have an associated truth value\n",
    "\n",
    "## Object Truth value rule: True except\n",
    "\n",
    "- None\n",
    "- False\n",
    "- 0 in any numeric type\n",
    "- empty sequences (list, tuple, string, ...)\n",
    "- empty mapping types (dictionary, set, ...)\n",
    "- custom classesthat implement a \\__bool__ or \\__len__ method that returns False or 0\n",
    "\n",
    "## Under the hood\n",
    "\n",
    "Classes define their truth values by defining a special instance method:\n",
    "\n",
    "- \\__bool__\n",
    "- \\__len__\n",
    "\n",
    "bool(x) --> Python will execute x.\\__bool__()\n",
    "\n",
    "If \\__bool__ is not defined then it tries x.\\__len__()\n",
    "\n",
    "If neither is defined, then it returns True"
   ]
  },
  {
   "cell_type": "markdown",
   "id": "serious-norway",
   "metadata": {},
   "source": [
    "## Code Examples"
   ]
  },
  {
   "cell_type": "code",
   "execution_count": 16,
   "id": "dental-edition",
   "metadata": {},
   "outputs": [
    {
     "data": {
      "text/plain": [
       "(True, False, True)"
      ]
     },
     "execution_count": 16,
     "metadata": {},
     "output_type": "execute_result"
    }
   ],
   "source": [
    "bool(1), bool(0), bool(-1)"
   ]
  },
  {
   "cell_type": "code",
   "execution_count": 19,
   "id": "opened-frequency",
   "metadata": {},
   "outputs": [
    {
     "data": {
      "text/plain": [
       "True"
      ]
     },
     "execution_count": 19,
     "metadata": {},
     "output_type": "execute_result"
    }
   ],
   "source": [
    "# __bool__ does the following\n",
    "1 != 0"
   ]
  },
  {
   "cell_type": "code",
   "execution_count": 20,
   "id": "advance-treatment",
   "metadata": {},
   "outputs": [
    {
     "data": {
      "text/plain": [
       "(False, False)"
      ]
     },
     "execution_count": 20,
     "metadata": {},
     "output_type": "execute_result"
    }
   ],
   "source": [
    "bool(0), (0).__bool__()"
   ]
  },
  {
   "cell_type": "code",
   "execution_count": 21,
   "id": "ancient-switch",
   "metadata": {},
   "outputs": [
    {
     "data": {
      "text/plain": [
       "False"
      ]
     },
     "execution_count": 21,
     "metadata": {},
     "output_type": "execute_result"
    }
   ],
   "source": [
    "a = []\n",
    "bool(a)"
   ]
  },
  {
   "cell_type": "code",
   "execution_count": 22,
   "id": "victorian-spare",
   "metadata": {},
   "outputs": [
    {
     "data": {
      "text/plain": [
       "0"
      ]
     },
     "execution_count": 22,
     "metadata": {},
     "output_type": "execute_result"
    }
   ],
   "source": [
    "# bool(list) does the following\n",
    "a.__len__()"
   ]
  },
  {
   "cell_type": "code",
   "execution_count": 23,
   "id": "wired-morocco",
   "metadata": {},
   "outputs": [
    {
     "data": {
      "text/plain": [
       "(False, 0)"
      ]
     },
     "execution_count": 23,
     "metadata": {},
     "output_type": "execute_result"
    }
   ],
   "source": [
    "bool(a), a.__len__()"
   ]
  },
  {
   "cell_type": "code",
   "execution_count": 24,
   "id": "permanent-example",
   "metadata": {},
   "outputs": [
    {
     "ename": "AttributeError",
     "evalue": "'list' object has no attribute '__bool__'",
     "output_type": "error",
     "traceback": [
      "\u001b[0;31m---------------------------------------------------------------------------\u001b[0m",
      "\u001b[0;31mAttributeError\u001b[0m                            Traceback (most recent call last)",
      "\u001b[0;32m<ipython-input-24-248732f76df1>\u001b[0m in \u001b[0;36m<module>\u001b[0;34m\u001b[0m\n\u001b[0;32m----> 1\u001b[0;31m \u001b[0ma\u001b[0m\u001b[0;34m.\u001b[0m\u001b[0m__bool__\u001b[0m\u001b[0;34m(\u001b[0m\u001b[0;34m)\u001b[0m\u001b[0;34m\u001b[0m\u001b[0;34m\u001b[0m\u001b[0m\n\u001b[0m",
      "\u001b[0;31mAttributeError\u001b[0m: 'list' object has no attribute '__bool__'"
     ]
    }
   ],
   "source": [
    "# Lists do not have a __bool__\n",
    "a.__bool__()"
   ]
  },
  {
   "cell_type": "code",
   "execution_count": 26,
   "id": "finnish-assignment",
   "metadata": {},
   "outputs": [
    {
     "data": {
      "text/plain": [
       "(False, False, False)"
      ]
     },
     "execution_count": 26,
     "metadata": {},
     "output_type": "execute_result"
    }
   ],
   "source": [
    "bool(0), bool(0.0), bool(0 + 0j)"
   ]
  },
  {
   "cell_type": "code",
   "execution_count": 28,
   "id": "specific-conviction",
   "metadata": {},
   "outputs": [],
   "source": [
    "from decimal import Decimal\n",
    "from fractions import Fraction"
   ]
  },
  {
   "cell_type": "code",
   "execution_count": 29,
   "id": "agreed-hotel",
   "metadata": {},
   "outputs": [
    {
     "data": {
      "text/plain": [
       "(False, False)"
      ]
     },
     "execution_count": 29,
     "metadata": {},
     "output_type": "execute_result"
    }
   ],
   "source": [
    "bool(Fraction(0, 1)), bool(Decimal(\"0.0\"))"
   ]
  },
  {
   "cell_type": "code",
   "execution_count": 30,
   "id": "valued-boundary",
   "metadata": {},
   "outputs": [
    {
     "data": {
      "text/plain": [
       "(True, True, True, True)"
      ]
     },
     "execution_count": 30,
     "metadata": {},
     "output_type": "execute_result"
    }
   ],
   "source": [
    "bool(10.5), bool(1j), bool(Fraction(1, 2)), bool(Decimal(\"10.5\"))"
   ]
  },
  {
   "cell_type": "code",
   "execution_count": 31,
   "id": "alpine-piano",
   "metadata": {},
   "outputs": [
    {
     "data": {
      "text/plain": [
       "(False, False, False)"
      ]
     },
     "execution_count": 31,
     "metadata": {},
     "output_type": "execute_result"
    }
   ],
   "source": [
    "a = []\n",
    "b = \"\"\n",
    "c = ()\n",
    "bool(a), bool(b), bool(c)"
   ]
  },
  {
   "cell_type": "code",
   "execution_count": 32,
   "id": "exciting-praise",
   "metadata": {},
   "outputs": [
    {
     "data": {
      "text/plain": [
       "(True, True, True)"
      ]
     },
     "execution_count": 32,
     "metadata": {},
     "output_type": "execute_result"
    }
   ],
   "source": [
    "a = [1, 2]\n",
    "b = \"a\"\n",
    "c = (1, 2)\n",
    "bool(a), bool(b), bool(c)"
   ]
  },
  {
   "cell_type": "code",
   "execution_count": 34,
   "id": "august-peter",
   "metadata": {},
   "outputs": [
    {
     "data": {
      "text/plain": [
       "(False, False)"
      ]
     },
     "execution_count": 34,
     "metadata": {},
     "output_type": "execute_result"
    }
   ],
   "source": [
    "a = dict()\n",
    "b = set()\n",
    "bool(a), bool(b)"
   ]
  },
  {
   "cell_type": "code",
   "execution_count": 35,
   "id": "antique-polls",
   "metadata": {},
   "outputs": [
    {
     "data": {
      "text/plain": [
       "(True, True)"
      ]
     },
     "execution_count": 35,
     "metadata": {},
     "output_type": "execute_result"
    }
   ],
   "source": [
    "a = {\"a\": 1}\n",
    "b = {1, 2}\n",
    "bool(a), bool(b)"
   ]
  },
  {
   "cell_type": "code",
   "execution_count": 36,
   "id": "micro-interference",
   "metadata": {},
   "outputs": [
    {
     "data": {
      "text/plain": [
       "False"
      ]
     },
     "execution_count": 36,
     "metadata": {},
     "output_type": "execute_result"
    }
   ],
   "source": [
    "bool(None)"
   ]
  },
  {
   "cell_type": "code",
   "execution_count": 37,
   "id": "missing-coffee",
   "metadata": {},
   "outputs": [
    {
     "data": {
      "text/plain": [
       "False"
      ]
     },
     "execution_count": 37,
     "metadata": {},
     "output_type": "execute_result"
    }
   ],
   "source": [
    "None.__bool__()"
   ]
  },
  {
   "cell_type": "markdown",
   "id": "million-promotion",
   "metadata": {},
   "source": [
    "# Booleans; Precedence and Short-Circuiting\n",
    "\n",
    "- boolean operators: not, and, or\n",
    "\n",
    "## Commutativity\n",
    "\n",
    "<pre>\n",
    "    A or B == B or A\n",
    "    A and B == B and A\n",
    "</pre>\n",
    "\n",
    "## Distributivity\n",
    "<pre>\n",
    "    A and (B or C) == (A and B) or (A and C)\n",
    "    A or (B and C) == (A or B) and (A or C)\n",
    "</pre>\n",
    "\n",
    "## Associativity\n",
    "\n",
    "<pre>\n",
    "    A or (B or C) == (A or B) or C\n",
    "    A and (B and C) == (A and B) and C\n",
    "    \n",
    "    A or B or C --> (A or B) or C\n",
    "    A and B and C --> (A and B) and C\n",
    "    \n",
    "    left-to-right evaluation\n",
    "</pre>\n",
    "\n",
    "## De Morgan's Theorem\n",
    "\n",
    "<pre>\n",
    "    not(A or B) == (not A) and (not B)\n",
    "    not(A and B) == (not A) or (not B)\n",
    "</pre>\n",
    "\n",
    "# Miscellaneous\n",
    "\n",
    "<pre>\n",
    "    not(x < y) == x >= y\n",
    "    not(x > y) == x &lt;= y\n",
    "    not(x &lt;= y) == x > y\n",
    "    not(x >= y) == x < y\n",
    "    not(not A) == A\n",
    "</pre>\n",
    "\n",
    "## Operator Precedence\n",
    "\n",
    "Higest to lowest order\n",
    "\n",
    "- ()\n",
    "- < > &lt;= >= == != in is\n",
    "- not\n",
    "- and\n",
    "- or\n",
    "\n",
    "Example:\n",
    "\n",
    "True or True and False --> True or False --> True\n",
    "\n",
    "(True or True) and False --> True and False --> False\n",
    "\n",
    "## Short-Circuit Evaluation\n",
    "\n",
    "- or: stops evaluating on the first True, and return True\n",
    "- and: stops evaluating on the first False, and return False"
   ]
  },
  {
   "cell_type": "markdown",
   "id": "small-culture",
   "metadata": {},
   "source": [
    "## Code Example\n",
    "\n",
    "### Precedence"
   ]
  },
  {
   "cell_type": "code",
   "execution_count": 38,
   "id": "emotional-generic",
   "metadata": {},
   "outputs": [
    {
     "data": {
      "text/plain": [
       "True"
      ]
     },
     "execution_count": 38,
     "metadata": {},
     "output_type": "execute_result"
    }
   ],
   "source": [
    "True or True and False"
   ]
  },
  {
   "cell_type": "code",
   "execution_count": 39,
   "id": "ranging-introduction",
   "metadata": {},
   "outputs": [
    {
     "data": {
      "text/plain": [
       "True"
      ]
     },
     "execution_count": 39,
     "metadata": {},
     "output_type": "execute_result"
    }
   ],
   "source": [
    "True or (True and False)"
   ]
  },
  {
   "cell_type": "code",
   "execution_count": 40,
   "id": "previous-termination",
   "metadata": {},
   "outputs": [
    {
     "data": {
      "text/plain": [
       "False"
      ]
     },
     "execution_count": 40,
     "metadata": {},
     "output_type": "execute_result"
    }
   ],
   "source": [
    "(True or True) and False"
   ]
  },
  {
   "cell_type": "markdown",
   "id": "cultural-spanking",
   "metadata": {},
   "source": [
    "### Short-Circuiting"
   ]
  },
  {
   "cell_type": "code",
   "execution_count": 41,
   "id": "touched-paraguay",
   "metadata": {},
   "outputs": [
    {
     "name": "stdout",
     "output_type": "stream",
     "text": [
      "a is at least twice b\n"
     ]
    }
   ],
   "source": [
    "a = 10\n",
    "b = 2\n",
    "\n",
    "if a/b > 2:\n",
    "    print(\"a is at least twice b\")"
   ]
  },
  {
   "cell_type": "code",
   "execution_count": 42,
   "id": "characteristic-helping",
   "metadata": {},
   "outputs": [
    {
     "ename": "ZeroDivisionError",
     "evalue": "division by zero",
     "output_type": "error",
     "traceback": [
      "\u001b[0;31m---------------------------------------------------------------------------\u001b[0m",
      "\u001b[0;31mZeroDivisionError\u001b[0m                         Traceback (most recent call last)",
      "\u001b[0;32m<ipython-input-42-8dbac3607676>\u001b[0m in \u001b[0;36m<module>\u001b[0;34m\u001b[0m\n\u001b[1;32m      2\u001b[0m \u001b[0mb\u001b[0m \u001b[0;34m=\u001b[0m \u001b[0;36m0\u001b[0m\u001b[0;34m\u001b[0m\u001b[0;34m\u001b[0m\u001b[0m\n\u001b[1;32m      3\u001b[0m \u001b[0;34m\u001b[0m\u001b[0m\n\u001b[0;32m----> 4\u001b[0;31m \u001b[0;32mif\u001b[0m \u001b[0ma\u001b[0m\u001b[0;34m/\u001b[0m\u001b[0mb\u001b[0m \u001b[0;34m>\u001b[0m \u001b[0;36m2\u001b[0m\u001b[0;34m:\u001b[0m\u001b[0;34m\u001b[0m\u001b[0;34m\u001b[0m\u001b[0m\n\u001b[0m\u001b[1;32m      5\u001b[0m     \u001b[0mprint\u001b[0m\u001b[0;34m(\u001b[0m\u001b[0;34m\"a is at least twice b\"\u001b[0m\u001b[0;34m)\u001b[0m\u001b[0;34m\u001b[0m\u001b[0;34m\u001b[0m\u001b[0m\n",
      "\u001b[0;31mZeroDivisionError\u001b[0m: division by zero"
     ]
    }
   ],
   "source": [
    "a = 10\n",
    "b = 0\n",
    "\n",
    "if a/b > 2:\n",
    "    print(\"a is at least twice b\")"
   ]
  },
  {
   "cell_type": "code",
   "execution_count": 45,
   "id": "banner-velvet",
   "metadata": {},
   "outputs": [],
   "source": [
    "if b > 0:\n",
    "    if a/b > 2:\n",
    "        print(\"a is at least twice b\")"
   ]
  },
  {
   "cell_type": "code",
   "execution_count": 46,
   "id": "conceptual-houston",
   "metadata": {},
   "outputs": [],
   "source": [
    "if b > 0 and a/b > 2:\n",
    "    print(\"a is at least twice b\")"
   ]
  },
  {
   "cell_type": "code",
   "execution_count": 47,
   "id": "gothic-paradise",
   "metadata": {},
   "outputs": [],
   "source": [
    "if b and a/b > 2:\n",
    "    print(\"a is at least twice b\")"
   ]
  },
  {
   "cell_type": "code",
   "execution_count": 48,
   "id": "everyday-vampire",
   "metadata": {},
   "outputs": [],
   "source": [
    "b = None"
   ]
  },
  {
   "cell_type": "code",
   "execution_count": 49,
   "id": "eastern-announcement",
   "metadata": {},
   "outputs": [
    {
     "ename": "TypeError",
     "evalue": "'>' not supported between instances of 'NoneType' and 'int'",
     "output_type": "error",
     "traceback": [
      "\u001b[0;31m---------------------------------------------------------------------------\u001b[0m",
      "\u001b[0;31mTypeError\u001b[0m                                 Traceback (most recent call last)",
      "\u001b[0;32m<ipython-input-49-49963ee778d8>\u001b[0m in \u001b[0;36m<module>\u001b[0;34m\u001b[0m\n\u001b[0;32m----> 1\u001b[0;31m \u001b[0;32mif\u001b[0m \u001b[0mb\u001b[0m \u001b[0;34m>\u001b[0m \u001b[0;36m0\u001b[0m \u001b[0;32mand\u001b[0m \u001b[0ma\u001b[0m\u001b[0;34m/\u001b[0m\u001b[0mb\u001b[0m \u001b[0;34m>\u001b[0m \u001b[0;36m2\u001b[0m\u001b[0;34m:\u001b[0m\u001b[0;34m\u001b[0m\u001b[0;34m\u001b[0m\u001b[0m\n\u001b[0m\u001b[1;32m      2\u001b[0m     \u001b[0mprint\u001b[0m\u001b[0;34m(\u001b[0m\u001b[0;34m\"a is at least twice b\"\u001b[0m\u001b[0;34m)\u001b[0m\u001b[0;34m\u001b[0m\u001b[0;34m\u001b[0m\u001b[0m\n",
      "\u001b[0;31mTypeError\u001b[0m: '>' not supported between instances of 'NoneType' and 'int'"
     ]
    }
   ],
   "source": [
    "if b > 0 and a/b > 2:\n",
    "    print(\"a is at least twice b\")"
   ]
  },
  {
   "cell_type": "code",
   "execution_count": 50,
   "id": "challenging-power",
   "metadata": {},
   "outputs": [],
   "source": [
    "if b and a/b > 2:\n",
    "    print(\"a is at least twice b\")"
   ]
  },
  {
   "cell_type": "code",
   "execution_count": 51,
   "id": "federal-tactics",
   "metadata": {},
   "outputs": [],
   "source": [
    "import string"
   ]
  },
  {
   "cell_type": "code",
   "execution_count": 52,
   "id": "documentary-closer",
   "metadata": {},
   "outputs": [
    {
     "data": {
      "text/plain": [
       "False"
      ]
     },
     "execution_count": 52,
     "metadata": {},
     "output_type": "execute_result"
    }
   ],
   "source": [
    "a = \"c\"\n",
    "a in string.ascii_uppercase"
   ]
  },
  {
   "cell_type": "code",
   "execution_count": 53,
   "id": "dirty-charity",
   "metadata": {},
   "outputs": [
    {
     "data": {
      "text/plain": [
       "True"
      ]
     },
     "execution_count": 53,
     "metadata": {},
     "output_type": "execute_result"
    }
   ],
   "source": [
    "a in string.ascii_lowercase"
   ]
  },
  {
   "cell_type": "code",
   "execution_count": 54,
   "id": "secure-niger",
   "metadata": {},
   "outputs": [],
   "source": [
    "name = \"Bob\"\n",
    "\n",
    "if name[0] in string.digits:\n",
    "    print(\"Name cannot start with a digit\")"
   ]
  },
  {
   "cell_type": "code",
   "execution_count": 55,
   "id": "organic-chase",
   "metadata": {},
   "outputs": [
    {
     "ename": "IndexError",
     "evalue": "string index out of range",
     "output_type": "error",
     "traceback": [
      "\u001b[0;31m---------------------------------------------------------------------------\u001b[0m",
      "\u001b[0;31mIndexError\u001b[0m                                Traceback (most recent call last)",
      "\u001b[0;32m<ipython-input-55-ab9b331784f7>\u001b[0m in \u001b[0;36m<module>\u001b[0;34m\u001b[0m\n\u001b[1;32m      1\u001b[0m \u001b[0mname\u001b[0m \u001b[0;34m=\u001b[0m \u001b[0;34m\"\"\u001b[0m\u001b[0;34m\u001b[0m\u001b[0;34m\u001b[0m\u001b[0m\n\u001b[1;32m      2\u001b[0m \u001b[0;34m\u001b[0m\u001b[0m\n\u001b[0;32m----> 3\u001b[0;31m \u001b[0;32mif\u001b[0m \u001b[0mname\u001b[0m\u001b[0;34m[\u001b[0m\u001b[0;36m0\u001b[0m\u001b[0;34m]\u001b[0m \u001b[0;32min\u001b[0m \u001b[0mstring\u001b[0m\u001b[0;34m.\u001b[0m\u001b[0mdigits\u001b[0m\u001b[0;34m:\u001b[0m\u001b[0;34m\u001b[0m\u001b[0;34m\u001b[0m\u001b[0m\n\u001b[0m\u001b[1;32m      4\u001b[0m     \u001b[0mprint\u001b[0m\u001b[0;34m(\u001b[0m\u001b[0;34m\"Name cannot start with a digit\"\u001b[0m\u001b[0;34m)\u001b[0m\u001b[0;34m\u001b[0m\u001b[0;34m\u001b[0m\u001b[0m\n",
      "\u001b[0;31mIndexError\u001b[0m: string index out of range"
     ]
    }
   ],
   "source": [
    "name = \"\"\n",
    "\n",
    "if name[0] in string.digits:\n",
    "    print(\"Name cannot start with a digit\")"
   ]
  },
  {
   "cell_type": "code",
   "execution_count": 57,
   "id": "revolutionary-vessel",
   "metadata": {},
   "outputs": [],
   "source": [
    "if len(name) and name[0] in string.digits:\n",
    "    print(\"Name cannot start with a digit\")"
   ]
  },
  {
   "cell_type": "code",
   "execution_count": 59,
   "id": "national-prisoner",
   "metadata": {},
   "outputs": [
    {
     "data": {
      "text/plain": [
       "False"
      ]
     },
     "execution_count": 59,
     "metadata": {},
     "output_type": "execute_result"
    }
   ],
   "source": [
    "name = None\n",
    "bool(name)"
   ]
  },
  {
   "cell_type": "code",
   "execution_count": 60,
   "id": "handmade-algebra",
   "metadata": {},
   "outputs": [
    {
     "ename": "TypeError",
     "evalue": "object of type 'NoneType' has no len()",
     "output_type": "error",
     "traceback": [
      "\u001b[0;31m---------------------------------------------------------------------------\u001b[0m",
      "\u001b[0;31mTypeError\u001b[0m                                 Traceback (most recent call last)",
      "\u001b[0;32m<ipython-input-60-47d1f189d1e2>\u001b[0m in \u001b[0;36m<module>\u001b[0;34m\u001b[0m\n\u001b[0;32m----> 1\u001b[0;31m \u001b[0;32mif\u001b[0m \u001b[0mlen\u001b[0m\u001b[0;34m(\u001b[0m\u001b[0mname\u001b[0m\u001b[0;34m)\u001b[0m \u001b[0;32mand\u001b[0m \u001b[0mname\u001b[0m\u001b[0;34m[\u001b[0m\u001b[0;36m0\u001b[0m\u001b[0;34m]\u001b[0m \u001b[0;32min\u001b[0m \u001b[0mstring\u001b[0m\u001b[0;34m.\u001b[0m\u001b[0mdigits\u001b[0m\u001b[0;34m:\u001b[0m\u001b[0;34m\u001b[0m\u001b[0;34m\u001b[0m\u001b[0m\n\u001b[0m\u001b[1;32m      2\u001b[0m     \u001b[0mprint\u001b[0m\u001b[0;34m(\u001b[0m\u001b[0;34m\"Name cannot start with a digit\"\u001b[0m\u001b[0;34m)\u001b[0m\u001b[0;34m\u001b[0m\u001b[0;34m\u001b[0m\u001b[0m\n",
      "\u001b[0;31mTypeError\u001b[0m: object of type 'NoneType' has no len()"
     ]
    }
   ],
   "source": [
    "if len(name) and name[0] in string.digits:\n",
    "    print(\"Name cannot start with a digit\")"
   ]
  },
  {
   "cell_type": "code",
   "execution_count": 61,
   "id": "cultural-arrangement",
   "metadata": {},
   "outputs": [],
   "source": [
    "if name and name[0] in string.digits:\n",
    "    print(\"Name cannot start with a digit\")"
   ]
  },
  {
   "cell_type": "markdown",
   "id": "casual-oxford",
   "metadata": {},
   "source": [
    "# Booleans: Boolean Operators\n",
    "\n",
    "- Normally, Boolean operators are defined to operate on and return Boolean values\n",
    "\n",
    "## Definition of or in Python\n",
    "\n",
    "- X or Y --> If X is truthy, returns X, otherwise returns Y\n",
    "\n",
    "| X | Y | Rule | Result |\n",
    "| --- | --- | --- | --- |\n",
    "| 0 | 0 | X is False, so return Y | 0 |\n",
    "| 0 | 1 | X is False, so return Y | 1 |\n",
    "| 1 | 0 | X is True, so return X | 1 |\n",
    "| 1 | 1 | X is True, so return X | 1 |\n",
    "\n",
    "| X | Y | Result |\n",
    "| --- | --- | --- |\n",
    "| None | \"N/A\" | \"N/A\" |\n",
    "| \"\" | \"N/A\" | \"N/A\" |\n",
    "| \"hello\" | \"N/A\" | \"hello\" |\n",
    "\n",
    "- X and Y --> If X is falsy, returns X, otherwise returns Y\n",
    "\n",
    "| X | Y | Rule | Result |\n",
    "| --- | --- | --- | --- |\n",
    "| 0 | 0 | X is False, so return X | 0 |\n",
    "| 0 | 1 | X is False, so return X | 0 |\n",
    "| 1 | 0 | X is True, so return Y | 0 |\n",
    "| 1 | 1 | X is True, so return Y | 1 |\n",
    "\n",
    "| X | Y | Result |\n",
    "| --- | --- | --- |\n",
    "| None | \"N/A\" | None |\n",
    "| \"\" | \"N/A\" | \"\" |\n",
    "| \"hello\" | \"N/A\" | \"N/A\" |\n",
    "\n",
    "- not X --> True if x is falsy, False if x is truthy"
   ]
  },
  {
   "cell_type": "markdown",
   "id": "growing-blink",
   "metadata": {},
   "source": [
    "## Code Examples"
   ]
  },
  {
   "cell_type": "markdown",
   "id": "correct-benefit",
   "metadata": {},
   "source": [
    "### X or Y\n",
    "\n",
    "- if X is truthy, return X\n",
    "- if X is falsy, evaluate Y and return it"
   ]
  },
  {
   "cell_type": "code",
   "execution_count": 62,
   "id": "technical-bowling",
   "metadata": {},
   "outputs": [
    {
     "data": {
      "text/plain": [
       "'a'"
      ]
     },
     "execution_count": 62,
     "metadata": {},
     "output_type": "execute_result"
    }
   ],
   "source": [
    "\"a\" or [1, 2]"
   ]
  },
  {
   "cell_type": "code",
   "execution_count": 63,
   "id": "serious-experiment",
   "metadata": {},
   "outputs": [
    {
     "data": {
      "text/plain": [
       "[1, 2]"
      ]
     },
     "execution_count": 63,
     "metadata": {},
     "output_type": "execute_result"
    }
   ],
   "source": [
    "\"\" or [1, 2]"
   ]
  },
  {
   "cell_type": "code",
   "execution_count": 64,
   "id": "spanish-harassment",
   "metadata": {},
   "outputs": [
    {
     "ename": "ZeroDivisionError",
     "evalue": "division by zero",
     "output_type": "error",
     "traceback": [
      "\u001b[0;31m---------------------------------------------------------------------------\u001b[0m",
      "\u001b[0;31mZeroDivisionError\u001b[0m                         Traceback (most recent call last)",
      "\u001b[0;32m<ipython-input-64-7885d3533ce6>\u001b[0m in \u001b[0;36m<module>\u001b[0;34m\u001b[0m\n\u001b[1;32m      1\u001b[0m \u001b[0;31m# Division by zero will not get evaluated due to short circuit\u001b[0m\u001b[0;34m\u001b[0m\u001b[0;34m\u001b[0m\u001b[0;34m\u001b[0m\u001b[0m\n\u001b[0;32m----> 2\u001b[0;31m \u001b[0;36m0\u001b[0m \u001b[0;32mor\u001b[0m \u001b[0;36m1\u001b[0m\u001b[0;34m/\u001b[0m\u001b[0;36m0\u001b[0m\u001b[0;34m\u001b[0m\u001b[0;34m\u001b[0m\u001b[0m\n\u001b[0m",
      "\u001b[0;31mZeroDivisionError\u001b[0m: division by zero"
     ]
    }
   ],
   "source": [
    "# Division by zero\n",
    "0 or 1/0"
   ]
  },
  {
   "cell_type": "code",
   "execution_count": 65,
   "id": "unusual-silver",
   "metadata": {},
   "outputs": [
    {
     "data": {
      "text/plain": [
       "1"
      ]
     },
     "execution_count": 65,
     "metadata": {},
     "output_type": "execute_result"
    }
   ],
   "source": [
    "# Division by zero will not get evaluated due to short circuit\n",
    "1 or 1/0"
   ]
  },
  {
   "cell_type": "code",
   "execution_count": 66,
   "id": "absent-lancaster",
   "metadata": {},
   "outputs": [],
   "source": [
    "s1 = None\n",
    "s2 = \"\"\n",
    "s3 = \"abc\""
   ]
  },
  {
   "cell_type": "code",
   "execution_count": 68,
   "id": "substantial-watch",
   "metadata": {},
   "outputs": [
    {
     "data": {
      "text/plain": [
       "('n/a', 'n/a', 'abc')"
      ]
     },
     "execution_count": 68,
     "metadata": {},
     "output_type": "execute_result"
    }
   ],
   "source": [
    "# Technique to assign default value\n",
    "s1 = s1 or \"n/a\"\n",
    "s2 = s2 or \"n/a\"\n",
    "s3 = s3 or \"n/a\"\n",
    "s1, s2, s3"
   ]
  },
  {
   "cell_type": "markdown",
   "id": "selected-optimization",
   "metadata": {},
   "source": [
    "### X and Y\n",
    "\n",
    "- if X is falsy, return X\n",
    "- if X is truthy, evaluate Y and return Y"
   ]
  },
  {
   "cell_type": "code",
   "execution_count": 70,
   "id": "pointed-globe",
   "metadata": {},
   "outputs": [
    {
     "name": "stdout",
     "output_type": "stream",
     "text": [
      "None\n"
     ]
    }
   ],
   "source": [
    "print(None and 100)"
   ]
  },
  {
   "cell_type": "code",
   "execution_count": 71,
   "id": "sapphire-forwarding",
   "metadata": {},
   "outputs": [
    {
     "data": {
      "text/plain": [
       "[]"
      ]
     },
     "execution_count": 71,
     "metadata": {},
     "output_type": "execute_result"
    }
   ],
   "source": [
    "[] and [0]"
   ]
  },
  {
   "cell_type": "code",
   "execution_count": 72,
   "id": "alike-shaft",
   "metadata": {},
   "outputs": [
    {
     "ename": "ZeroDivisionError",
     "evalue": "division by zero",
     "output_type": "error",
     "traceback": [
      "\u001b[0;31m---------------------------------------------------------------------------\u001b[0m",
      "\u001b[0;31mZeroDivisionError\u001b[0m                         Traceback (most recent call last)",
      "\u001b[0;32m<ipython-input-72-32aaa10883f1>\u001b[0m in \u001b[0;36m<module>\u001b[0;34m\u001b[0m\n\u001b[1;32m      1\u001b[0m \u001b[0ma\u001b[0m \u001b[0;34m=\u001b[0m \u001b[0;36m2\u001b[0m\u001b[0;34m\u001b[0m\u001b[0;34m\u001b[0m\u001b[0m\n\u001b[1;32m      2\u001b[0m \u001b[0mb\u001b[0m \u001b[0;34m=\u001b[0m \u001b[0;36m0\u001b[0m\u001b[0;34m\u001b[0m\u001b[0;34m\u001b[0m\u001b[0m\n\u001b[0;32m----> 3\u001b[0;31m \u001b[0ma\u001b[0m\u001b[0;34m/\u001b[0m\u001b[0mb\u001b[0m\u001b[0;34m\u001b[0m\u001b[0;34m\u001b[0m\u001b[0m\n\u001b[0m",
      "\u001b[0;31mZeroDivisionError\u001b[0m: division by zero"
     ]
    }
   ],
   "source": [
    "a = 2\n",
    "b = 0\n",
    "a/b"
   ]
  },
  {
   "cell_type": "code",
   "execution_count": 73,
   "id": "becoming-swift",
   "metadata": {},
   "outputs": [
    {
     "name": "stdout",
     "output_type": "stream",
     "text": [
      "0\n"
     ]
    }
   ],
   "source": [
    "if b == 0:\n",
    "    print(0)\n",
    "else:\n",
    "    print(a/b)"
   ]
  },
  {
   "cell_type": "code",
   "execution_count": 74,
   "id": "posted-oasis",
   "metadata": {},
   "outputs": [
    {
     "name": "stdout",
     "output_type": "stream",
     "text": [
      "0.5\n"
     ]
    }
   ],
   "source": [
    "a = 2\n",
    "b = 4\n",
    "if b == 0:\n",
    "    print(0)\n",
    "else:\n",
    "    print(a/b)"
   ]
  },
  {
   "cell_type": "code",
   "execution_count": 75,
   "id": "legislative-timothy",
   "metadata": {},
   "outputs": [
    {
     "name": "stdout",
     "output_type": "stream",
     "text": [
      "0.5\n"
     ]
    }
   ],
   "source": [
    "print(b and a/b)"
   ]
  },
  {
   "cell_type": "code",
   "execution_count": 76,
   "id": "antique-algorithm",
   "metadata": {},
   "outputs": [
    {
     "name": "stdout",
     "output_type": "stream",
     "text": [
      "0\n"
     ]
    }
   ],
   "source": [
    "b = 0\n",
    "print(b and a/b)"
   ]
  },
  {
   "cell_type": "code",
   "execution_count": 77,
   "id": "stable-apparel",
   "metadata": {},
   "outputs": [],
   "source": [
    "s1 = None\n",
    "s2 = \"\"\n",
    "s3 = \"abc\""
   ]
  },
  {
   "cell_type": "code",
   "execution_count": 78,
   "id": "signed-reflection",
   "metadata": {},
   "outputs": [
    {
     "name": "stdout",
     "output_type": "stream",
     "text": [
      "None\n",
      "\n",
      "a\n"
     ]
    }
   ],
   "source": [
    "print(s1 and s1[0])\n",
    "print(s2 and s2[0])\n",
    "print(s3 and s3[0])"
   ]
  },
  {
   "cell_type": "code",
   "execution_count": 80,
   "id": "aggregate-wonder",
   "metadata": {},
   "outputs": [
    {
     "name": "stdout",
     "output_type": "stream",
     "text": [
      "\n",
      "\n",
      "a\n"
     ]
    }
   ],
   "source": [
    "# Or to set default\n",
    "print(s1 and s1[0] or \"\")\n",
    "print(s2 and s2[0] or \"\")\n",
    "print(s3 and s3[0] or \"\")"
   ]
  },
  {
   "cell_type": "markdown",
   "id": "adopted-policy",
   "metadata": {},
   "source": [
    "### Not\n",
    "\n",
    "- return value is always a bool"
   ]
  },
  {
   "cell_type": "code",
   "execution_count": 81,
   "id": "optional-federal",
   "metadata": {},
   "outputs": [
    {
     "data": {
      "text/plain": [
       "False"
      ]
     },
     "execution_count": 81,
     "metadata": {},
     "output_type": "execute_result"
    }
   ],
   "source": [
    "not True"
   ]
  },
  {
   "cell_type": "code",
   "execution_count": 83,
   "id": "pointed-marriage",
   "metadata": {},
   "outputs": [
    {
     "data": {
      "text/plain": [
       "True"
      ]
     },
     "execution_count": 83,
     "metadata": {},
     "output_type": "execute_result"
    }
   ],
   "source": [
    "not False"
   ]
  },
  {
   "cell_type": "code",
   "execution_count": 84,
   "id": "removable-leadership",
   "metadata": {},
   "outputs": [
    {
     "data": {
      "text/plain": [
       "False"
      ]
     },
     "execution_count": 84,
     "metadata": {},
     "output_type": "execute_result"
    }
   ],
   "source": [
    "not \"abc\""
   ]
  },
  {
   "cell_type": "code",
   "execution_count": 85,
   "id": "economic-anniversary",
   "metadata": {},
   "outputs": [
    {
     "data": {
      "text/plain": [
       "True"
      ]
     },
     "execution_count": 85,
     "metadata": {},
     "output_type": "execute_result"
    }
   ],
   "source": [
    "not \"\""
   ]
  },
  {
   "cell_type": "code",
   "execution_count": null,
   "id": "unauthorized-georgia",
   "metadata": {},
   "outputs": [],
   "source": []
  }
 ],
 "metadata": {
  "kernelspec": {
   "display_name": "Python 3",
   "language": "python",
   "name": "python3"
  },
  "language_info": {
   "codemirror_mode": {
    "name": "ipython",
    "version": 3
   },
   "file_extension": ".py",
   "mimetype": "text/x-python",
   "name": "python",
   "nbconvert_exporter": "python",
   "pygments_lexer": "ipython3",
   "version": "3.8.5"
  }
 },
 "nbformat": 4,
 "nbformat_minor": 5
}
