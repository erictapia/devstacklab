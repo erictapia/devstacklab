{
 "cells": [
  {
   "cell_type": "markdown",
   "id": "tough-briefs",
   "metadata": {},
   "source": [
    "# Python Optimizations: Peephole\n",
    "\n",
    "- another variety of optimizations occuring at compile time\n",
    "\n",
    "Peephole optimizations\n",
    "\n",
    "- constant expressions: numeric calculations  24 * 60 --> 1440\n",
    "- short sequences length: (1, 2) * 3  --> (1, 2, 1, 2, 1, 2), strings up to 20 characters\n",
    "- membership tests: if e in list, list --> tuple; sets --> frozensets"
   ]
  },
  {
   "cell_type": "code",
   "execution_count": 5,
   "id": "everyday-airline",
   "metadata": {},
   "outputs": [],
   "source": [
    "def my_func():\n",
    "    a= 24 * 60\n",
    "    b = (1, 2) * 5\n",
    "    c = \"abc\" * 3\n",
    "    d = \"ab\" * 11\n",
    "    e = \"The quick brown fox\" * 5\n",
    "    f = [\"a\", \"b\"] * 3"
   ]
  },
  {
   "cell_type": "markdown",
   "id": "educated-furniture",
   "metadata": {},
   "source": [
    "# Looking at function constants"
   ]
  },
  {
   "cell_type": "code",
   "execution_count": 6,
   "id": "running-cornell",
   "metadata": {},
   "outputs": [
    {
     "data": {
      "text/plain": [
       "(None,\n",
       " 1440,\n",
       " (1, 2, 1, 2, 1, 2, 1, 2, 1, 2),\n",
       " 'abcabcabc',\n",
       " 'ababababababababababab',\n",
       " 'The quick brown foxThe quick brown foxThe quick brown foxThe quick brown foxThe quick brown fox',\n",
       " 'a',\n",
       " 'b',\n",
       " 3)"
      ]
     },
     "execution_count": 6,
     "metadata": {},
     "output_type": "execute_result"
    }
   ],
   "source": [
    "my_func.__code__.co_consts"
   ]
  },
  {
   "cell_type": "markdown",
   "id": "colonial-observation",
   "metadata": {},
   "source": [
    "# Looking at function membership test constants"
   ]
  },
  {
   "cell_type": "code",
   "execution_count": 7,
   "id": "contemporary-olympus",
   "metadata": {},
   "outputs": [],
   "source": [
    "def my_func(e):\n",
    "    if e in [1, 2, 3]:  # peephole optimization: list to tuple\n",
    "        pass"
   ]
  },
  {
   "cell_type": "code",
   "execution_count": 8,
   "id": "macro-offset",
   "metadata": {},
   "outputs": [
    {
     "data": {
      "text/plain": [
       "(None, (1, 2, 3))"
      ]
     },
     "execution_count": 8,
     "metadata": {},
     "output_type": "execute_result"
    }
   ],
   "source": [
    "my_func.__code__.co_consts"
   ]
  },
  {
   "cell_type": "markdown",
   "id": "nominated-rough",
   "metadata": {},
   "source": [
    "# Membership comparison"
   ]
  },
  {
   "cell_type": "code",
   "execution_count": 9,
   "id": "cutting-brother",
   "metadata": {},
   "outputs": [],
   "source": [
    "import string\n",
    "import time"
   ]
  },
  {
   "cell_type": "code",
   "execution_count": 10,
   "id": "collective-disco",
   "metadata": {},
   "outputs": [
    {
     "data": {
      "text/plain": [
       "'abcdefghijklmnopqrstuvwxyzABCDEFGHIJKLMNOPQRSTUVWXYZ'"
      ]
     },
     "execution_count": 10,
     "metadata": {},
     "output_type": "execute_result"
    }
   ],
   "source": [
    "string.ascii_letters"
   ]
  },
  {
   "cell_type": "code",
   "execution_count": 11,
   "id": "multiple-walker",
   "metadata": {},
   "outputs": [],
   "source": [
    "char_list = list(string.ascii_letters)"
   ]
  },
  {
   "cell_type": "code",
   "execution_count": 12,
   "id": "metropolitan-intention",
   "metadata": {},
   "outputs": [],
   "source": [
    "char_tuple = tuple(string.ascii_letters)"
   ]
  },
  {
   "cell_type": "code",
   "execution_count": 18,
   "id": "streaming-kitty",
   "metadata": {},
   "outputs": [],
   "source": [
    "char_set = set(string.ascii_letters)"
   ]
  },
  {
   "cell_type": "code",
   "execution_count": 15,
   "id": "treated-italy",
   "metadata": {},
   "outputs": [
    {
     "name": "stdout",
     "output_type": "stream",
     "text": [
      "['a', 'b', 'c', 'd', 'e', 'f', 'g', 'h', 'i', 'j', 'k', 'l', 'm', 'n', 'o', 'p', 'q', 'r', 's', 't', 'u', 'v', 'w', 'x', 'y', 'z', 'A', 'B', 'C', 'D', 'E', 'F', 'G', 'H', 'I', 'J', 'K', 'L', 'M', 'N', 'O', 'P', 'Q', 'R', 'S', 'T', 'U', 'V', 'W', 'X', 'Y', 'Z']\n"
     ]
    }
   ],
   "source": [
    "print(char_list)"
   ]
  },
  {
   "cell_type": "code",
   "execution_count": 16,
   "id": "identified-minnesota",
   "metadata": {},
   "outputs": [
    {
     "name": "stdout",
     "output_type": "stream",
     "text": [
      "('a', 'b', 'c', 'd', 'e', 'f', 'g', 'h', 'i', 'j', 'k', 'l', 'm', 'n', 'o', 'p', 'q', 'r', 's', 't', 'u', 'v', 'w', 'x', 'y', 'z', 'A', 'B', 'C', 'D', 'E', 'F', 'G', 'H', 'I', 'J', 'K', 'L', 'M', 'N', 'O', 'P', 'Q', 'R', 'S', 'T', 'U', 'V', 'W', 'X', 'Y', 'Z')\n"
     ]
    }
   ],
   "source": [
    "print(char_tuple)"
   ]
  },
  {
   "cell_type": "code",
   "execution_count": 19,
   "id": "distributed-latex",
   "metadata": {},
   "outputs": [
    {
     "name": "stdout",
     "output_type": "stream",
     "text": [
      "{'Z', 'i', 't', 'T', 'y', 'g', 'a', 'G', 'e', 'M', 'm', 'j', 'n', 'A', 'F', 'r', 'p', 'R', 'H', 'P', 'V', 'c', 'h', 'W', 'X', 'B', 'O', 'I', 'L', 'z', 'o', 'U', 's', 'u', 'q', 'd', 'b', 'J', 'x', 'Y', 'w', 'C', 'k', 'N', 'E', 'Q', 'K', 'D', 'v', 'l', 'S', 'f'}\n"
     ]
    }
   ],
   "source": [
    "print(char_set) # unordered"
   ]
  },
  {
   "cell_type": "code",
   "execution_count": 20,
   "id": "bound-illinois",
   "metadata": {},
   "outputs": [],
   "source": [
    "def membership_test(n, container):\n",
    "    for i in range(n):\n",
    "        if 'z' in container:\n",
    "            pass"
   ]
  },
  {
   "cell_type": "code",
   "execution_count": 21,
   "id": "careful-bracket",
   "metadata": {},
   "outputs": [
    {
     "name": "stdout",
     "output_type": "stream",
     "text": [
      "list:  6.183510106056929\n"
     ]
    }
   ],
   "source": [
    "start = time.perf_counter()\n",
    "membership_test(10_000_000, char_list)\n",
    "end = time.perf_counter()\n",
    "print(\"list: \", end - start)"
   ]
  },
  {
   "cell_type": "code",
   "execution_count": 24,
   "id": "vital-level",
   "metadata": {},
   "outputs": [
    {
     "name": "stdout",
     "output_type": "stream",
     "text": [
      "tuple:  5.429904733086005\n"
     ]
    }
   ],
   "source": [
    "start = time.perf_counter()\n",
    "membership_test(10_000_000, char_tuple)\n",
    "end = time.perf_counter()\n",
    "print(\"tuple: \", end - start)"
   ]
  },
  {
   "cell_type": "code",
   "execution_count": 25,
   "id": "derived-collins",
   "metadata": {},
   "outputs": [
    {
     "name": "stdout",
     "output_type": "stream",
     "text": [
      "set:  0.7203901440370828\n"
     ]
    }
   ],
   "source": [
    "start = time.perf_counter()\n",
    "membership_test(10_000_000, char_set)\n",
    "end = time.perf_counter()\n",
    "print(\"set: \", end - start)"
   ]
  }
 ],
 "metadata": {
  "kernelspec": {
   "display_name": "Python 3",
   "language": "python",
   "name": "python3"
  },
  "language_info": {
   "codemirror_mode": {
    "name": "ipython",
    "version": 3
   },
   "file_extension": ".py",
   "mimetype": "text/x-python",
   "name": "python",
   "nbconvert_exporter": "python",
   "pygments_lexer": "ipython3",
   "version": "3.8.5"
  }
 },
 "nbformat": 4,
 "nbformat_minor": 5
}
