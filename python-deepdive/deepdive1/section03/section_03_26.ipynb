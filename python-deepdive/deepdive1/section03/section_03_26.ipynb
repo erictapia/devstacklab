{
 "cells": [
  {
   "cell_type": "markdown",
   "id": "higher-revision",
   "metadata": {},
   "source": [
    "# Python Optimizations - String Interning\n",
    "\n",
    "Some strings are interned but don't count on it.\n",
    "\n",
    "Identifiers are interned:\n",
    "\n",
    "- variable names\n",
    "- function names\n",
    "- class names\n",
    "- etc.\n",
    "\n",
    "Some string literals may be automatically interned:\n",
    "\n",
    "- string literals that look like identifiers (variable naming rules)\n",
    "- starts with a digit\n",
    "\n",
    "Interning is about (speed, and possibly memory) optimization.  \n",
    "\n",
    "Not all strings are interned but you can force strings to be interned by using the sys.intern() method.\n",
    "\n",
    "When should you do this?\n",
    "\n",
    "- repetive string comparisons where strings hardly changes\n",
    "- lots of string comparisons"
   ]
  },
  {
   "cell_type": "code",
   "execution_count": 1,
   "id": "blond-announcement",
   "metadata": {},
   "outputs": [],
   "source": [
    "a = \"hello\"\n",
    "b = \"hello\""
   ]
  },
  {
   "cell_type": "code",
   "execution_count": 2,
   "id": "turned-damage",
   "metadata": {},
   "outputs": [
    {
     "data": {
      "text/plain": [
       "True"
      ]
     },
     "execution_count": 2,
     "metadata": {},
     "output_type": "execute_result"
    }
   ],
   "source": [
    "a is b"
   ]
  },
  {
   "cell_type": "code",
   "execution_count": 3,
   "id": "essential-concentrate",
   "metadata": {},
   "outputs": [],
   "source": [
    "a = \"hello world\"\n",
    "b = \"hello world\""
   ]
  },
  {
   "cell_type": "code",
   "execution_count": 4,
   "id": "surface-store",
   "metadata": {},
   "outputs": [
    {
     "data": {
      "text/plain": [
       "False"
      ]
     },
     "execution_count": 4,
     "metadata": {},
     "output_type": "execute_result"
    }
   ],
   "source": [
    "a is b"
   ]
  },
  {
   "cell_type": "code",
   "execution_count": 5,
   "id": "centered-yellow",
   "metadata": {},
   "outputs": [],
   "source": [
    "a = \"_this_is_a_string_that_follows_rules_for_variable_naming\"\n",
    "b = \"_this_is_a_string_that_follows_rules_for_variable_naming\""
   ]
  },
  {
   "cell_type": "code",
   "execution_count": 6,
   "id": "pursuant-drain",
   "metadata": {},
   "outputs": [
    {
     "data": {
      "text/plain": [
       "True"
      ]
     },
     "execution_count": 6,
     "metadata": {},
     "output_type": "execute_result"
    }
   ],
   "source": [
    "a is b"
   ]
  },
  {
   "cell_type": "markdown",
   "id": "interracial-zimbabwe",
   "metadata": {},
   "source": [
    "# Interning example"
   ]
  },
  {
   "cell_type": "code",
   "execution_count": 7,
   "id": "infrared-catholic",
   "metadata": {},
   "outputs": [],
   "source": [
    "import sys"
   ]
  },
  {
   "cell_type": "code",
   "execution_count": 8,
   "id": "prompt-pattern",
   "metadata": {},
   "outputs": [],
   "source": [
    "a = sys.intern(\"Hello World\")\n",
    "b = sys.intern(\"Hello World\")\n",
    "c = \"Hello World\""
   ]
  },
  {
   "cell_type": "code",
   "execution_count": 9,
   "id": "double-liability",
   "metadata": {},
   "outputs": [
    {
     "data": {
      "text/plain": [
       "True"
      ]
     },
     "execution_count": 9,
     "metadata": {},
     "output_type": "execute_result"
    }
   ],
   "source": [
    "a is b # Interned strings"
   ]
  },
  {
   "cell_type": "code",
   "execution_count": 10,
   "id": "intensive-imperial",
   "metadata": {},
   "outputs": [
    {
     "data": {
      "text/plain": [
       "False"
      ]
     },
     "execution_count": 10,
     "metadata": {},
     "output_type": "execute_result"
    }
   ],
   "source": [
    "a is c # c was not interned"
   ]
  },
  {
   "cell_type": "code",
   "execution_count": 11,
   "id": "bound-disco",
   "metadata": {},
   "outputs": [
    {
     "data": {
      "text/plain": [
       "True"
      ]
     },
     "execution_count": 11,
     "metadata": {},
     "output_type": "execute_result"
    }
   ],
   "source": [
    "a == c # comparing strings character by character"
   ]
  },
  {
   "cell_type": "markdown",
   "id": "heated-sheriff",
   "metadata": {},
   "source": [
    "# Example comparing non-interned vs interned"
   ]
  },
  {
   "cell_type": "code",
   "execution_count": 12,
   "id": "tropical-portugal",
   "metadata": {},
   "outputs": [],
   "source": [
    "def compare_using_equals(n):\n",
    "    a = \"a long string that is not interned\" * 200\n",
    "    b = \"a long string that is not interned\" * 200\n",
    "    \n",
    "    for i in range(n):\n",
    "        if a == b:\n",
    "            pass"
   ]
  },
  {
   "cell_type": "code",
   "execution_count": 18,
   "id": "convertible-cancellation",
   "metadata": {},
   "outputs": [],
   "source": [
    "def compare_using_interning(n):\n",
    "    a = sys.intern(\"a long string that is not interned\" * 200)\n",
    "    b = sys.intern(\"a long string that is not interned\" * 200)\n",
    "    \n",
    "    for i in range(n):\n",
    "        if a is b:\n",
    "            pass"
   ]
  },
  {
   "cell_type": "code",
   "execution_count": 15,
   "id": "potential-pottery",
   "metadata": {},
   "outputs": [],
   "source": [
    "import time"
   ]
  },
  {
   "cell_type": "code",
   "execution_count": 16,
   "id": "refined-instrumentation",
   "metadata": {},
   "outputs": [
    {
     "data": {
      "text/plain": [
       "'Equality: 3.8765763060655445'"
      ]
     },
     "execution_count": 16,
     "metadata": {},
     "output_type": "execute_result"
    }
   ],
   "source": [
    "start = time.perf_counter()\n",
    "compare_using_equals(10_000_000)\n",
    "end = time.perf_counter()\n",
    "f\"Equality: {end - start}\""
   ]
  },
  {
   "cell_type": "code",
   "execution_count": 20,
   "id": "applied-place",
   "metadata": {},
   "outputs": [
    {
     "data": {
      "text/plain": [
       "'Interning: 0.6557386880740523'"
      ]
     },
     "execution_count": 20,
     "metadata": {},
     "output_type": "execute_result"
    }
   ],
   "source": [
    "start = time.perf_counter()\n",
    "compare_using_interning(10_000_000)\n",
    "end = time.perf_counter()\n",
    "f\"Interning: {end - start}\""
   ]
  }
 ],
 "metadata": {
  "kernelspec": {
   "display_name": "Python 3",
   "language": "python",
   "name": "python3"
  },
  "language_info": {
   "codemirror_mode": {
    "name": "ipython",
    "version": 3
   },
   "file_extension": ".py",
   "mimetype": "text/x-python",
   "name": "python",
   "nbconvert_exporter": "python",
   "pygments_lexer": "ipython3",
   "version": "3.8.5"
  }
 },
 "nbformat": 4,
 "nbformat_minor": 5
}
