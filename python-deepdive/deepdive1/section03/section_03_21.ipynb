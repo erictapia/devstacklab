{
 "cells": [
  {
   "cell_type": "markdown",
   "id": "oriented-genesis",
   "metadata": {},
   "source": [
    "# Function Arguments and Mutability\n",
    "\n",
    "- Immutable objects are safe from unintended side-effects\n",
    "- Immutable objects that contain mutable objects are not safe from unintended side-effects\n",
    "- Mutable objects are not safe from unintended side-effects"
   ]
  },
  {
   "cell_type": "markdown",
   "id": "hired-annual",
   "metadata": {},
   "source": [
    "# Example of value not changing when modifying an immutable object from a passed argument"
   ]
  },
  {
   "cell_type": "code",
   "execution_count": 4,
   "id": "residential-mongolia",
   "metadata": {},
   "outputs": [],
   "source": [
    "def process(s):\n",
    "    print(f\"Initial s # = {id(s)}\")\n",
    "    s = s + \" world\"\n",
    "    print(f\"Final s # = {id(s)}\")"
   ]
  },
  {
   "cell_type": "code",
   "execution_count": 5,
   "id": "dominant-proceeding",
   "metadata": {},
   "outputs": [
    {
     "name": "stdout",
     "output_type": "stream",
     "text": [
      "my_var # = 140446981035376\n"
     ]
    }
   ],
   "source": [
    "my_var = \"hello\"\n",
    "print(f\"my_var # = {id(my_var)}\")"
   ]
  },
  {
   "cell_type": "code",
   "execution_count": 6,
   "id": "sophisticated-liver",
   "metadata": {},
   "outputs": [
    {
     "name": "stdout",
     "output_type": "stream",
     "text": [
      "Initial s # = 140446981035376\n",
      "Final s # = 140446981040048\n"
     ]
    }
   ],
   "source": [
    "process(my_var)"
   ]
  },
  {
   "cell_type": "code",
   "execution_count": 7,
   "id": "secure-fraction",
   "metadata": {},
   "outputs": [
    {
     "name": "stdout",
     "output_type": "stream",
     "text": [
      "my_var # = 140446981035376\n"
     ]
    }
   ],
   "source": [
    "print(f\"my_var # = {id(my_var)}\")"
   ]
  },
  {
   "cell_type": "markdown",
   "id": "decimal-placement",
   "metadata": {},
   "source": [
    "# Example of address not changing when modifying immutable object from a passed argument, but value does change"
   ]
  },
  {
   "cell_type": "code",
   "execution_count": 8,
   "id": "adaptive-sigma",
   "metadata": {},
   "outputs": [],
   "source": [
    "def modify_list(lst):\n",
    "    print(f\"Initial lst # = {id(lst)}\")\n",
    "    lst.append(100)\n",
    "    print(f\"Final lst # = {id(lst)}\")"
   ]
  },
  {
   "cell_type": "code",
   "execution_count": 10,
   "id": "legal-blocking",
   "metadata": {},
   "outputs": [
    {
     "name": "stdout",
     "output_type": "stream",
     "text": [
      "my_list # = 140446981105984\n"
     ]
    }
   ],
   "source": [
    "my_list = [1, 2, 3]\n",
    "print(f\"my_list # = {id(my_list)}\")"
   ]
  },
  {
   "cell_type": "code",
   "execution_count": 11,
   "id": "sublime-flood",
   "metadata": {},
   "outputs": [
    {
     "name": "stdout",
     "output_type": "stream",
     "text": [
      "Initial lst # = 140446981105984\n",
      "Final lst # = 140446981105984\n"
     ]
    }
   ],
   "source": [
    "modify_list(my_list)"
   ]
  },
  {
   "cell_type": "code",
   "execution_count": 12,
   "id": "heard-latest",
   "metadata": {},
   "outputs": [
    {
     "name": "stdout",
     "output_type": "stream",
     "text": [
      "my_list # = 140446981105984\n"
     ]
    }
   ],
   "source": [
    "print(f\"my_list # = {id(my_list)}\")"
   ]
  },
  {
   "cell_type": "markdown",
   "id": "modern-kitty",
   "metadata": {},
   "source": [
    "# Example of side effects, immutable object data changes"
   ]
  },
  {
   "cell_type": "code",
   "execution_count": 13,
   "id": "fresh-baseball",
   "metadata": {},
   "outputs": [],
   "source": [
    "def modify_tuple(t):\n",
    "    print(f\"Initial t # = {id(t)}\")\n",
    "    t[0].append(100)\n",
    "    print(f\"Final t # = {id(t)}\")"
   ]
  },
  {
   "cell_type": "code",
   "execution_count": 14,
   "id": "environmental-found",
   "metadata": {},
   "outputs": [
    {
     "name": "stdout",
     "output_type": "stream",
     "text": [
      "my_tuple # = 140447049035584\n"
     ]
    }
   ],
   "source": [
    "my_tuple = ([1, 2], \"a\")\n",
    "print(f\"my_tuple # = {id(my_tuple)}\")"
   ]
  },
  {
   "cell_type": "code",
   "execution_count": 15,
   "id": "answering-lawrence",
   "metadata": {},
   "outputs": [
    {
     "name": "stdout",
     "output_type": "stream",
     "text": [
      "Initial t # = 140447049035584\n",
      "Final t # = 140447049035584\n"
     ]
    }
   ],
   "source": [
    "modify_tuple(my_tuple)"
   ]
  },
  {
   "cell_type": "code",
   "execution_count": 16,
   "id": "offshore-screen",
   "metadata": {},
   "outputs": [
    {
     "name": "stdout",
     "output_type": "stream",
     "text": [
      "my_tuple # = 140447049035584\n"
     ]
    }
   ],
   "source": [
    "print(f\"my_tuple # = {id(my_tuple)}\")"
   ]
  }
 ],
 "metadata": {
  "kernelspec": {
   "display_name": "Python 3",
   "language": "python",
   "name": "python3"
  },
  "language_info": {
   "codemirror_mode": {
    "name": "ipython",
    "version": 3
   },
   "file_extension": ".py",
   "mimetype": "text/x-python",
   "name": "python",
   "nbconvert_exporter": "python",
   "pygments_lexer": "ipython3",
   "version": "3.8.5"
  }
 },
 "nbformat": 4,
 "nbformat_minor": 5
}
