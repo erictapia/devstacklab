{
 "cells": [
  {
   "cell_type": "markdown",
   "id": "rational-accordance",
   "metadata": {},
   "source": [
    "# Variable Equality\n",
    "\n",
    "Two fundamental ways:\n",
    "\n",
    "| Memory Address | Object State (data) |\n",
    "| --- | --- |\n",
    "| is (identity operator) | == (equality operator) |\n",
    "\n",
    "Negation\n",
    "\n",
    "| Memory Address | Object State (data) |\n",
    "| --- | --- |\n",
    "| is not | != |\n",
    "\n",
    "# None object\n",
    "\n",
    "- this object can be assigned to variables to indicate that it is not set\n",
    "- a real object managed by the Python memory manager\n",
    "- always uses a shared reference\n",
    "\n",
    "# Variables using shared reference"
   ]
  },
  {
   "cell_type": "code",
   "execution_count": 1,
   "id": "ahead-investor",
   "metadata": {},
   "outputs": [],
   "source": [
    "# shared reference via Python memory manager\n",
    "a = 10\n",
    "b = 10"
   ]
  },
  {
   "cell_type": "code",
   "execution_count": 2,
   "id": "coordinated-intensity",
   "metadata": {},
   "outputs": [
    {
     "data": {
      "text/plain": [
       "9785152"
      ]
     },
     "execution_count": 2,
     "metadata": {},
     "output_type": "execute_result"
    }
   ],
   "source": [
    "id(a)"
   ]
  },
  {
   "cell_type": "code",
   "execution_count": 3,
   "id": "excellent-wallet",
   "metadata": {},
   "outputs": [
    {
     "data": {
      "text/plain": [
       "9785152"
      ]
     },
     "execution_count": 3,
     "metadata": {},
     "output_type": "execute_result"
    }
   ],
   "source": [
    "id(b)"
   ]
  },
  {
   "cell_type": "code",
   "execution_count": 4,
   "id": "attended-oxford",
   "metadata": {},
   "outputs": [
    {
     "name": "stdout",
     "output_type": "stream",
     "text": [
      "a is b True\n"
     ]
    }
   ],
   "source": [
    "print(\"a is b\", a is b)"
   ]
  },
  {
   "cell_type": "code",
   "execution_count": 5,
   "id": "behind-tuning",
   "metadata": {},
   "outputs": [
    {
     "name": "stdout",
     "output_type": "stream",
     "text": [
      "a == b True\n"
     ]
    }
   ],
   "source": [
    "print(\"a == b\", a == b)"
   ]
  },
  {
   "cell_type": "markdown",
   "id": "perceived-phone",
   "metadata": {},
   "source": [
    "# Variables referencing different memory address"
   ]
  },
  {
   "cell_type": "code",
   "execution_count": 6,
   "id": "unexpected-belarus",
   "metadata": {},
   "outputs": [],
   "source": [
    "a = 500\n",
    "b = 500"
   ]
  },
  {
   "cell_type": "code",
   "execution_count": 7,
   "id": "blank-scroll",
   "metadata": {},
   "outputs": [
    {
     "data": {
      "text/plain": [
       "140247333037360"
      ]
     },
     "execution_count": 7,
     "metadata": {},
     "output_type": "execute_result"
    }
   ],
   "source": [
    "id(a)"
   ]
  },
  {
   "cell_type": "code",
   "execution_count": 8,
   "id": "spiritual-classification",
   "metadata": {},
   "outputs": [
    {
     "data": {
      "text/plain": [
       "140247333038672"
      ]
     },
     "execution_count": 8,
     "metadata": {},
     "output_type": "execute_result"
    }
   ],
   "source": [
    "id(b)"
   ]
  },
  {
   "cell_type": "code",
   "execution_count": 9,
   "id": "serious-fashion",
   "metadata": {},
   "outputs": [
    {
     "name": "stdout",
     "output_type": "stream",
     "text": [
      "a is b False\n"
     ]
    }
   ],
   "source": [
    "print(\"a is b\", a is b)"
   ]
  },
  {
   "cell_type": "code",
   "execution_count": 10,
   "id": "exposed-antarctica",
   "metadata": {},
   "outputs": [
    {
     "name": "stdout",
     "output_type": "stream",
     "text": [
      "a == b True\n"
     ]
    }
   ],
   "source": [
    "print(\"a == b\", a == b)"
   ]
  },
  {
   "cell_type": "markdown",
   "id": "thermal-portfolio",
   "metadata": {},
   "source": [
    "# Examples with None object"
   ]
  },
  {
   "cell_type": "code",
   "execution_count": 11,
   "id": "superior-flashing",
   "metadata": {},
   "outputs": [
    {
     "data": {
      "text/plain": [
       "9480688"
      ]
     },
     "execution_count": 11,
     "metadata": {},
     "output_type": "execute_result"
    }
   ],
   "source": [
    "id(None)"
   ]
  },
  {
   "cell_type": "code",
   "execution_count": 12,
   "id": "median-liabilities",
   "metadata": {},
   "outputs": [],
   "source": [
    "a = None\n",
    "b = None\n",
    "c = None"
   ]
  },
  {
   "cell_type": "code",
   "execution_count": 13,
   "id": "animal-valuation",
   "metadata": {},
   "outputs": [
    {
     "data": {
      "text/plain": [
       "True"
      ]
     },
     "execution_count": 13,
     "metadata": {},
     "output_type": "execute_result"
    }
   ],
   "source": [
    " a is b"
   ]
  },
  {
   "cell_type": "code",
   "execution_count": 14,
   "id": "increasing-hypothetical",
   "metadata": {},
   "outputs": [
    {
     "data": {
      "text/plain": [
       "True"
      ]
     },
     "execution_count": 14,
     "metadata": {},
     "output_type": "execute_result"
    }
   ],
   "source": [
    "a is c"
   ]
  },
  {
   "cell_type": "code",
   "execution_count": 15,
   "id": "pleasant-selection",
   "metadata": {},
   "outputs": [
    {
     "data": {
      "text/plain": [
       "True"
      ]
     },
     "execution_count": 15,
     "metadata": {},
     "output_type": "execute_result"
    }
   ],
   "source": [
    "a is None"
   ]
  }
 ],
 "metadata": {
  "kernelspec": {
   "display_name": "Python 3",
   "language": "python",
   "name": "python3"
  },
  "language_info": {
   "codemirror_mode": {
    "name": "ipython",
    "version": 3
   },
   "file_extension": ".py",
   "mimetype": "text/x-python",
   "name": "python",
   "nbconvert_exporter": "python",
   "pygments_lexer": "ipython3",
   "version": "3.8.5"
  }
 },
 "nbformat": 4,
 "nbformat_minor": 5
}
