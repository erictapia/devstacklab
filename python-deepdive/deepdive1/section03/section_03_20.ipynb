{
 "cells": [
  {
   "cell_type": "markdown",
   "id": "champion-denver",
   "metadata": {},
   "source": [
    "# Object Mutability\n",
    "\n",
    "Object is made up:\n",
    "\n",
    "- Type\n",
    "- State(data)\n",
    "\n",
    "changing the object data is called modifying the internal state of the,\n",
    "object (aka mutated)\n",
    "\n",
    "Mutable object\n",
    "\n",
    "- an object whose internal state can be changed\n",
    "\n",
    "Immutable object\n",
    "\n",
    "- an object whose internal state cannot be changed\n",
    "\n",
    "| Immutable | Mutable |\n",
    "| --- | --- |\n",
    "| Numbers (int, float, bool, etc) | Lists |\n",
    "| Strings | Sets |\n",
    "| Tuples | Dictionaries |\n",
    "| Frozen Sets | User-Defined Classes |"
   ]
  },
  {
   "cell_type": "code",
   "execution_count": 1,
   "id": "hollywood-public",
   "metadata": {},
   "outputs": [],
   "source": [
    "# Tuples are immutable, elements cannot be deleted, inserted, or replaced\n",
    "# In this example, both the container(tuple) and elements(ints) are immutable\n",
    "t = (1, 2, 3)"
   ]
  },
  {
   "cell_type": "code",
   "execution_count": 2,
   "id": "acquired-volume",
   "metadata": {},
   "outputs": [],
   "source": [
    "# Lists are mutable\n",
    "a = [1, 2]\n",
    "b = [3, 4]\n",
    "t = (a, b)"
   ]
  },
  {
   "cell_type": "code",
   "execution_count": 6,
   "id": "working-withdrawal",
   "metadata": {},
   "outputs": [
    {
     "name": "stdout",
     "output_type": "stream",
     "text": [
      "([1, 2, 3], [3, 4, 5])\n"
     ]
    },
    {
     "data": {
      "text/plain": [
       "'0x7f381c388640'"
      ]
     },
     "execution_count": 6,
     "metadata": {},
     "output_type": "execute_result"
    }
   ],
   "source": [
    "print(t)\n",
    "hex(id(t))"
   ]
  },
  {
   "cell_type": "code",
   "execution_count": 4,
   "id": "dress-guatemala",
   "metadata": {},
   "outputs": [],
   "source": [
    "# Adding elements to the lists\n",
    "# Tuple has not changed\n",
    "a.append(3)\n",
    "b.append(5)"
   ]
  },
  {
   "cell_type": "code",
   "execution_count": 7,
   "id": "ranging-woman",
   "metadata": {},
   "outputs": [
    {
     "name": "stdout",
     "output_type": "stream",
     "text": [
      "([1, 2, 3], [3, 4, 5])\n"
     ]
    },
    {
     "data": {
      "text/plain": [
       "'0x7f381c388640'"
      ]
     },
     "execution_count": 7,
     "metadata": {},
     "output_type": "execute_result"
    }
   ],
   "source": [
    "print(t)\n",
    "hex(id(t))"
   ]
  },
  {
   "cell_type": "markdown",
   "id": "removed-compensation",
   "metadata": {},
   "source": [
    "Objects may be immutable, the object references may not change but the the referenced mutable objects can mutate."
   ]
  },
  {
   "cell_type": "markdown",
   "id": "first-rough",
   "metadata": {},
   "source": [
    "# Example of a mutable object\n",
    "\n",
    "- memory address does not change"
   ]
  },
  {
   "cell_type": "code",
   "execution_count": 8,
   "id": "future-lawyer",
   "metadata": {},
   "outputs": [],
   "source": [
    "my_list = [1, 2, 3]"
   ]
  },
  {
   "cell_type": "code",
   "execution_count": 9,
   "id": "operating-flash",
   "metadata": {},
   "outputs": [
    {
     "data": {
      "text/plain": [
       "list"
      ]
     },
     "execution_count": 9,
     "metadata": {},
     "output_type": "execute_result"
    }
   ],
   "source": [
    "type(my_list)"
   ]
  },
  {
   "cell_type": "code",
   "execution_count": 10,
   "id": "institutional-benjamin",
   "metadata": {},
   "outputs": [
    {
     "data": {
      "text/plain": [
       "[1, 2, 3]"
      ]
     },
     "execution_count": 10,
     "metadata": {},
     "output_type": "execute_result"
    }
   ],
   "source": [
    "my_list"
   ]
  },
  {
   "cell_type": "code",
   "execution_count": 11,
   "id": "several-bobby",
   "metadata": {},
   "outputs": [
    {
     "data": {
      "text/plain": [
       "'0x7f381c3e0a80'"
      ]
     },
     "execution_count": 11,
     "metadata": {},
     "output_type": "execute_result"
    }
   ],
   "source": [
    "hex(id(my_list))"
   ]
  },
  {
   "cell_type": "code",
   "execution_count": 12,
   "id": "concerned-lincoln",
   "metadata": {},
   "outputs": [],
   "source": [
    "my_list.append(4)"
   ]
  },
  {
   "cell_type": "code",
   "execution_count": 13,
   "id": "phantom-toronto",
   "metadata": {},
   "outputs": [
    {
     "data": {
      "text/plain": [
       "[1, 2, 3, 4]"
      ]
     },
     "execution_count": 13,
     "metadata": {},
     "output_type": "execute_result"
    }
   ],
   "source": [
    "my_list"
   ]
  },
  {
   "cell_type": "code",
   "execution_count": 14,
   "id": "median-behalf",
   "metadata": {},
   "outputs": [
    {
     "data": {
      "text/plain": [
       "'0x7f381c3e0a80'"
      ]
     },
     "execution_count": 14,
     "metadata": {},
     "output_type": "execute_result"
    }
   ],
   "source": [
    "hex(id(my_list))"
   ]
  },
  {
   "cell_type": "markdown",
   "id": "breeding-humor",
   "metadata": {},
   "source": [
    "# Example of mutable object when concatenating lists\n",
    "\n",
    "- the address will change because its assigning a new list"
   ]
  },
  {
   "cell_type": "code",
   "execution_count": 15,
   "id": "ethical-signature",
   "metadata": {},
   "outputs": [],
   "source": [
    "my_list_1 = [1, 2, 3]"
   ]
  },
  {
   "cell_type": "code",
   "execution_count": 16,
   "id": "saving-tennessee",
   "metadata": {},
   "outputs": [
    {
     "data": {
      "text/plain": [
       "'0x7f381c3a4e80'"
      ]
     },
     "execution_count": 16,
     "metadata": {},
     "output_type": "execute_result"
    }
   ],
   "source": [
    "hex(id(my_list_1))"
   ]
  },
  {
   "cell_type": "code",
   "execution_count": 21,
   "id": "stunning-adventure",
   "metadata": {},
   "outputs": [],
   "source": [
    "my_list_1 = my_list_1 + [4]"
   ]
  },
  {
   "cell_type": "code",
   "execution_count": 22,
   "id": "analyzed-puppy",
   "metadata": {},
   "outputs": [
    {
     "data": {
      "text/plain": [
       "[1, 2, 3, 4, 4]"
      ]
     },
     "execution_count": 22,
     "metadata": {},
     "output_type": "execute_result"
    }
   ],
   "source": [
    "my_list_1"
   ]
  },
  {
   "cell_type": "code",
   "execution_count": 23,
   "id": "passive-liability",
   "metadata": {},
   "outputs": [
    {
     "data": {
      "text/plain": [
       "'0x7f381c3a4800'"
      ]
     },
     "execution_count": 23,
     "metadata": {},
     "output_type": "execute_result"
    }
   ],
   "source": [
    "hex(id(my_list_1))"
   ]
  }
 ],
 "metadata": {
  "kernelspec": {
   "display_name": "Python 3",
   "language": "python",
   "name": "python3"
  },
  "language_info": {
   "codemirror_mode": {
    "name": "ipython",
    "version": 3
   },
   "file_extension": ".py",
   "mimetype": "text/x-python",
   "name": "python",
   "nbconvert_exporter": "python",
   "pygments_lexer": "ipython3",
   "version": "3.8.5"
  }
 },
 "nbformat": 4,
 "nbformat_minor": 5
}
