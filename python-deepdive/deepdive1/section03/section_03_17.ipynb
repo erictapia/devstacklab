{
 "cells": [
  {
   "cell_type": "markdown",
   "id": "sporting-yukon",
   "metadata": {},
   "source": [
    "# Garbage Collection\n",
    "\n",
    "Reclaims memory when the reference count reaches 0, including circular references.\n",
    "\n",
    "- can be controlled programmatically using the gc module\n",
    "- by default it is turned on\n",
    "- you may turn it off but if code creates circular references it will have memory leaks\n",
    "- runs periodically on its own\n",
    "- you can call it manually, and do your own cleanup\n",
    "\n",
    "# Circular References\n",
    "\n",
    "my_var --> objA.var_1 --> objB.var_2 ---> objA\n",
    "\n",
    "objA and objB have a cirular reference, without GC, this would create a memory leak."
   ]
  },
  {
   "cell_type": "code",
   "execution_count": 1,
   "id": "enclosed-extraction",
   "metadata": {},
   "outputs": [],
   "source": [
    "import ctypes\n",
    "import gc"
   ]
  },
  {
   "cell_type": "code",
   "execution_count": 2,
   "id": "defined-thought",
   "metadata": {},
   "outputs": [],
   "source": [
    "def ref_count(address):\n",
    "    return ctypes.c_long.from_address(address).value"
   ]
  },
  {
   "cell_type": "code",
   "execution_count": 3,
   "id": "determined-statement",
   "metadata": {},
   "outputs": [],
   "source": [
    "# Check if address exists in the garbage collector\n",
    "def object_by_id(object_id):\n",
    "    for obj in gc.get_objects():\n",
    "        if id(obj)== object_id:\n",
    "            return \"Object exists\"\n",
    "    \n",
    "    return \"Not Found\""
   ]
  },
  {
   "cell_type": "markdown",
   "id": "trained-typing",
   "metadata": {},
   "source": [
    "# Defining two classes for circular references"
   ]
  },
  {
   "cell_type": "code",
   "execution_count": 4,
   "id": "invalid-receptor",
   "metadata": {},
   "outputs": [],
   "source": [
    "class A:\n",
    "    def __init__(self):\n",
    "        self.b = B(self)\n",
    "        print(f\"A: self:{hex(id(self))}, b: {hex(id(self.b))}\")"
   ]
  },
  {
   "cell_type": "code",
   "execution_count": 5,
   "id": "pediatric-polymer",
   "metadata": {},
   "outputs": [],
   "source": [
    "class B:\n",
    "    def __init__(self, a):\n",
    "        self.a = a\n",
    "        print(f\"B: self:{hex(id(self))}, a: {hex(id(self.a))}\")"
   ]
  },
  {
   "cell_type": "code",
   "execution_count": 6,
   "id": "simple-circular",
   "metadata": {},
   "outputs": [],
   "source": [
    "# disabling garbage collector\n",
    "gc.disable()"
   ]
  },
  {
   "cell_type": "code",
   "execution_count": 7,
   "id": "polished-killer",
   "metadata": {},
   "outputs": [
    {
     "name": "stdout",
     "output_type": "stream",
     "text": [
      "B: self:0x7f81bc3633d0, a: 0x7f81bc3633a0\n",
      "A: self:0x7f81bc3633a0, b: 0x7f81bc3633d0\n"
     ]
    }
   ],
   "source": [
    "my_var = A()"
   ]
  },
  {
   "cell_type": "code",
   "execution_count": 8,
   "id": "fewer-auckland",
   "metadata": {},
   "outputs": [
    {
     "data": {
      "text/plain": [
       "'0x7f81bc3633a0'"
      ]
     },
     "execution_count": 8,
     "metadata": {},
     "output_type": "execute_result"
    }
   ],
   "source": [
    "hex(id(my_var))"
   ]
  },
  {
   "cell_type": "code",
   "execution_count": 9,
   "id": "fitting-engagement",
   "metadata": {},
   "outputs": [],
   "source": [
    "a_id = id(my_var)\n",
    "b_id = id(my_var.b)"
   ]
  },
  {
   "cell_type": "code",
   "execution_count": 10,
   "id": "united-mobility",
   "metadata": {},
   "outputs": [
    {
     "name": "stdout",
     "output_type": "stream",
     "text": [
      "0x7f81bc3633a0\n",
      "0x7f81bc3633d0\n"
     ]
    }
   ],
   "source": [
    "print(hex(a_id))\n",
    "print(hex(b_id))"
   ]
  },
  {
   "cell_type": "code",
   "execution_count": 11,
   "id": "enormous-portfolio",
   "metadata": {},
   "outputs": [
    {
     "data": {
      "text/plain": [
       "2"
      ]
     },
     "execution_count": 11,
     "metadata": {},
     "output_type": "execute_result"
    }
   ],
   "source": [
    "ref_count(a_id)"
   ]
  },
  {
   "cell_type": "code",
   "execution_count": 12,
   "id": "convertible-halifax",
   "metadata": {},
   "outputs": [
    {
     "data": {
      "text/plain": [
       "1"
      ]
     },
     "execution_count": 12,
     "metadata": {},
     "output_type": "execute_result"
    }
   ],
   "source": [
    "ref_count(b_id)"
   ]
  },
  {
   "cell_type": "code",
   "execution_count": 14,
   "id": "recorded-suspect",
   "metadata": {},
   "outputs": [
    {
     "data": {
      "text/plain": [
       "'Object exists'"
      ]
     },
     "execution_count": 14,
     "metadata": {},
     "output_type": "execute_result"
    }
   ],
   "source": [
    "object_by_id(a_id)"
   ]
  },
  {
   "cell_type": "code",
   "execution_count": 15,
   "id": "mediterranean-affect",
   "metadata": {},
   "outputs": [
    {
     "data": {
      "text/plain": [
       "'Object exists'"
      ]
     },
     "execution_count": 15,
     "metadata": {},
     "output_type": "execute_result"
    }
   ],
   "source": [
    "object_by_id(b_id)"
   ]
  },
  {
   "cell_type": "code",
   "execution_count": 16,
   "id": "adopted-placement",
   "metadata": {},
   "outputs": [],
   "source": [
    "my_var = None"
   ]
  },
  {
   "cell_type": "markdown",
   "id": "widespread-tanzania",
   "metadata": {},
   "source": [
    "# Since garbage collection is off\n",
    "\n",
    "- the circular reference continues to count as a memory reference\n"
   ]
  },
  {
   "cell_type": "code",
   "execution_count": 17,
   "id": "cheap-crash",
   "metadata": {},
   "outputs": [
    {
     "data": {
      "text/plain": [
       "1"
      ]
     },
     "execution_count": 17,
     "metadata": {},
     "output_type": "execute_result"
    }
   ],
   "source": [
    "ref_count(a_id)"
   ]
  },
  {
   "cell_type": "code",
   "execution_count": 18,
   "id": "flying-indicator",
   "metadata": {},
   "outputs": [
    {
     "data": {
      "text/plain": [
       "1"
      ]
     },
     "execution_count": 18,
     "metadata": {},
     "output_type": "execute_result"
    }
   ],
   "source": [
    "ref_count(b_id)"
   ]
  },
  {
   "cell_type": "code",
   "execution_count": 19,
   "id": "provincial-accident",
   "metadata": {},
   "outputs": [
    {
     "data": {
      "text/plain": [
       "'Object exists'"
      ]
     },
     "execution_count": 19,
     "metadata": {},
     "output_type": "execute_result"
    }
   ],
   "source": [
    "object_by_id(a_id)"
   ]
  },
  {
   "cell_type": "code",
   "execution_count": 20,
   "id": "final-modern",
   "metadata": {},
   "outputs": [
    {
     "data": {
      "text/plain": [
       "'Object exists'"
      ]
     },
     "execution_count": 20,
     "metadata": {},
     "output_type": "execute_result"
    }
   ],
   "source": [
    "object_by_id(b_id)"
   ]
  },
  {
   "cell_type": "markdown",
   "id": "jewish-scott",
   "metadata": {},
   "source": [
    "# Turning on garbage collection\n",
    "\n",
    "- will reclaim the circular referenced memory locations"
   ]
  },
  {
   "cell_type": "code",
   "execution_count": 21,
   "id": "wicked-walter",
   "metadata": {},
   "outputs": [
    {
     "data": {
      "text/plain": [
       "636"
      ]
     },
     "execution_count": 21,
     "metadata": {},
     "output_type": "execute_result"
    }
   ],
   "source": [
    "gc.collect()"
   ]
  },
  {
   "cell_type": "code",
   "execution_count": 22,
   "id": "married-spell",
   "metadata": {},
   "outputs": [
    {
     "data": {
      "text/plain": [
       "'Not Found'"
      ]
     },
     "execution_count": 22,
     "metadata": {},
     "output_type": "execute_result"
    }
   ],
   "source": [
    "object_by_id(a_id)"
   ]
  },
  {
   "cell_type": "code",
   "execution_count": 23,
   "id": "challenging-horse",
   "metadata": {},
   "outputs": [
    {
     "data": {
      "text/plain": [
       "'Not Found'"
      ]
     },
     "execution_count": 23,
     "metadata": {},
     "output_type": "execute_result"
    }
   ],
   "source": [
    "object_by_id(b_id)"
   ]
  },
  {
   "cell_type": "code",
   "execution_count": null,
   "id": "numerical-restriction",
   "metadata": {},
   "outputs": [],
   "source": [
    "# Checking reference count\n",
    "\n",
    "- it may output no zero value because Python could be using the recently claimed memory location"
   ]
  },
  {
   "cell_type": "code",
   "execution_count": 24,
   "id": "conditional-bennett",
   "metadata": {},
   "outputs": [
    {
     "data": {
      "text/plain": [
       "0"
      ]
     },
     "execution_count": 24,
     "metadata": {},
     "output_type": "execute_result"
    }
   ],
   "source": [
    "ref_count(a_id)"
   ]
  },
  {
   "cell_type": "code",
   "execution_count": 26,
   "id": "devoted-clause",
   "metadata": {},
   "outputs": [
    {
     "data": {
      "text/plain": [
       "1"
      ]
     },
     "execution_count": 26,
     "metadata": {},
     "output_type": "execute_result"
    }
   ],
   "source": [
    "ref_count(b_id)"
   ]
  }
 ],
 "metadata": {
  "kernelspec": {
   "display_name": "Python 3",
   "language": "python",
   "name": "python3"
  },
  "language_info": {
   "codemirror_mode": {
    "name": "ipython",
    "version": 3
   },
   "file_extension": ".py",
   "mimetype": "text/x-python",
   "name": "python",
   "nbconvert_exporter": "python",
   "pygments_lexer": "ipython3",
   "version": "3.8.5"
  }
 },
 "nbformat": 4,
 "nbformat_minor": 5
}
