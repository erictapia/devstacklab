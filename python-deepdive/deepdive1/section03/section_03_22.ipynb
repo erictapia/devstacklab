{
 "cells": [
  {
   "cell_type": "markdown",
   "id": "motivated-warrior",
   "metadata": {},
   "source": [
    "# Shared References and Mutability\n",
    "\n",
    "shared reference: two variables referencing the same object in memory\n",
    "(same memory address)\n",
    "\n",
    "The Python memory manager may create a shared reference on immutable objects\n",
    "such as:"
   ]
  },
  {
   "cell_type": "code",
   "execution_count": 4,
   "id": "useful-difficulty",
   "metadata": {},
   "outputs": [],
   "source": [
    "a = 10\n",
    "b = 10"
   ]
  },
  {
   "cell_type": "code",
   "execution_count": 5,
   "id": "median-guide",
   "metadata": {},
   "outputs": [
    {
     "data": {
      "text/plain": [
       "9785152"
      ]
     },
     "execution_count": 5,
     "metadata": {},
     "output_type": "execute_result"
    }
   ],
   "source": [
    "id(a)"
   ]
  },
  {
   "cell_type": "code",
   "execution_count": 6,
   "id": "quantitative-manufacturer",
   "metadata": {},
   "outputs": [
    {
     "data": {
      "text/plain": [
       "9785152"
      ]
     },
     "execution_count": 6,
     "metadata": {},
     "output_type": "execute_result"
    }
   ],
   "source": [
    "id(b)"
   ]
  },
  {
   "cell_type": "markdown",
   "id": "genuine-insertion",
   "metadata": {},
   "source": [
    "The variables, a and b, will point to same memory location (Python internals).\n",
    "\n",
    "The Python memory manager will not create a shared reference on mutable objects,\n",
    "each will point to its own object in memory."
   ]
  },
  {
   "cell_type": "code",
   "execution_count": 8,
   "id": "ancient-intranet",
   "metadata": {},
   "outputs": [],
   "source": [
    "a = [10]\n",
    "b = [10]"
   ]
  },
  {
   "cell_type": "code",
   "execution_count": 9,
   "id": "upset-homework",
   "metadata": {},
   "outputs": [
    {
     "data": {
      "text/plain": [
       "139821401524288"
      ]
     },
     "execution_count": 9,
     "metadata": {},
     "output_type": "execute_result"
    }
   ],
   "source": [
    "id(a)"
   ]
  },
  {
   "cell_type": "code",
   "execution_count": 10,
   "id": "lyric-promise",
   "metadata": {},
   "outputs": [
    {
     "data": {
      "text/plain": [
       "139821401531392"
      ]
     },
     "execution_count": 10,
     "metadata": {},
     "output_type": "execute_result"
    }
   ],
   "source": [
    "id(b)"
   ]
  }
 ],
 "metadata": {
  "kernelspec": {
   "display_name": "Python 3",
   "language": "python",
   "name": "python3"
  },
  "language_info": {
   "codemirror_mode": {
    "name": "ipython",
    "version": 3
   },
   "file_extension": ".py",
   "mimetype": "text/x-python",
   "name": "python",
   "nbconvert_exporter": "python",
   "pygments_lexer": "ipython3",
   "version": "3.8.5"
  }
 },
 "nbformat": 4,
 "nbformat_minor": 5
}
