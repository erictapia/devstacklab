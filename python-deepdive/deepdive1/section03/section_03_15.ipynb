{
 "cells": [
  {
   "cell_type": "markdown",
   "id": "minus-tooth",
   "metadata": {},
   "source": [
    "# Variables are Memory References\n"
   ]
  },
  {
   "cell_type": "markdown",
   "id": "strong-aberdeen",
   "metadata": {},
   "source": [
    "# Heap\n",
    "\n",
    "| Memory Address | Object at Memory Address |\n",
    "| --- | --- |\n",
    "| 0x1000 | Object1 |\n",
    "| 0x1001 | Object1 |\n",
    "| 0x1002 | Object2 |\n",
    "| 0x1003 | Object2 |\n",
    "| 0x1004 | Object2 |\n",
    "| 0x1005 | Object3 |\n",
    "| ... | |\n"
   ]
  },
  {
   "cell_type": "code",
   "execution_count": 4,
   "id": "designing-sperm",
   "metadata": {},
   "outputs": [
    {
     "name": "stdout",
     "output_type": "stream",
     "text": [
      "10\n"
     ]
    }
   ],
   "source": [
    "# my_var is a reference to a memory address\n",
    "my_var = 10\n",
    "\n",
    "print(my_var)"
   ]
  },
  {
   "cell_type": "code",
   "execution_count": 5,
   "id": "distinguished-committee",
   "metadata": {},
   "outputs": [
    {
     "name": "stdout",
     "output_type": "stream",
     "text": [
      "9785152\n"
     ]
    }
   ],
   "source": [
    "# id outputs the memory address referenced by my_var\n",
    "print(id(my_var))"
   ]
  },
  {
   "cell_type": "code",
   "execution_count": 7,
   "id": "normal-sarah",
   "metadata": {},
   "outputs": [
    {
     "name": "stdout",
     "output_type": "stream",
     "text": [
      "0x954f40\n"
     ]
    }
   ],
   "source": [
    "# Hex version of ID\n",
    "print(hex(id(my_var)))"
   ]
  }
 ],
 "metadata": {
  "kernelspec": {
   "display_name": "Python 3",
   "language": "python",
   "name": "python3"
  },
  "language_info": {
   "codemirror_mode": {
    "name": "ipython",
    "version": 3
   },
   "file_extension": ".py",
   "mimetype": "text/x-python",
   "name": "python",
   "nbconvert_exporter": "python",
   "pygments_lexer": "ipython3",
   "version": "3.8.5"
  }
 },
 "nbformat": 4,
 "nbformat_minor": 5
}
