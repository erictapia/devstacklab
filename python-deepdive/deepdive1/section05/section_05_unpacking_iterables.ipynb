{
 "cells": [
  {
   "cell_type": "markdown",
   "id": "younger-minnesota",
   "metadata": {},
   "source": [
    "# Unpacking Iterables\n",
    "\n",
    "## Packed Values\n",
    "\n",
    "- values that are bundled together is some way\n",
    "- types that are packed: tuples, lists, strings, set, dictionary, any iterable\n",
    "\n",
    "## Unpacking Packed Values\n",
    "\n",
    "- the act of splitting packed values into individual variables\n",
    "- unpacking dictionaries returns keys"
   ]
  },
  {
   "cell_type": "markdown",
   "id": "western-throw",
   "metadata": {},
   "source": [
    "## Code Examples"
   ]
  },
  {
   "cell_type": "markdown",
   "id": "ceramic-arkansas",
   "metadata": {},
   "source": [
    "### Packing"
   ]
  },
  {
   "cell_type": "code",
   "execution_count": 1,
   "id": "endless-mount",
   "metadata": {},
   "outputs": [],
   "source": [
    "a = (1, 2, 3)"
   ]
  },
  {
   "cell_type": "code",
   "execution_count": 2,
   "id": "southeast-overview",
   "metadata": {},
   "outputs": [
    {
     "data": {
      "text/plain": [
       "tuple"
      ]
     },
     "execution_count": 2,
     "metadata": {},
     "output_type": "execute_result"
    }
   ],
   "source": [
    "type(a)"
   ]
  },
  {
   "cell_type": "code",
   "execution_count": 3,
   "id": "peaceful-credits",
   "metadata": {},
   "outputs": [],
   "source": [
    "a = 1, 2, 3"
   ]
  },
  {
   "cell_type": "code",
   "execution_count": 4,
   "id": "pregnant-desktop",
   "metadata": {},
   "outputs": [
    {
     "data": {
      "text/plain": [
       "tuple"
      ]
     },
     "execution_count": 4,
     "metadata": {},
     "output_type": "execute_result"
    }
   ],
   "source": [
    "type(a)"
   ]
  },
  {
   "cell_type": "code",
   "execution_count": 5,
   "id": "canadian-insertion",
   "metadata": {},
   "outputs": [
    {
     "data": {
      "text/plain": [
       "(1, 2, 3)"
      ]
     },
     "execution_count": 5,
     "metadata": {},
     "output_type": "execute_result"
    }
   ],
   "source": [
    "a"
   ]
  },
  {
   "cell_type": "markdown",
   "id": "illegal-missouri",
   "metadata": {},
   "source": [
    "## Unpacking"
   ]
  },
  {
   "cell_type": "code",
   "execution_count": 6,
   "id": "peripheral-moses",
   "metadata": {},
   "outputs": [],
   "source": [
    "a, b, c = [1, \"a\", 3.14]"
   ]
  },
  {
   "cell_type": "code",
   "execution_count": 7,
   "id": "optical-leonard",
   "metadata": {},
   "outputs": [
    {
     "data": {
      "text/plain": [
       "(1, 'a', 3.14)"
      ]
     },
     "execution_count": 7,
     "metadata": {},
     "output_type": "execute_result"
    }
   ],
   "source": [
    "a, b, c"
   ]
  },
  {
   "cell_type": "code",
   "execution_count": 8,
   "id": "another-helena",
   "metadata": {},
   "outputs": [],
   "source": [
    "a,b, c = \"XYZ\""
   ]
  },
  {
   "cell_type": "code",
   "execution_count": 9,
   "id": "understanding-capital",
   "metadata": {},
   "outputs": [
    {
     "data": {
      "text/plain": [
       "('X', 'Y', 'Z')"
      ]
     },
     "execution_count": 9,
     "metadata": {},
     "output_type": "execute_result"
    }
   ],
   "source": [
    "a, b, c"
   ]
  },
  {
   "cell_type": "code",
   "execution_count": 10,
   "id": "compliant-sunrise",
   "metadata": {},
   "outputs": [],
   "source": [
    "s = {1, 2, 3}"
   ]
  },
  {
   "cell_type": "code",
   "execution_count": 11,
   "id": "adverse-treatment",
   "metadata": {},
   "outputs": [],
   "source": [
    "a, b, c = s"
   ]
  },
  {
   "cell_type": "code",
   "execution_count": 12,
   "id": "previous-raleigh",
   "metadata": {},
   "outputs": [
    {
     "data": {
      "text/plain": [
       "(1, 2, 3)"
      ]
     },
     "execution_count": 12,
     "metadata": {},
     "output_type": "execute_result"
    }
   ],
   "source": [
    "a, b, c"
   ]
  },
  {
   "cell_type": "code",
   "execution_count": 13,
   "id": "affecting-portuguese",
   "metadata": {},
   "outputs": [],
   "source": [
    "d = {\"a\": 1, \"b\": 2, \"c\": 3}"
   ]
  },
  {
   "cell_type": "code",
   "execution_count": 14,
   "id": "proprietary-architecture",
   "metadata": {},
   "outputs": [],
   "source": [
    "# Unpacking keys\n",
    "a, b, c = d"
   ]
  },
  {
   "cell_type": "code",
   "execution_count": 15,
   "id": "foreign-compound",
   "metadata": {},
   "outputs": [
    {
     "data": {
      "text/plain": [
       "('a', 'b', 'c')"
      ]
     },
     "execution_count": 15,
     "metadata": {},
     "output_type": "execute_result"
    }
   ],
   "source": [
    "a, b, c"
   ]
  },
  {
   "cell_type": "code",
   "execution_count": 16,
   "id": "unknown-conclusion",
   "metadata": {},
   "outputs": [],
   "source": [
    "# Unpacking values\n",
    "a, b, c = d.values()"
   ]
  },
  {
   "cell_type": "code",
   "execution_count": 17,
   "id": "insured-castle",
   "metadata": {},
   "outputs": [
    {
     "data": {
      "text/plain": [
       "(1, 2, 3)"
      ]
     },
     "execution_count": 17,
     "metadata": {},
     "output_type": "execute_result"
    }
   ],
   "source": [
    "a, b, c"
   ]
  },
  {
   "cell_type": "code",
   "execution_count": 19,
   "id": "iraqi-object",
   "metadata": {},
   "outputs": [],
   "source": [
    "# Unpacking keys and values\n",
    "a, b, c = d.items()"
   ]
  },
  {
   "cell_type": "code",
   "execution_count": 20,
   "id": "radical-boston",
   "metadata": {},
   "outputs": [
    {
     "data": {
      "text/plain": [
       "(('a', 1), ('b', 2), ('c', 3))"
      ]
     },
     "execution_count": 20,
     "metadata": {},
     "output_type": "execute_result"
    }
   ],
   "source": [
    "a, b, c"
   ]
  }
 ],
 "metadata": {
  "kernelspec": {
   "display_name": "Python 3",
   "language": "python",
   "name": "python3"
  },
  "language_info": {
   "codemirror_mode": {
    "name": "ipython",
    "version": 3
   },
   "file_extension": ".py",
   "mimetype": "text/x-python",
   "name": "python",
   "nbconvert_exporter": "python",
   "pygments_lexer": "ipython3",
   "version": "3.8.5"
  }
 },
 "nbformat": 4,
 "nbformat_minor": 5
}
