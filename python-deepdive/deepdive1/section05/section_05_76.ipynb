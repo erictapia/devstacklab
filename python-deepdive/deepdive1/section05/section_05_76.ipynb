{
 "cells": [
  {
   "cell_type": "markdown",
   "id": "confident-subsection",
   "metadata": {},
   "source": [
    "# Parameter Defaults - Beware\n",
    "\n",
    "- when modules load, it executes all code that reference an object\n",
    "- default values are created when a module loads"
   ]
  },
  {
   "cell_type": "markdown",
   "id": "handy-publication",
   "metadata": {},
   "source": [
    "## Code Examples"
   ]
  },
  {
   "cell_type": "code",
   "execution_count": 1,
   "id": "missing-fellow",
   "metadata": {},
   "outputs": [],
   "source": [
    "from datetime import datetime"
   ]
  },
  {
   "cell_type": "code",
   "execution_count": 2,
   "id": "recreational-patio",
   "metadata": {},
   "outputs": [
    {
     "data": {
      "text/plain": [
       "datetime.datetime(2021, 3, 17, 14, 15, 37, 461499)"
      ]
     },
     "execution_count": 2,
     "metadata": {},
     "output_type": "execute_result"
    }
   ],
   "source": [
    "datetime.utcnow()"
   ]
  },
  {
   "cell_type": "code",
   "execution_count": 3,
   "id": "alpha-petroleum",
   "metadata": {},
   "outputs": [
    {
     "name": "stdout",
     "output_type": "stream",
     "text": [
      "2021-03-17 14:16:00.499770\n"
     ]
    }
   ],
   "source": [
    "print(datetime.utcnow())"
   ]
  },
  {
   "cell_type": "code",
   "execution_count": 6,
   "id": "turned-history",
   "metadata": {},
   "outputs": [],
   "source": [
    "# Default value will be evaluated at module load and\n",
    "# remain the same for all function calls\n",
    "def log(msg, *, dt=datetime.utcnow()):\n",
    "    print(f\"{dt}: {msg}\")"
   ]
  },
  {
   "cell_type": "code",
   "execution_count": 7,
   "id": "turned-scott",
   "metadata": {},
   "outputs": [
    {
     "name": "stdout",
     "output_type": "stream",
     "text": [
      "2021-01-01 00:00:00.000: message 1\n"
     ]
    }
   ],
   "source": [
    "log(\"message 1\", dt=\"2021-01-01 00:00:00.000\")"
   ]
  },
  {
   "cell_type": "code",
   "execution_count": 8,
   "id": "exotic-payday",
   "metadata": {},
   "outputs": [
    {
     "name": "stdout",
     "output_type": "stream",
     "text": [
      "2021-03-17 14:17:44.830221: message 2\n"
     ]
    }
   ],
   "source": [
    "log(\"message 2\")"
   ]
  },
  {
   "cell_type": "code",
   "execution_count": 10,
   "id": "likely-atlantic",
   "metadata": {},
   "outputs": [
    {
     "name": "stdout",
     "output_type": "stream",
     "text": [
      "2021-03-17 14:17:44.830221: message 3\n"
     ]
    }
   ],
   "source": [
    "log(\"message 3\")"
   ]
  },
  {
   "cell_type": "code",
   "execution_count": 17,
   "id": "rolled-victorian",
   "metadata": {},
   "outputs": [],
   "source": [
    "# Default value is set to None\n",
    "# then a conditional can be used\n",
    "# to set dt to the current time\n",
    "def log(msg, *, dt=None):\n",
    "    if not dt:\n",
    "        dt = datetime.utcnow()\n",
    "        \n",
    "    print(f\"{dt}: {msg}\")"
   ]
  },
  {
   "cell_type": "code",
   "execution_count": 18,
   "id": "refined-thousand",
   "metadata": {},
   "outputs": [
    {
     "name": "stdout",
     "output_type": "stream",
     "text": [
      "2021-03-17 14:21:45.853547: message 2\n"
     ]
    }
   ],
   "source": [
    "log(\"message 2\")"
   ]
  },
  {
   "cell_type": "code",
   "execution_count": 19,
   "id": "coated-group",
   "metadata": {},
   "outputs": [
    {
     "name": "stdout",
     "output_type": "stream",
     "text": [
      "2021-03-17 14:21:46.461564: message 3\n"
     ]
    }
   ],
   "source": [
    "log(\"message 3\")"
   ]
  },
  {
   "cell_type": "code",
   "execution_count": 20,
   "id": "spatial-jefferson",
   "metadata": {},
   "outputs": [],
   "source": [
    "# rewriting with short circuting\n",
    "def log(msg, *, dt=None):\n",
    "    dt = dt or datetime.utcnow()\n",
    "        \n",
    "    print(f\"{dt}: {msg}\")"
   ]
  },
  {
   "cell_type": "code",
   "execution_count": 21,
   "id": "engaging-worse",
   "metadata": {},
   "outputs": [
    {
     "name": "stdout",
     "output_type": "stream",
     "text": [
      "2021-03-17 14:22:47.393956: message 2\n"
     ]
    }
   ],
   "source": [
    "log(\"message 2\")"
   ]
  },
  {
   "cell_type": "code",
   "execution_count": 22,
   "id": "combined-hearing",
   "metadata": {},
   "outputs": [
    {
     "name": "stdout",
     "output_type": "stream",
     "text": [
      "2021-03-17 14:22:53.717303: message 3\n"
     ]
    }
   ],
   "source": [
    "log(\"message 3\")"
   ]
  }
 ],
 "metadata": {
  "kernelspec": {
   "display_name": "Python 3",
   "language": "python",
   "name": "python3"
  },
  "language_info": {
   "codemirror_mode": {
    "name": "ipython",
    "version": 3
   },
   "file_extension": ".py",
   "mimetype": "text/x-python",
   "name": "python",
   "nbconvert_exporter": "python",
   "pygments_lexer": "ipython3",
   "version": "3.8.5"
  }
 },
 "nbformat": 4,
 "nbformat_minor": 5
}
