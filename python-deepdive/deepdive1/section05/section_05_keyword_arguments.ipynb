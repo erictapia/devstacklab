{
 "cells": [
  {
   "cell_type": "markdown",
   "id": "binary-isolation",
   "metadata": {},
   "source": [
    "# Keyword Arguments\n",
    "\n",
    "- parameters following a \\*args will become a mandatory keyword argument\n",
    "- \\* can be used to end positional arguments\n",
    "- \\*: Python will raise a TypeError when positional arguments are passed"
   ]
  },
  {
   "cell_type": "markdown",
   "id": "cleared-candy",
   "metadata": {},
   "source": [
    "## Code Examples"
   ]
  },
  {
   "cell_type": "code",
   "execution_count": 1,
   "id": "broad-definition",
   "metadata": {},
   "outputs": [],
   "source": [
    "def func1(a, b, c):\n",
    "    print(a, b, c)"
   ]
  },
  {
   "cell_type": "code",
   "execution_count": 2,
   "id": "collect-engine",
   "metadata": {},
   "outputs": [
    {
     "name": "stdout",
     "output_type": "stream",
     "text": [
      "1 2 3\n"
     ]
    }
   ],
   "source": [
    "func1(1, 2, 3)"
   ]
  },
  {
   "cell_type": "code",
   "execution_count": 4,
   "id": "sharp-sailing",
   "metadata": {},
   "outputs": [
    {
     "name": "stdout",
     "output_type": "stream",
     "text": [
      "1 2 3\n"
     ]
    }
   ],
   "source": [
    "func1(1, c=3, b=2)"
   ]
  },
  {
   "cell_type": "code",
   "execution_count": 5,
   "id": "renewable-clearing",
   "metadata": {},
   "outputs": [
    {
     "name": "stdout",
     "output_type": "stream",
     "text": [
      "1 2 3\n"
     ]
    }
   ],
   "source": [
    "func1(c=3, b=2, a=1)"
   ]
  },
  {
   "cell_type": "code",
   "execution_count": 6,
   "id": "indian-privilege",
   "metadata": {},
   "outputs": [],
   "source": [
    "def func1(a, b, *args):\n",
    "    print(a, b, args)"
   ]
  },
  {
   "cell_type": "code",
   "execution_count": 7,
   "id": "neural-anderson",
   "metadata": {},
   "outputs": [
    {
     "name": "stdout",
     "output_type": "stream",
     "text": [
      "1 2 (3, 4)\n"
     ]
    }
   ],
   "source": [
    "func1(1, 2, 3, 4)"
   ]
  },
  {
   "cell_type": "code",
   "execution_count": 8,
   "id": "mounted-ukraine",
   "metadata": {},
   "outputs": [],
   "source": [
    "# d is a mandatory keyword argument\n",
    "def func1(a, b, *args, d):\n",
    "    print(a, b, args, d)"
   ]
  },
  {
   "cell_type": "code",
   "execution_count": 10,
   "id": "preliminary-member",
   "metadata": {},
   "outputs": [
    {
     "ename": "TypeError",
     "evalue": "func1() missing 1 required keyword-only argument: 'd'",
     "output_type": "error",
     "traceback": [
      "\u001b[0;31m---------------------------------------------------------------------------\u001b[0m",
      "\u001b[0;31mTypeError\u001b[0m                                 Traceback (most recent call last)",
      "\u001b[0;32m<ipython-input-10-db9b4eaca7c8>\u001b[0m in \u001b[0;36m<module>\u001b[0;34m\u001b[0m\n\u001b[1;32m      1\u001b[0m \u001b[0;31m# Fails because d must be a keyword argument\u001b[0m\u001b[0;34m\u001b[0m\u001b[0;34m\u001b[0m\u001b[0;34m\u001b[0m\u001b[0m\n\u001b[0;32m----> 2\u001b[0;31m \u001b[0mfunc1\u001b[0m\u001b[0;34m(\u001b[0m\u001b[0;36m1\u001b[0m\u001b[0;34m,\u001b[0m \u001b[0;36m2\u001b[0m\u001b[0;34m,\u001b[0m \u001b[0;36m3\u001b[0m\u001b[0;34m,\u001b[0m \u001b[0;36m4\u001b[0m\u001b[0;34m,\u001b[0m \u001b[0;36m5\u001b[0m\u001b[0;34m)\u001b[0m\u001b[0;34m\u001b[0m\u001b[0;34m\u001b[0m\u001b[0m\n\u001b[0m",
      "\u001b[0;31mTypeError\u001b[0m: func1() missing 1 required keyword-only argument: 'd'"
     ]
    }
   ],
   "source": [
    "# Fails because d must be a keyword argument\n",
    "func1(1, 2, 3, 4, 5)"
   ]
  },
  {
   "cell_type": "code",
   "execution_count": 11,
   "id": "announced-right",
   "metadata": {},
   "outputs": [
    {
     "name": "stdout",
     "output_type": "stream",
     "text": [
      "1 2 (3, 4) 5\n"
     ]
    }
   ],
   "source": [
    "func1(1, 2, 3, 4, d=5)"
   ]
  },
  {
   "cell_type": "code",
   "execution_count": 12,
   "id": "strong-island",
   "metadata": {},
   "outputs": [],
   "source": [
    "def func1(*args,d):\n",
    "    print(args, d)"
   ]
  },
  {
   "cell_type": "code",
   "execution_count": 13,
   "id": "cognitive-ministry",
   "metadata": {},
   "outputs": [
    {
     "name": "stdout",
     "output_type": "stream",
     "text": [
      "(1, 2, 3) 4\n"
     ]
    }
   ],
   "source": [
    "func1(1, 2, 3, d=4)"
   ]
  },
  {
   "cell_type": "code",
   "execution_count": 14,
   "id": "intended-noise",
   "metadata": {},
   "outputs": [
    {
     "name": "stdout",
     "output_type": "stream",
     "text": [
      "() 1\n"
     ]
    }
   ],
   "source": [
    "func1(d=1)"
   ]
  },
  {
   "cell_type": "code",
   "execution_count": 15,
   "id": "judicial-bhutan",
   "metadata": {},
   "outputs": [],
   "source": [
    "# No positional arguments allowed\n",
    "def func(*, d):\n",
    "    print(d)"
   ]
  },
  {
   "cell_type": "code",
   "execution_count": 16,
   "id": "premium-consent",
   "metadata": {},
   "outputs": [
    {
     "ename": "TypeError",
     "evalue": "func() takes 0 positional arguments but 2 positional arguments (and 1 keyword-only argument) were given",
     "output_type": "error",
     "traceback": [
      "\u001b[0;31m---------------------------------------------------------------------------\u001b[0m",
      "\u001b[0;31mTypeError\u001b[0m                                 Traceback (most recent call last)",
      "\u001b[0;32m<ipython-input-16-e590558e6857>\u001b[0m in \u001b[0;36m<module>\u001b[0;34m\u001b[0m\n\u001b[0;32m----> 1\u001b[0;31m \u001b[0mfunc\u001b[0m\u001b[0;34m(\u001b[0m\u001b[0;36m1\u001b[0m\u001b[0;34m,\u001b[0m \u001b[0;36m2\u001b[0m\u001b[0;34m,\u001b[0m \u001b[0md\u001b[0m\u001b[0;34m=\u001b[0m\u001b[0;36m100\u001b[0m\u001b[0;34m)\u001b[0m\u001b[0;34m\u001b[0m\u001b[0;34m\u001b[0m\u001b[0m\n\u001b[0m",
      "\u001b[0;31mTypeError\u001b[0m: func() takes 0 positional arguments but 2 positional arguments (and 1 keyword-only argument) were given"
     ]
    }
   ],
   "source": [
    "func(1, 2, d=100)"
   ]
  },
  {
   "cell_type": "code",
   "execution_count": 17,
   "id": "nominated-warner",
   "metadata": {},
   "outputs": [
    {
     "name": "stdout",
     "output_type": "stream",
     "text": [
      "() 100\n"
     ]
    }
   ],
   "source": [
    "func1(d=100)"
   ]
  },
  {
   "cell_type": "code",
   "execution_count": 20,
   "id": "western-insulin",
   "metadata": {},
   "outputs": [],
   "source": [
    "def func1(a, b, *, d):\n",
    "    print(a, b, d)"
   ]
  },
  {
   "cell_type": "code",
   "execution_count": 21,
   "id": "effective-tomato",
   "metadata": {},
   "outputs": [
    {
     "name": "stdout",
     "output_type": "stream",
     "text": [
      "1 2 4\n"
     ]
    }
   ],
   "source": [
    "func1(1, 2, d=4)"
   ]
  },
  {
   "cell_type": "code",
   "execution_count": 22,
   "id": "lesbian-honey",
   "metadata": {},
   "outputs": [
    {
     "ename": "TypeError",
     "evalue": "func1() takes 2 positional arguments but 3 positional arguments (and 1 keyword-only argument) were given",
     "output_type": "error",
     "traceback": [
      "\u001b[0;31m---------------------------------------------------------------------------\u001b[0m",
      "\u001b[0;31mTypeError\u001b[0m                                 Traceback (most recent call last)",
      "\u001b[0;32m<ipython-input-22-f6d4f36d8dbc>\u001b[0m in \u001b[0;36m<module>\u001b[0;34m\u001b[0m\n\u001b[1;32m      1\u001b[0m \u001b[0;31m# passing a 3rd positional argument will throw an exception\u001b[0m\u001b[0;34m\u001b[0m\u001b[0;34m\u001b[0m\u001b[0;34m\u001b[0m\u001b[0m\n\u001b[0;32m----> 2\u001b[0;31m \u001b[0mfunc1\u001b[0m\u001b[0;34m(\u001b[0m\u001b[0;36m1\u001b[0m\u001b[0;34m,\u001b[0m \u001b[0;36m2\u001b[0m\u001b[0;34m,\u001b[0m \u001b[0;36m3\u001b[0m\u001b[0;34m,\u001b[0m \u001b[0md\u001b[0m\u001b[0;34m=\u001b[0m\u001b[0;36m4\u001b[0m\u001b[0;34m)\u001b[0m\u001b[0;34m\u001b[0m\u001b[0;34m\u001b[0m\u001b[0m\n\u001b[0m",
      "\u001b[0;31mTypeError\u001b[0m: func1() takes 2 positional arguments but 3 positional arguments (and 1 keyword-only argument) were given"
     ]
    }
   ],
   "source": [
    "# passing a 3rd positional argument will throw an exception\n",
    "func1(1, 2, 3, d=4)"
   ]
  },
  {
   "cell_type": "code",
   "execution_count": 24,
   "id": "pleasant-swing",
   "metadata": {},
   "outputs": [],
   "source": [
    "def func1(a, b=2, *args, d):\n",
    "    print(a, b, args, d)"
   ]
  },
  {
   "cell_type": "code",
   "execution_count": 25,
   "id": "static-strap",
   "metadata": {},
   "outputs": [
    {
     "name": "stdout",
     "output_type": "stream",
     "text": [
      "1 5 (3, 4) A\n"
     ]
    }
   ],
   "source": [
    "func1(1,5, 3, 4, d=\"A\")"
   ]
  },
  {
   "cell_type": "code",
   "execution_count": 28,
   "id": "lonely-cycling",
   "metadata": {},
   "outputs": [],
   "source": [
    "# d, e are mandatory keyword arguments\n",
    "# since any parameter after args is mandatory,\n",
    "# the parameters do not all have a default\n",
    "def func1(a, b=20, *args, d=0, e):\n",
    "    print(a, b, args, d, e)"
   ]
  },
  {
   "cell_type": "code",
   "execution_count": 29,
   "id": "republican-establishment",
   "metadata": {},
   "outputs": [
    {
     "name": "stdout",
     "output_type": "stream",
     "text": [
      "5 4 (3, 2, 1) 0 a\n"
     ]
    }
   ],
   "source": [
    "func1(5, 4, 3,2,1, e=\"a\")"
   ]
  },
  {
   "cell_type": "code",
   "execution_count": 30,
   "id": "eastern-accused",
   "metadata": {},
   "outputs": [
    {
     "name": "stdout",
     "output_type": "stream",
     "text": [
      "0 600 () 1 2\n"
     ]
    }
   ],
   "source": [
    "func1(0,600, d=1, e=2)"
   ]
  }
 ],
 "metadata": {
  "kernelspec": {
   "display_name": "Python 3",
   "language": "python",
   "name": "python3"
  },
  "language_info": {
   "codemirror_mode": {
    "name": "ipython",
    "version": 3
   },
   "file_extension": ".py",
   "mimetype": "text/x-python",
   "name": "python",
   "nbconvert_exporter": "python",
   "pygments_lexer": "ipython3",
   "version": "3.8.5"
  }
 },
 "nbformat": 4,
 "nbformat_minor": 5
}
