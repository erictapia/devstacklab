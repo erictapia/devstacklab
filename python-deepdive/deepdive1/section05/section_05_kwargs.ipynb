{
 "cells": [
  {
   "cell_type": "markdown",
   "id": "lyric-mediterranean",
   "metadata": {},
   "source": [
    "# \\*\\*kwargs\n",
    "\n",
    "- holds a variable amount of remaining keyword arguments\n",
    "- data type: dictionary\n",
    "- no parameters can be defined after the \\*\\*kwargs"
   ]
  },
  {
   "cell_type": "markdown",
   "id": "swedish-stream",
   "metadata": {},
   "source": [
    "## Code Examples"
   ]
  },
  {
   "cell_type": "code",
   "execution_count": 1,
   "id": "aquatic-judge",
   "metadata": {},
   "outputs": [],
   "source": [
    "def func1(**kwargs):\n",
    "    print(kwargs)"
   ]
  },
  {
   "cell_type": "code",
   "execution_count": 3,
   "id": "infrared-deployment",
   "metadata": {},
   "outputs": [
    {
     "name": "stdout",
     "output_type": "stream",
     "text": [
      "{'a': 1, 'b': 2, 'c': 3}\n"
     ]
    }
   ],
   "source": [
    "func1(a=1, b=2, c=3)"
   ]
  },
  {
   "cell_type": "code",
   "execution_count": 4,
   "id": "minimal-brand",
   "metadata": {},
   "outputs": [],
   "source": [
    "def func1(*args, **kwargs):\n",
    "    print(args, kwargs)"
   ]
  },
  {
   "cell_type": "code",
   "execution_count": 5,
   "id": "honey-gasoline",
   "metadata": {},
   "outputs": [
    {
     "name": "stdout",
     "output_type": "stream",
     "text": [
      "(1, 2) {'x': 100, 'y': 200}\n"
     ]
    }
   ],
   "source": [
    "func1(1, 2, x=100, y=200)"
   ]
  },
  {
   "cell_type": "code",
   "execution_count": 6,
   "id": "continuing-mystery",
   "metadata": {},
   "outputs": [],
   "source": [
    "def func1(a, b, *, d, **kwargs):\n",
    "    print(a, b, d, kwargs)"
   ]
  },
  {
   "cell_type": "code",
   "execution_count": 7,
   "id": "underlying-trading",
   "metadata": {},
   "outputs": [
    {
     "name": "stdout",
     "output_type": "stream",
     "text": [
      "1 2 20 {'x': 100, 'y': 200}\n"
     ]
    }
   ],
   "source": [
    "func1(1, 2, x=100, y=200, d=20)"
   ]
  },
  {
   "cell_type": "code",
   "execution_count": 8,
   "id": "macro-shower",
   "metadata": {},
   "outputs": [],
   "source": [
    "def func1(a, b, **kwargs):\n",
    "    print(a, b, kwargs)"
   ]
  },
  {
   "cell_type": "code",
   "execution_count": 11,
   "id": "impressive-robertson",
   "metadata": {},
   "outputs": [
    {
     "name": "stdout",
     "output_type": "stream",
     "text": [
      "1 2 {'x': 100, 'y': 200}\n"
     ]
    }
   ],
   "source": [
    "func1(1, 2, x=100, y=200)"
   ]
  }
 ],
 "metadata": {
  "kernelspec": {
   "display_name": "Python 3",
   "language": "python",
   "name": "python3"
  },
  "language_info": {
   "codemirror_mode": {
    "name": "ipython",
    "version": 3
   },
   "file_extension": ".py",
   "mimetype": "text/x-python",
   "name": "python",
   "nbconvert_exporter": "python",
   "pygments_lexer": "ipython3",
   "version": "3.8.5"
  }
 },
 "nbformat": 4,
 "nbformat_minor": 5
}
