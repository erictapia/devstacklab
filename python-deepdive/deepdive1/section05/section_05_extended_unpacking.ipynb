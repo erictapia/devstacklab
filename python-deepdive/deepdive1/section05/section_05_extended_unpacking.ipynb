{
 "cells": [
  {
   "cell_type": "markdown",
   "id": "tutorial-concert",
   "metadata": {},
   "source": [
    "# Extended Unpacking\n",
    "\n",
    "## \\* Unpacking\n",
    "\n",
    "- simple unpacking using slices: a, b = l\\[0\\], l\\[1:\\]\n",
    "- unpacking to LHS with \\*: a,\\*b = l\n",
    "- remainder of a \\* unpacking is a list\n",
    "- unpacking on RHS with \\*: l = \\[\\*l1, \\*l2\\]\n",
    "\n",
    "## \\*\\* Unpacking\n",
    "\n",
    "- \\*\\* can be used to unpack key/value pairs but only on the RHS\n",
    "\n",
    "## Nested Unpacking\n",
    "\n",
    "- a, b, (c, d) = \\[1, 2, \\[3, 4\\]\\]"
   ]
  },
  {
   "cell_type": "markdown",
   "id": "moral-kenya",
   "metadata": {},
   "source": [
    "## Code Examples"
   ]
  },
  {
   "cell_type": "code",
   "execution_count": 1,
   "id": "eligible-atlas",
   "metadata": {},
   "outputs": [],
   "source": [
    "l = [1, 2, 3, 4, 5, 6]"
   ]
  },
  {
   "cell_type": "code",
   "execution_count": 3,
   "id": "respective-graduation",
   "metadata": {},
   "outputs": [],
   "source": [
    "# Slicing\n",
    "a = l[0]\n",
    "b = l[1:]"
   ]
  },
  {
   "cell_type": "code",
   "execution_count": 6,
   "id": "foreign-opening",
   "metadata": {},
   "outputs": [
    {
     "data": {
      "text/plain": [
       "(1, [2, 3, 4, 5, 6])"
      ]
     },
     "execution_count": 6,
     "metadata": {},
     "output_type": "execute_result"
    }
   ],
   "source": [
    "a, b"
   ]
  },
  {
   "cell_type": "code",
   "execution_count": 7,
   "id": "dimensional-juvenile",
   "metadata": {},
   "outputs": [],
   "source": [
    "a, b = l[0], l[1:]"
   ]
  },
  {
   "cell_type": "code",
   "execution_count": 8,
   "id": "dependent-resort",
   "metadata": {},
   "outputs": [
    {
     "data": {
      "text/plain": [
       "(1, [2, 3, 4, 5, 6])"
      ]
     },
     "execution_count": 8,
     "metadata": {},
     "output_type": "execute_result"
    }
   ],
   "source": [
    "a, b"
   ]
  },
  {
   "cell_type": "code",
   "execution_count": 9,
   "id": "perfect-representation",
   "metadata": {},
   "outputs": [],
   "source": [
    "a, *b = l"
   ]
  },
  {
   "cell_type": "code",
   "execution_count": 10,
   "id": "judicial-expert",
   "metadata": {},
   "outputs": [
    {
     "data": {
      "text/plain": [
       "(1, [2, 3, 4, 5, 6])"
      ]
     },
     "execution_count": 10,
     "metadata": {},
     "output_type": "execute_result"
    }
   ],
   "source": [
    "a, b"
   ]
  },
  {
   "cell_type": "code",
   "execution_count": 11,
   "id": "royal-petite",
   "metadata": {},
   "outputs": [],
   "source": [
    "s = \"python\""
   ]
  },
  {
   "cell_type": "code",
   "execution_count": 12,
   "id": "selected-boring",
   "metadata": {},
   "outputs": [],
   "source": [
    "a, *b = s"
   ]
  },
  {
   "cell_type": "code",
   "execution_count": 13,
   "id": "convenient-convertible",
   "metadata": {},
   "outputs": [
    {
     "data": {
      "text/plain": [
       "('p', ['y', 't', 'h', 'o', 'n'])"
      ]
     },
     "execution_count": 13,
     "metadata": {},
     "output_type": "execute_result"
    }
   ],
   "source": [
    "a, b"
   ]
  },
  {
   "cell_type": "code",
   "execution_count": 14,
   "id": "major-paragraph",
   "metadata": {},
   "outputs": [],
   "source": [
    "t = \"a\", \"b\", \"c\""
   ]
  },
  {
   "cell_type": "code",
   "execution_count": 15,
   "id": "subtle-royal",
   "metadata": {},
   "outputs": [],
   "source": [
    "a, *b = t"
   ]
  },
  {
   "cell_type": "code",
   "execution_count": 16,
   "id": "infinite-adjustment",
   "metadata": {},
   "outputs": [
    {
     "data": {
      "text/plain": [
       "('a', ['b', 'c'])"
      ]
     },
     "execution_count": 16,
     "metadata": {},
     "output_type": "execute_result"
    }
   ],
   "source": [
    "a, b"
   ]
  },
  {
   "cell_type": "code",
   "execution_count": 17,
   "id": "lovely-penny",
   "metadata": {},
   "outputs": [],
   "source": [
    "a, b, *c, d = s"
   ]
  },
  {
   "cell_type": "code",
   "execution_count": 18,
   "id": "adaptive-jones",
   "metadata": {},
   "outputs": [
    {
     "data": {
      "text/plain": [
       "('p', 'y', ['t', 'h', 'o'], 'n')"
      ]
     },
     "execution_count": 18,
     "metadata": {},
     "output_type": "execute_result"
    }
   ],
   "source": [
    "a, b, c, d"
   ]
  },
  {
   "cell_type": "code",
   "execution_count": 20,
   "id": "automated-commons",
   "metadata": {},
   "outputs": [],
   "source": [
    "# Merging lists\n",
    "l1 = [1, 2, 3]\n",
    "l2 = [4, 5, 6]\n",
    "l = [*l1, *l2]"
   ]
  },
  {
   "cell_type": "code",
   "execution_count": 21,
   "id": "latest-amazon",
   "metadata": {},
   "outputs": [
    {
     "data": {
      "text/plain": [
       "[1, 2, 3, 4, 5, 6]"
      ]
     },
     "execution_count": 21,
     "metadata": {},
     "output_type": "execute_result"
    }
   ],
   "source": [
    "l"
   ]
  },
  {
   "cell_type": "code",
   "execution_count": 22,
   "id": "unnecessary-pakistan",
   "metadata": {},
   "outputs": [],
   "source": [
    "s1 = \"abc\"\n",
    "s2 = \"cde\""
   ]
  },
  {
   "cell_type": "code",
   "execution_count": 23,
   "id": "genuine-episode",
   "metadata": {},
   "outputs": [
    {
     "data": {
      "text/plain": [
       "['a', 'b', 'c', 'c', 'd', 'e']"
      ]
     },
     "execution_count": 23,
     "metadata": {},
     "output_type": "execute_result"
    }
   ],
   "source": [
    "[*s1, *s2]"
   ]
  },
  {
   "cell_type": "code",
   "execution_count": 26,
   "id": "framed-proxy",
   "metadata": {},
   "outputs": [],
   "source": [
    "s = {*s1, *s2}"
   ]
  },
  {
   "cell_type": "code",
   "execution_count": 27,
   "id": "multiple-satin",
   "metadata": {},
   "outputs": [
    {
     "data": {
      "text/plain": [
       "{'a', 'b', 'c', 'd', 'e'}"
      ]
     },
     "execution_count": 27,
     "metadata": {},
     "output_type": "execute_result"
    }
   ],
   "source": [
    "s"
   ]
  },
  {
   "cell_type": "code",
   "execution_count": 28,
   "id": "filled-model",
   "metadata": {},
   "outputs": [],
   "source": [
    "# converting to a list\n",
    "l = list(s)"
   ]
  },
  {
   "cell_type": "code",
   "execution_count": 29,
   "id": "domestic-finnish",
   "metadata": {},
   "outputs": [
    {
     "data": {
      "text/plain": [
       "['e', 'b', 'c', 'a', 'd']"
      ]
     },
     "execution_count": 29,
     "metadata": {},
     "output_type": "execute_result"
    }
   ],
   "source": [
    "l"
   ]
  },
  {
   "cell_type": "code",
   "execution_count": 31,
   "id": "challenging-carnival",
   "metadata": {},
   "outputs": [],
   "source": [
    "*l, = s"
   ]
  },
  {
   "cell_type": "code",
   "execution_count": 32,
   "id": "temporal-domain",
   "metadata": {},
   "outputs": [
    {
     "data": {
      "text/plain": [
       "['e', 'b', 'c', 'a', 'd']"
      ]
     },
     "execution_count": 32,
     "metadata": {},
     "output_type": "execute_result"
    }
   ],
   "source": [
    "l"
   ]
  },
  {
   "cell_type": "code",
   "execution_count": 36,
   "id": "visible-better",
   "metadata": {},
   "outputs": [],
   "source": [
    "s1 = {1, 2, 3}\n",
    "s2 = {3, 4, 5}\n",
    "s3 = {5, 6, 7}\n",
    "s4 = {7, 8, 9}"
   ]
  },
  {
   "cell_type": "code",
   "execution_count": 37,
   "id": "ancient-cover",
   "metadata": {},
   "outputs": [
    {
     "data": {
      "text/plain": [
       "{1, 2, 3, 4, 5, 6, 7, 8, 9}"
      ]
     },
     "execution_count": 37,
     "metadata": {},
     "output_type": "execute_result"
    }
   ],
   "source": [
    "# union\n",
    "s1.union(s2).union(s3).union(s4)"
   ]
  },
  {
   "cell_type": "code",
   "execution_count": 39,
   "id": "german-beach",
   "metadata": {},
   "outputs": [
    {
     "data": {
      "text/plain": [
       "{1, 2, 3, 4, 5, 6, 7, 8, 9}"
      ]
     },
     "execution_count": 39,
     "metadata": {},
     "output_type": "execute_result"
    }
   ],
   "source": [
    "s1.union(s2, s3, s4)"
   ]
  },
  {
   "cell_type": "code",
   "execution_count": 40,
   "id": "bibliographic-classroom",
   "metadata": {},
   "outputs": [
    {
     "data": {
      "text/plain": [
       "{1, 2, 3, 4, 5, 6, 7, 8, 9}"
      ]
     },
     "execution_count": 40,
     "metadata": {},
     "output_type": "execute_result"
    }
   ],
   "source": [
    "{*s1, *s2, *s3, *s4}"
   ]
  },
  {
   "cell_type": "code",
   "execution_count": 41,
   "id": "later-hudson",
   "metadata": {},
   "outputs": [],
   "source": [
    "d1 = {\"key1\": 1, \"key2\": 2}\n",
    "d2 = {\"key2\": 3, \"key4\": 4}"
   ]
  },
  {
   "cell_type": "code",
   "execution_count": 42,
   "id": "received-ireland",
   "metadata": {},
   "outputs": [
    {
     "data": {
      "text/plain": [
       "{'key1', 'key2', 'key4'}"
      ]
     },
     "execution_count": 42,
     "metadata": {},
     "output_type": "execute_result"
    }
   ],
   "source": [
    "# Union of unpacked keys\n",
    "{*d1, *d2}"
   ]
  },
  {
   "cell_type": "code",
   "execution_count": 43,
   "id": "atlantic-programmer",
   "metadata": {},
   "outputs": [
    {
     "data": {
      "text/plain": [
       "{'key1': 1, 'key2': 3, 'key4': 4}"
      ]
     },
     "execution_count": 43,
     "metadata": {},
     "output_type": "execute_result"
    }
   ],
   "source": [
    "# Union of unpacked key/value pairs\n",
    "{**d1, **d2}"
   ]
  },
  {
   "cell_type": "code",
   "execution_count": 44,
   "id": "attached-feeding",
   "metadata": {},
   "outputs": [
    {
     "data": {
      "text/plain": [
       "{'a': 1, 'b': 2, 'key1': 1, 'key2': 2, 'c': 3}"
      ]
     },
     "execution_count": 44,
     "metadata": {},
     "output_type": "execute_result"
    }
   ],
   "source": [
    "# RHS unpacking of key/value pairs\n",
    "{\"a\": 1, \"b\": 2, **d1, \"c\":3}"
   ]
  },
  {
   "cell_type": "code",
   "execution_count": 45,
   "id": "political-tanzania",
   "metadata": {},
   "outputs": [],
   "source": [
    "# nested unpacking\n",
    "a, b, e = [1, 2, \"xy\"]"
   ]
  },
  {
   "cell_type": "code",
   "execution_count": 46,
   "id": "annual-ceiling",
   "metadata": {},
   "outputs": [
    {
     "data": {
      "text/plain": [
       "(1, 2, 'xy')"
      ]
     },
     "execution_count": 46,
     "metadata": {},
     "output_type": "execute_result"
    }
   ],
   "source": [
    "a, b, e"
   ]
  },
  {
   "cell_type": "code",
   "execution_count": 47,
   "id": "computational-steam",
   "metadata": {},
   "outputs": [],
   "source": [
    "c, d = e"
   ]
  },
  {
   "cell_type": "code",
   "execution_count": 48,
   "id": "unlikely-ordering",
   "metadata": {},
   "outputs": [
    {
     "data": {
      "text/plain": [
       "('x', 'y')"
      ]
     },
     "execution_count": 48,
     "metadata": {},
     "output_type": "execute_result"
    }
   ],
   "source": [
    "c, d"
   ]
  },
  {
   "cell_type": "code",
   "execution_count": 50,
   "id": "measured-webcam",
   "metadata": {},
   "outputs": [],
   "source": [
    "a, b, (c, d) = [1, 2, \"xy\"]"
   ]
  },
  {
   "cell_type": "code",
   "execution_count": 51,
   "id": "offshore-installation",
   "metadata": {},
   "outputs": [],
   "source": [
    "l = [1, 2, 3, 4, \"python\"]"
   ]
  },
  {
   "cell_type": "code",
   "execution_count": 52,
   "id": "adjustable-referral",
   "metadata": {},
   "outputs": [],
   "source": [
    "a, *b, (c, d, *e) = l"
   ]
  },
  {
   "cell_type": "code",
   "execution_count": 53,
   "id": "reduced-louisiana",
   "metadata": {},
   "outputs": [
    {
     "data": {
      "text/plain": [
       "(1, [2, 3, 4], 'p', 'y', ['t', 'h', 'o', 'n'])"
      ]
     },
     "execution_count": 53,
     "metadata": {},
     "output_type": "execute_result"
    }
   ],
   "source": [
    "a, b, c, d, e"
   ]
  }
 ],
 "metadata": {
  "kernelspec": {
   "display_name": "Python 3",
   "language": "python",
   "name": "python3"
  },
  "language_info": {
   "codemirror_mode": {
    "name": "ipython",
    "version": 3
   },
   "file_extension": ".py",
   "mimetype": "text/x-python",
   "name": "python",
   "nbconvert_exporter": "python",
   "pygments_lexer": "ipython3",
   "version": "3.8.5"
  }
 },
 "nbformat": 4,
 "nbformat_minor": 5
}
