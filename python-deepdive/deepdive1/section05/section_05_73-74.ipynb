{
 "cells": [
  {
   "cell_type": "markdown",
   "id": "comparable-typing",
   "metadata": {},
   "source": [
    "# Putting it all Together\n",
    "\n",
    "## Code Examples"
   ]
  },
  {
   "cell_type": "code",
   "execution_count": 1,
   "id": "religious-kinase",
   "metadata": {},
   "outputs": [],
   "source": [
    "def func1(a, b, * args):\n",
    "    print(a, b, args)"
   ]
  },
  {
   "cell_type": "code",
   "execution_count": 3,
   "id": "smooth-process",
   "metadata": {},
   "outputs": [
    {
     "name": "stdout",
     "output_type": "stream",
     "text": [
      "1 2 ('X', 'Y', 'z')\n"
     ]
    }
   ],
   "source": [
    "func1(1, 2, \"X\", \"Y\", \"z\")"
   ]
  },
  {
   "cell_type": "code",
   "execution_count": 4,
   "id": "nasty-ordinary",
   "metadata": {},
   "outputs": [],
   "source": [
    "def func1(a, b=2, c=3, *args):\n",
    "    print(a, b, c, args)"
   ]
  },
  {
   "cell_type": "code",
   "execution_count": 5,
   "id": "qualified-coalition",
   "metadata": {},
   "outputs": [
    {
     "name": "stdout",
     "output_type": "stream",
     "text": [
      "1 2 3 ('x', 'y', 'z')\n"
     ]
    }
   ],
   "source": [
    "func1(1, 2, 3,\"x\", \"y\", \"z\")"
   ]
  },
  {
   "cell_type": "code",
   "execution_count": 6,
   "id": "weighted-classroom",
   "metadata": {},
   "outputs": [
    {
     "name": "stdout",
     "output_type": "stream",
     "text": [
      "1 2 4 ()\n"
     ]
    }
   ],
   "source": [
    "func1(1, c=4)"
   ]
  },
  {
   "cell_type": "code",
   "execution_count": 9,
   "id": "optimum-scope",
   "metadata": {},
   "outputs": [
    {
     "ename": "SyntaxError",
     "evalue": "positional argument follows keyword argument (<ipython-input-9-d2ae9d70ad3a>, line 3)",
     "output_type": "error",
     "traceback": [
      "\u001b[0;36m  File \u001b[0;32m\"<ipython-input-9-d2ae9d70ad3a>\"\u001b[0;36m, line \u001b[0;32m3\u001b[0m\n\u001b[0;31m    func1(1, c=4, 5, 6, 7)\u001b[0m\n\u001b[0m                  ^\u001b[0m\n\u001b[0;31mSyntaxError\u001b[0m\u001b[0;31m:\u001b[0m positional argument follows keyword argument\n"
     ]
    }
   ],
   "source": [
    "# once you use keyword arguments, all following arguments must too\n",
    "# can't use the *args in function\n",
    "func1(1, c=4, 5, 6, 7)"
   ]
  },
  {
   "cell_type": "code",
   "execution_count": 11,
   "id": "infectious-steal",
   "metadata": {},
   "outputs": [],
   "source": [
    "# add *args after a parameter with a default will make the\n",
    "# default value unusable\n",
    "def func1(a, b=2, *args, c=3, d):\n",
    "    print(a, b, args, c, d)"
   ]
  },
  {
   "cell_type": "code",
   "execution_count": 14,
   "id": "lucky-lobby",
   "metadata": {},
   "outputs": [
    {
     "name": "stdout",
     "output_type": "stream",
     "text": [
      "10 20 ('X', 'y', 'z') 4 1\n"
     ]
    }
   ],
   "source": [
    "func1(10, 20, \"X\", \"y\", \"z\", c=4, d=1)"
   ]
  },
  {
   "cell_type": "code",
   "execution_count": 15,
   "id": "collect-collectible",
   "metadata": {},
   "outputs": [
    {
     "name": "stdout",
     "output_type": "stream",
     "text": [
      "10 20 ('X', 'y', 'z') 3 1\n"
     ]
    }
   ],
   "source": [
    "# using c default\n",
    "func1(10, 20, \"X\", \"y\", \"z\", d=1)"
   ]
  },
  {
   "cell_type": "code",
   "execution_count": 17,
   "id": "systematic-world",
   "metadata": {},
   "outputs": [
    {
     "name": "stdout",
     "output_type": "stream",
     "text": [
      "10 X ('y', 'z') 4 1\n"
     ]
    }
   ],
   "source": [
    "# can't use b default value\n",
    "func1(10, \"X\", \"y\", \"z\", c=4, d=1)"
   ]
  },
  {
   "cell_type": "code",
   "execution_count": 18,
   "id": "adult-delhi",
   "metadata": {},
   "outputs": [],
   "source": [
    "def func1(a, b, *args, c=10, d=20, **kwargs):\n",
    "    print(a, b, args, c, d, kwargs)"
   ]
  },
  {
   "cell_type": "code",
   "execution_count": 19,
   "id": "applicable-release",
   "metadata": {},
   "outputs": [
    {
     "name": "stdout",
     "output_type": "stream",
     "text": [
      "1 2 (3, 4, 5) 100 200 {'x': 0.1, 'y': 0.2}\n"
     ]
    }
   ],
   "source": [
    "func1(1, 2, 3, 4, 5, c=100, d=200, x=0.1, y=0.2)"
   ]
  },
  {
   "cell_type": "code",
   "execution_count": 22,
   "id": "minimal-husband",
   "metadata": {},
   "outputs": [],
   "source": [
    "def calc_hi_lo_avg(*args, log_to_console=False):\n",
    "    hi = int(bool(args)) and max(args)\n",
    "    lo = int(bool(args)) and min(args)\n",
    "    \n",
    "    avg = (hi + lo) / 2\n",
    "    \n",
    "    if log_to_console:\n",
    "        print(f\"high:{hi}, low:{lo}, avg: {avg}\")\n",
    "    \n",
    "    return avg"
   ]
  },
  {
   "cell_type": "code",
   "execution_count": 23,
   "id": "unusual-friendly",
   "metadata": {},
   "outputs": [
    {
     "name": "stdout",
     "output_type": "stream",
     "text": [
      "high:5, low:1, avg: 3.0\n"
     ]
    }
   ],
   "source": [
    "avg = calc_hi_lo_avg(1, 2, 3, 4, 5, log_to_console=True)"
   ]
  },
  {
   "cell_type": "code",
   "execution_count": 24,
   "id": "clinical-chair",
   "metadata": {},
   "outputs": [
    {
     "data": {
      "text/plain": [
       "3.0"
      ]
     },
     "execution_count": 24,
     "metadata": {},
     "output_type": "execute_result"
    }
   ],
   "source": [
    "avg"
   ]
  }
 ],
 "metadata": {
  "kernelspec": {
   "display_name": "Python 3",
   "language": "python",
   "name": "python3"
  },
  "language_info": {
   "codemirror_mode": {
    "name": "ipython",
    "version": 3
   },
   "file_extension": ".py",
   "mimetype": "text/x-python",
   "name": "python",
   "nbconvert_exporter": "python",
   "pygments_lexer": "ipython3",
   "version": "3.8.5"
  }
 },
 "nbformat": 4,
 "nbformat_minor": 5
}
