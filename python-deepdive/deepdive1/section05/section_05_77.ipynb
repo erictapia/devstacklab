{
 "cells": [
  {
   "cell_type": "markdown",
   "id": "adjacent-lindsay",
   "metadata": {},
   "source": [
    "# Parameter Defaults - Beware Again\n"
   ]
  },
  {
   "cell_type": "code",
   "execution_count": 15,
   "id": "expensive-amplifier",
   "metadata": {},
   "outputs": [],
   "source": [
    "def add_item(name, quantity, unit, grocery_list):\n",
    "    grocery_list.append(f\"{name} ({quantity} {unit})\")\n",
    "    return grocery_list"
   ]
  },
  {
   "cell_type": "code",
   "execution_count": 16,
   "id": "freelance-michigan",
   "metadata": {},
   "outputs": [],
   "source": [
    "store1 = list()\n",
    "store2 = list()"
   ]
  },
  {
   "cell_type": "code",
   "execution_count": 17,
   "id": "structural-monster",
   "metadata": {},
   "outputs": [
    {
     "data": {
      "text/plain": [
       "['banana (2 units)']"
      ]
     },
     "execution_count": 17,
     "metadata": {},
     "output_type": "execute_result"
    }
   ],
   "source": [
    "add_item(\"banana\", 2, \"units\", store1)"
   ]
  },
  {
   "cell_type": "code",
   "execution_count": 18,
   "id": "visible-sterling",
   "metadata": {},
   "outputs": [
    {
     "data": {
      "text/plain": [
       "['banana (2 units)', 'milk (1 liter)']"
      ]
     },
     "execution_count": 18,
     "metadata": {},
     "output_type": "execute_result"
    }
   ],
   "source": [
    "add_item(\"milk\", 1, \"liter\", store1)"
   ]
  },
  {
   "cell_type": "code",
   "execution_count": 19,
   "id": "arctic-organization",
   "metadata": {},
   "outputs": [
    {
     "data": {
      "text/plain": [
       "['banana (2 units)', 'milk (1 liter)']"
      ]
     },
     "execution_count": 19,
     "metadata": {},
     "output_type": "execute_result"
    }
   ],
   "source": [
    "store1"
   ]
  },
  {
   "cell_type": "code",
   "execution_count": 20,
   "id": "welsh-battery",
   "metadata": {},
   "outputs": [
    {
     "data": {
      "text/plain": [
       "['python (1 medium-rare)']"
      ]
     },
     "execution_count": 20,
     "metadata": {},
     "output_type": "execute_result"
    }
   ],
   "source": [
    "add_item(\"python\", 1, \"medium-rare\", store2)"
   ]
  },
  {
   "cell_type": "code",
   "execution_count": 21,
   "id": "intended-disability",
   "metadata": {},
   "outputs": [
    {
     "data": {
      "text/plain": [
       "['python (1 medium-rare)']"
      ]
     },
     "execution_count": 21,
     "metadata": {},
     "output_type": "execute_result"
    }
   ],
   "source": [
    "store2"
   ]
  },
  {
   "cell_type": "code",
   "execution_count": 28,
   "id": "popular-margin",
   "metadata": {},
   "outputs": [],
   "source": [
    "# Default value is an empty grocery_list\n",
    "# Issue: all calls that use the default value will\n",
    "# share the same default list (pointer to same object)\n",
    "def add_item(name, quantity, unit, grocery_list=[]):\n",
    "    grocery_list.append(f\"{name} ({quantity} {unit})\")\n",
    "    return grocery_list"
   ]
  },
  {
   "cell_type": "code",
   "execution_count": 23,
   "id": "rotary-relations",
   "metadata": {},
   "outputs": [],
   "source": [
    "store3 = add_item(\"banana\", 2, \"units\")"
   ]
  },
  {
   "cell_type": "code",
   "execution_count": 24,
   "id": "earned-relevance",
   "metadata": {},
   "outputs": [
    {
     "data": {
      "text/plain": [
       "['banana (2 units)', 'milk (1 liter)']"
      ]
     },
     "execution_count": 24,
     "metadata": {},
     "output_type": "execute_result"
    }
   ],
   "source": [
    "add_item(\"milk\", 1, \"liter\", store3)"
   ]
  },
  {
   "cell_type": "code",
   "execution_count": 25,
   "id": "representative-might",
   "metadata": {},
   "outputs": [
    {
     "data": {
      "text/plain": [
       "['banana (2 units)', 'milk (1 liter)']"
      ]
     },
     "execution_count": 25,
     "metadata": {},
     "output_type": "execute_result"
    }
   ],
   "source": [
    "store3"
   ]
  },
  {
   "cell_type": "code",
   "execution_count": 26,
   "id": "incorporated-perspective",
   "metadata": {},
   "outputs": [],
   "source": [
    "store4 = add_item(\"python\", 1, \"medium-rare\")"
   ]
  },
  {
   "cell_type": "code",
   "execution_count": 27,
   "id": "indonesian-blake",
   "metadata": {},
   "outputs": [
    {
     "data": {
      "text/plain": [
       "['banana (2 units)', 'milk (1 liter)', 'python (1 medium-rare)']"
      ]
     },
     "execution_count": 27,
     "metadata": {},
     "output_type": "execute_result"
    }
   ],
   "source": [
    "store4"
   ]
  },
  {
   "cell_type": "code",
   "execution_count": 29,
   "id": "frank-hobby",
   "metadata": {},
   "outputs": [],
   "source": [
    "# Rewrite to fix issue\n",
    "def add_item(name, quantity, unit, grocery_list=None):\n",
    "    grocery_list = grocery_list or list()\n",
    "    \n",
    "    grocery_list.append(f\"{name} ({quantity} {unit})\")\n",
    "    return grocery_list"
   ]
  },
  {
   "cell_type": "code",
   "execution_count": 30,
   "id": "medieval-segment",
   "metadata": {},
   "outputs": [],
   "source": [
    "store5 = add_item(\"banana\", 2, \"units\")"
   ]
  },
  {
   "cell_type": "code",
   "execution_count": 31,
   "id": "southeast-wilderness",
   "metadata": {},
   "outputs": [
    {
     "data": {
      "text/plain": [
       "['banana (2 units)', 'milk (1 liter)']"
      ]
     },
     "execution_count": 31,
     "metadata": {},
     "output_type": "execute_result"
    }
   ],
   "source": [
    "add_item(\"milk\", 1, \"liter\", store5)"
   ]
  },
  {
   "cell_type": "code",
   "execution_count": 32,
   "id": "stable-brighton",
   "metadata": {},
   "outputs": [],
   "source": [
    "store6 = add_item(\"python\", 1, \"medium-rare\")"
   ]
  },
  {
   "cell_type": "code",
   "execution_count": 33,
   "id": "anticipated-western",
   "metadata": {},
   "outputs": [
    {
     "data": {
      "text/plain": [
       "['python (1 medium-rare)']"
      ]
     },
     "execution_count": 33,
     "metadata": {},
     "output_type": "execute_result"
    }
   ],
   "source": [
    "store6"
   ]
  },
  {
   "cell_type": "code",
   "execution_count": 34,
   "id": "brutal-nepal",
   "metadata": {},
   "outputs": [],
   "source": [
    "def factorial(n):\n",
    "    if n < 1:\n",
    "        return 1\n",
    "    else:\n",
    "        print(f\"calculating {n}\")\n",
    "        return n * factorial(n-1)"
   ]
  },
  {
   "cell_type": "code",
   "execution_count": 35,
   "id": "anonymous-receipt",
   "metadata": {},
   "outputs": [
    {
     "name": "stdout",
     "output_type": "stream",
     "text": [
      "calculating 3\n",
      "calculating 2\n",
      "calculating 1\n"
     ]
    },
    {
     "data": {
      "text/plain": [
       "6"
      ]
     },
     "execution_count": 35,
     "metadata": {},
     "output_type": "execute_result"
    }
   ],
   "source": [
    "factorial(3)"
   ]
  },
  {
   "cell_type": "code",
   "execution_count": 41,
   "id": "invisible-syria",
   "metadata": {},
   "outputs": [],
   "source": [
    "cache = {}\n",
    "\n",
    "def factorial(n, *, cache):\n",
    "    if n < 1:\n",
    "        return 1\n",
    "    elif n in cache:\n",
    "        return cache[n]\n",
    "    else:\n",
    "        print(f\"calculating {n}\")\n",
    "        result = n* factorial(n-1, cache=cache)\n",
    "        cache[n] = result\n",
    "        return result"
   ]
  },
  {
   "cell_type": "code",
   "execution_count": 42,
   "id": "greatest-opening",
   "metadata": {},
   "outputs": [
    {
     "name": "stdout",
     "output_type": "stream",
     "text": [
      "calculating 3\n",
      "calculating 2\n",
      "calculating 1\n"
     ]
    },
    {
     "data": {
      "text/plain": [
       "6"
      ]
     },
     "execution_count": 42,
     "metadata": {},
     "output_type": "execute_result"
    }
   ],
   "source": [
    "factorial(3, cache=cache)"
   ]
  },
  {
   "cell_type": "code",
   "execution_count": 43,
   "id": "overhead-great",
   "metadata": {},
   "outputs": [
    {
     "data": {
      "text/plain": [
       "6"
      ]
     },
     "execution_count": 43,
     "metadata": {},
     "output_type": "execute_result"
    }
   ],
   "source": [
    "factorial(3, cache=cache)"
   ]
  },
  {
   "cell_type": "code",
   "execution_count": 44,
   "id": "inner-species",
   "metadata": {},
   "outputs": [],
   "source": [
    "# Leveraging immutable default value that gets shared\n",
    "def factorial(n, *, cache={}):\n",
    "    if n < 1:\n",
    "        return 1\n",
    "    elif n in cache:\n",
    "        return cache[n]\n",
    "    else:\n",
    "        print(f\"calculating {n}\")\n",
    "        result = n* factorial(n-1, cache=cache)\n",
    "        cache[n] = result\n",
    "        return result"
   ]
  },
  {
   "cell_type": "code",
   "execution_count": 45,
   "id": "developmental-psychiatry",
   "metadata": {},
   "outputs": [
    {
     "name": "stdout",
     "output_type": "stream",
     "text": [
      "calculating 3\n",
      "calculating 2\n",
      "calculating 1\n"
     ]
    },
    {
     "data": {
      "text/plain": [
       "6"
      ]
     },
     "execution_count": 45,
     "metadata": {},
     "output_type": "execute_result"
    }
   ],
   "source": [
    "factorial(3)"
   ]
  },
  {
   "cell_type": "code",
   "execution_count": 46,
   "id": "private-shooting",
   "metadata": {},
   "outputs": [
    {
     "data": {
      "text/plain": [
       "6"
      ]
     },
     "execution_count": 46,
     "metadata": {},
     "output_type": "execute_result"
    }
   ],
   "source": [
    "factorial(3)"
   ]
  }
 ],
 "metadata": {
  "kernelspec": {
   "display_name": "Python 3",
   "language": "python",
   "name": "python3"
  },
  "language_info": {
   "codemirror_mode": {
    "name": "ipython",
    "version": 3
   },
   "file_extension": ".py",
   "mimetype": "text/x-python",
   "name": "python",
   "nbconvert_exporter": "python",
   "pygments_lexer": "ipython3",
   "version": "3.8.5"
  }
 },
 "nbformat": 4,
 "nbformat_minor": 5
}
