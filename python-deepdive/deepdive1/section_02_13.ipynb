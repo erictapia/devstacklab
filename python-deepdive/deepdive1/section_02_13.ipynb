{
 "cells": [
  {
   "cell_type": "markdown",
   "id": "improving-enemy",
   "metadata": {},
   "source": [
    "# Classes\n",
    "\n",
    "- Two steps when creating a new instance\n",
    "- step 1: create an instance\n",
    "- step 2: call __init__ method"
   ]
  },
  {
   "cell_type": "code",
   "execution_count": 2,
   "id": "framed-logic",
   "metadata": {},
   "outputs": [],
   "source": [
    "class Rectangle:\n",
    "    # by convention, first argument is self for instance objects\n",
    "    def __init__(self, width, height):\n",
    "        self.width = width\n",
    "        self.height = height\n"
   ]
  },
  {
   "cell_type": "code",
   "execution_count": 3,
   "id": "judicial-motor",
   "metadata": {},
   "outputs": [
    {
     "data": {
      "text/plain": [
       "10"
      ]
     },
     "execution_count": 3,
     "metadata": {},
     "output_type": "execute_result"
    }
   ],
   "source": [
    "r1 = Rectangle(10, 20)\n",
    "r1.width"
   ]
  },
  {
   "cell_type": "code",
   "execution_count": 4,
   "id": "brown-needle",
   "metadata": {},
   "outputs": [
    {
     "data": {
      "text/plain": [
       "100"
      ]
     },
     "execution_count": 4,
     "metadata": {},
     "output_type": "execute_result"
    }
   ],
   "source": [
    "r1.width = 100\n",
    "r1.width"
   ]
  },
  {
   "cell_type": "code",
   "execution_count": 7,
   "id": "comic-suspect",
   "metadata": {},
   "outputs": [],
   "source": [
    "class Rectangle:\n",
    "    # by convention, first argument is self for instance objects\n",
    "    def __init__(self, width, height):\n",
    "        self.width = width\n",
    "        self.height = height\n",
    "\n",
    "        \n",
    "    def area(self):\n",
    "        return self.width * self.height\n",
    "\n",
    "    \n",
    "    def perimeter(self):\n",
    "        return 2 * self.area()\n"
   ]
  },
  {
   "cell_type": "code",
   "execution_count": 9,
   "id": "surgical-agreement",
   "metadata": {},
   "outputs": [
    {
     "data": {
      "text/plain": [
       "200"
      ]
     },
     "execution_count": 9,
     "metadata": {},
     "output_type": "execute_result"
    }
   ],
   "source": [
    "r1 = Rectangle(10, 20)\n",
    "r1.area()"
   ]
  },
  {
   "cell_type": "code",
   "execution_count": 10,
   "id": "level-mineral",
   "metadata": {},
   "outputs": [
    {
     "data": {
      "text/plain": [
       "400"
      ]
     },
     "execution_count": 10,
     "metadata": {},
     "output_type": "execute_result"
    }
   ],
   "source": [
    "r1.perimeter()"
   ]
  },
  {
   "cell_type": "code",
   "execution_count": 11,
   "id": "molecular-windsor",
   "metadata": {},
   "outputs": [
    {
     "data": {
      "text/plain": [
       "'<__main__.Rectangle object at 0x7f2cf007a7c0>'"
      ]
     },
     "execution_count": 11,
     "metadata": {},
     "output_type": "execute_result"
    }
   ],
   "source": [
    "# String representation of a Rectangle object\n",
    "str(r1)"
   ]
  },
  {
   "cell_type": "code",
   "execution_count": 12,
   "id": "straight-husband",
   "metadata": {},
   "outputs": [
    {
     "data": {
      "text/plain": [
       "'0x7f2cf007a7c0'"
      ]
     },
     "execution_count": 12,
     "metadata": {},
     "output_type": "execute_result"
    }
   ],
   "source": [
    "hex(id(r1))"
   ]
  },
  {
   "cell_type": "markdown",
   "id": "better-istanbul",
   "metadata": {},
   "source": [
    "# Special methods\n",
    "\n",
    "- \\__str__\n",
    "- \\__repr__\n",
    "- \\__eq__\n",
    "- \\__lt__\n"
   ]
  },
  {
   "cell_type": "code",
   "execution_count": 21,
   "id": "interpreted-albuquerque",
   "metadata": {},
   "outputs": [],
   "source": [
    "class Rectangle:\n",
    "    # by convention, first argument is self for instance objects\n",
    "    def __init__(self, width, height):\n",
    "        self.width = width\n",
    "        self.height = height\n",
    "\n",
    "        \n",
    "    def area(self):\n",
    "        return self.width * self.height\n",
    "\n",
    "    \n",
    "    def perimeter(self):\n",
    "        return 2 * self.area()\n",
    "\n",
    "    \n",
    "    def __str__(self):\n",
    "        # This is a special method is used to convert to a string\n",
    "        return f\"Rectangle: width={self.width}, height={self.height}\""
   ]
  },
  {
   "cell_type": "code",
   "execution_count": 22,
   "id": "tribal-humanity",
   "metadata": {},
   "outputs": [
    {
     "data": {
      "text/plain": [
       "'Rectangle: width=10, height=20'"
      ]
     },
     "execution_count": 22,
     "metadata": {},
     "output_type": "execute_result"
    }
   ],
   "source": [
    "r1 = Rectangle(10, 20)\n",
    "str(r1)"
   ]
  },
  {
   "cell_type": "code",
   "execution_count": 23,
   "id": "ready-entry",
   "metadata": {},
   "outputs": [
    {
     "data": {
      "text/plain": [
       "<__main__.Rectangle at 0x7f2cf007a9d0>"
      ]
     },
     "execution_count": 23,
     "metadata": {},
     "output_type": "execute_result"
    }
   ],
   "source": [
    "r1"
   ]
  },
  {
   "cell_type": "code",
   "execution_count": 24,
   "id": "baking-madagascar",
   "metadata": {},
   "outputs": [],
   "source": [
    "class Rectangle:\n",
    "    # by convention, first argument is self for instance objects\n",
    "    def __init__(self, width, height):\n",
    "        self.width = width\n",
    "        self.height = height\n",
    "\n",
    "        \n",
    "    def area(self):\n",
    "        return self.width * self.height\n",
    "\n",
    "    \n",
    "    def perimeter(self):\n",
    "        return 2 * self.area()\n",
    "\n",
    "    \n",
    "    def __str__(self):\n",
    "        # This is a special method is used to convert to a string\n",
    "        return f\"Rectangle: width={self.width}, height={self.height}\"\n",
    "    \n",
    "    \n",
    "    def __repr__(self):\n",
    "        # This is a special method typically used to represent how this object would be created\n",
    "        return f\"Rectangle({self.width}, {self.height})\"\n"
   ]
  },
  {
   "cell_type": "code",
   "execution_count": 26,
   "id": "assumed-wells",
   "metadata": {},
   "outputs": [
    {
     "data": {
      "text/plain": [
       "Rectangle(10, 20)"
      ]
     },
     "execution_count": 26,
     "metadata": {},
     "output_type": "execute_result"
    }
   ],
   "source": [
    "r1 = Rectangle(10, 20)\n",
    "r1"
   ]
  },
  {
   "cell_type": "code",
   "execution_count": 27,
   "id": "bored-binding",
   "metadata": {},
   "outputs": [],
   "source": [
    "r2 = Rectangle(10, 20)"
   ]
  },
  {
   "cell_type": "code",
   "execution_count": 28,
   "id": "congressional-council",
   "metadata": {},
   "outputs": [
    {
     "data": {
      "text/plain": [
       "True"
      ]
     },
     "execution_count": 28,
     "metadata": {},
     "output_type": "execute_result"
    }
   ],
   "source": [
    "# Testing memory address\n",
    "r1 is not r2"
   ]
  },
  {
   "cell_type": "code",
   "execution_count": 29,
   "id": "following-reflection",
   "metadata": {},
   "outputs": [
    {
     "data": {
      "text/plain": [
       "False"
      ]
     },
     "execution_count": 29,
     "metadata": {},
     "output_type": "execute_result"
    }
   ],
   "source": [
    "# Testing value, not implemented\n",
    "r1 == r2"
   ]
  },
  {
   "cell_type": "code",
   "execution_count": 30,
   "id": "bacterial-acrobat",
   "metadata": {},
   "outputs": [],
   "source": [
    "class Rectangle:\n",
    "    # by convention, first argument is self for instance objects\n",
    "    def __init__(self, width, height):\n",
    "        self.width = width\n",
    "        self.height = height\n",
    "\n",
    "        \n",
    "    def area(self):\n",
    "        return self.width * self.height\n",
    "\n",
    "    \n",
    "    def perimeter(self):\n",
    "        return 2 * self.area()\n",
    "\n",
    "    \n",
    "    def __str__(self):\n",
    "        # This is a special method is used to convert to a string\n",
    "        return f\"Rectangle: width={self.width}, height={self.height}\"\n",
    "    \n",
    "    \n",
    "    def __repr__(self):\n",
    "        # This is a special method typically used to represent how this object would be created\n",
    "        return f\"Rectangle({self.width}, {self.height})\"\n",
    "    \n",
    "    \n",
    "    def __eq__(self, other):\n",
    "        return self.width == other.width and self.height == other.height\n"
   ]
  },
  {
   "cell_type": "code",
   "execution_count": 32,
   "id": "humanitarian-speech",
   "metadata": {},
   "outputs": [],
   "source": [
    "r1 = Rectangle(10, 20)\n",
    "r2 = Rectangle(10, 20)"
   ]
  },
  {
   "cell_type": "code",
   "execution_count": 33,
   "id": "institutional-project",
   "metadata": {},
   "outputs": [
    {
     "data": {
      "text/plain": [
       "True"
      ]
     },
     "execution_count": 33,
     "metadata": {},
     "output_type": "execute_result"
    }
   ],
   "source": [
    "# Testing if not same memory location\n",
    "r1 is not r2"
   ]
  },
  {
   "cell_type": "code",
   "execution_count": 34,
   "id": "informative-monroe",
   "metadata": {},
   "outputs": [
    {
     "data": {
      "text/plain": [
       "True"
      ]
     },
     "execution_count": 34,
     "metadata": {},
     "output_type": "execute_result"
    }
   ],
   "source": [
    "# Testing if same values\n",
    "r1 == r2"
   ]
  },
  {
   "cell_type": "code",
   "execution_count": 35,
   "id": "pressed-amino",
   "metadata": {},
   "outputs": [
    {
     "ename": "AttributeError",
     "evalue": "'int' object has no attribute 'width'",
     "output_type": "error",
     "traceback": [
      "\u001b[0;31m---------------------------------------------------------------------------\u001b[0m",
      "\u001b[0;31mAttributeError\u001b[0m                            Traceback (most recent call last)",
      "\u001b[0;32m<ipython-input-35-7b227cedb3f6>\u001b[0m in \u001b[0;36m<module>\u001b[0;34m\u001b[0m\n\u001b[0;32m----> 1\u001b[0;31m \u001b[0mr1\u001b[0m \u001b[0;34m==\u001b[0m \u001b[0;36m100\u001b[0m\u001b[0;34m\u001b[0m\u001b[0;34m\u001b[0m\u001b[0m\n\u001b[0m",
      "\u001b[0;32m<ipython-input-30-60247f507393>\u001b[0m in \u001b[0;36m__eq__\u001b[0;34m(self, other)\u001b[0m\n\u001b[1;32m     25\u001b[0m \u001b[0;34m\u001b[0m\u001b[0m\n\u001b[1;32m     26\u001b[0m     \u001b[0;32mdef\u001b[0m \u001b[0m__eq__\u001b[0m\u001b[0;34m(\u001b[0m\u001b[0mself\u001b[0m\u001b[0;34m,\u001b[0m \u001b[0mother\u001b[0m\u001b[0;34m)\u001b[0m\u001b[0;34m:\u001b[0m\u001b[0;34m\u001b[0m\u001b[0;34m\u001b[0m\u001b[0m\n\u001b[0;32m---> 27\u001b[0;31m         \u001b[0;32mreturn\u001b[0m \u001b[0mself\u001b[0m\u001b[0;34m.\u001b[0m\u001b[0mwidth\u001b[0m \u001b[0;34m==\u001b[0m \u001b[0mother\u001b[0m\u001b[0;34m.\u001b[0m\u001b[0mwidth\u001b[0m \u001b[0;32mand\u001b[0m \u001b[0mself\u001b[0m\u001b[0;34m.\u001b[0m\u001b[0mheight\u001b[0m \u001b[0;34m==\u001b[0m \u001b[0mother\u001b[0m\u001b[0;34m.\u001b[0m\u001b[0mheight\u001b[0m\u001b[0;34m\u001b[0m\u001b[0;34m\u001b[0m\u001b[0m\n\u001b[0m",
      "\u001b[0;31mAttributeError\u001b[0m: 'int' object has no attribute 'width'"
     ]
    }
   ],
   "source": [
    "# comparing to non Rectangle\n",
    "r1 == 100"
   ]
  },
  {
   "cell_type": "code",
   "execution_count": 37,
   "id": "figured-carol",
   "metadata": {},
   "outputs": [],
   "source": [
    "class Rectangle:\n",
    "    # by convention, first argument is self for instance objects\n",
    "    def __init__(self, width, height):\n",
    "        self.width = width\n",
    "        self.height = height\n",
    "\n",
    "        \n",
    "    def area(self):\n",
    "        return self.width * self.height\n",
    "\n",
    "    \n",
    "    def perimeter(self):\n",
    "        return 2 * self.area()\n",
    "\n",
    "    \n",
    "    def __str__(self):\n",
    "        # This is a special method is used to convert to a string\n",
    "        return f\"Rectangle: width={self.width}, height={self.height}\"\n",
    "    \n",
    "    \n",
    "    def __repr__(self):\n",
    "        # This is a special method typically used to represent how this object would be created\n",
    "        return f\"Rectangle({self.width}, {self.height})\"\n",
    "    \n",
    "    \n",
    "    def __eq__(self, other):\n",
    "        if isinstance(other, Rectangle):\n",
    "            return self.width == other.width and self.height == other.height\n",
    "        \n",
    "        return False    \n"
   ]
  },
  {
   "cell_type": "code",
   "execution_count": 38,
   "id": "configured-wheel",
   "metadata": {},
   "outputs": [],
   "source": [
    "r1 = Rectangle(10, 20)\n",
    "r2 = Rectangle(10, 20)"
   ]
  },
  {
   "cell_type": "code",
   "execution_count": 39,
   "id": "visible-princess",
   "metadata": {},
   "outputs": [
    {
     "data": {
      "text/plain": [
       "True"
      ]
     },
     "execution_count": 39,
     "metadata": {},
     "output_type": "execute_result"
    }
   ],
   "source": [
    "r1 == r2"
   ]
  },
  {
   "cell_type": "code",
   "execution_count": 40,
   "id": "administrative-parish",
   "metadata": {},
   "outputs": [
    {
     "data": {
      "text/plain": [
       "False"
      ]
     },
     "execution_count": 40,
     "metadata": {},
     "output_type": "execute_result"
    }
   ],
   "source": [
    "r1 == 100"
   ]
  },
  {
   "cell_type": "code",
   "execution_count": 41,
   "id": "sorted-camel",
   "metadata": {},
   "outputs": [],
   "source": [
    "class Rectangle:\n",
    "    # by convention, first argument is self for instance objects\n",
    "    def __init__(self, width, height):\n",
    "        self.width = width\n",
    "        self.height = height\n",
    "\n",
    "        \n",
    "    def area(self):\n",
    "        return self.width * self.height\n",
    "\n",
    "    \n",
    "    def perimeter(self):\n",
    "        return 2 * self.area()\n",
    "\n",
    "    \n",
    "    def __str__(self):\n",
    "        # This is a special method is used to convert to a string\n",
    "        return f\"Rectangle: width={self.width}, height={self.height}\"\n",
    "    \n",
    "    \n",
    "    def __repr__(self):\n",
    "        # This is a special method typically used to represent how this object would be created\n",
    "        return f\"Rectangle({self.width}, {self.height})\"\n",
    "    \n",
    "    \n",
    "    def __eq__(self, other):\n",
    "        if isinstance(other, Rectangle):\n",
    "            return self.width == other.width and self.height == other.height\n",
    "        \n",
    "        return False    \n",
    "\n",
    "    \n",
    "    def __lt__(self, other):\n",
    "        # Area will be used to verify less than other\n",
    "        if isinstance(other, Rectangle):\n",
    "            return self.area() < other.area()\n",
    "        \n",
    "        return NotImplemented\n"
   ]
  },
  {
   "cell_type": "code",
   "execution_count": 42,
   "id": "parental-packing",
   "metadata": {},
   "outputs": [],
   "source": [
    "r1 = Rectangle(10, 20)\n",
    "r2 = Rectangle(100, 200)"
   ]
  },
  {
   "cell_type": "code",
   "execution_count": 43,
   "id": "departmental-injury",
   "metadata": {},
   "outputs": [
    {
     "data": {
      "text/plain": [
       "True"
      ]
     },
     "execution_count": 43,
     "metadata": {},
     "output_type": "execute_result"
    }
   ],
   "source": [
    "r1 < r2"
   ]
  },
  {
   "cell_type": "code",
   "execution_count": 44,
   "id": "rising-priest",
   "metadata": {},
   "outputs": [
    {
     "data": {
      "text/plain": [
       "False"
      ]
     },
     "execution_count": 44,
     "metadata": {},
     "output_type": "execute_result"
    }
   ],
   "source": [
    "r2 < r1"
   ]
  },
  {
   "cell_type": "code",
   "execution_count": 53,
   "id": "three-comparative",
   "metadata": {},
   "outputs": [
    {
     "ename": "TypeError",
     "evalue": "'<' not supported between instances of 'Rectangle' and 'int'",
     "output_type": "error",
     "traceback": [
      "\u001b[0;31m---------------------------------------------------------------------------\u001b[0m",
      "\u001b[0;31mTypeError\u001b[0m                                 Traceback (most recent call last)",
      "\u001b[0;32m<ipython-input-53-d7d3051d6ade>\u001b[0m in \u001b[0;36m<module>\u001b[0;34m\u001b[0m\n\u001b[1;32m      1\u001b[0m \u001b[0;31m# comparing to a non-Rectangle\u001b[0m\u001b[0;34m\u001b[0m\u001b[0;34m\u001b[0m\u001b[0;34m\u001b[0m\u001b[0m\n\u001b[0;32m----> 2\u001b[0;31m \u001b[0mr1\u001b[0m \u001b[0;34m<\u001b[0m \u001b[0;36m1\u001b[0m\u001b[0;34m\u001b[0m\u001b[0;34m\u001b[0m\u001b[0m\n\u001b[0m",
      "\u001b[0;31mTypeError\u001b[0m: '<' not supported between instances of 'Rectangle' and 'int'"
     ]
    }
   ],
   "source": [
    "# comparing to a non-Rectangle\n",
    "r1 < 1"
   ]
  },
  {
   "cell_type": "code",
   "execution_count": 54,
   "id": "further-wholesale",
   "metadata": {},
   "outputs": [
    {
     "data": {
      "text/plain": [
       "True"
      ]
     },
     "execution_count": 54,
     "metadata": {},
     "output_type": "execute_result"
    }
   ],
   "source": [
    "# Its not implemented but Python flips it to make it work\n",
    "r2 > r1"
   ]
  },
  {
   "cell_type": "markdown",
   "id": "spread-walker",
   "metadata": {},
   "source": [
    "# Getter and Setter"
   ]
  },
  {
   "cell_type": "code",
   "execution_count": 46,
   "id": "other-outreach",
   "metadata": {},
   "outputs": [],
   "source": [
    "r1 = Rectangle(10, 20)"
   ]
  },
  {
   "cell_type": "code",
   "execution_count": 47,
   "id": "peaceful-officer",
   "metadata": {},
   "outputs": [
    {
     "data": {
      "text/plain": [
       "10"
      ]
     },
     "execution_count": 47,
     "metadata": {},
     "output_type": "execute_result"
    }
   ],
   "source": [
    "r1.width"
   ]
  },
  {
   "cell_type": "code",
   "execution_count": 50,
   "id": "adopted-newsletter",
   "metadata": {},
   "outputs": [],
   "source": [
    "# Direct access to attribute and allows invalid values\n",
    "r1.width = -100"
   ]
  },
  {
   "cell_type": "code",
   "execution_count": 51,
   "id": "tight-flash",
   "metadata": {},
   "outputs": [
    {
     "data": {
      "text/plain": [
       "-100"
      ]
     },
     "execution_count": 51,
     "metadata": {},
     "output_type": "execute_result"
    }
   ],
   "source": [
    "r1.width"
   ]
  },
  {
   "cell_type": "code",
   "execution_count": 56,
   "id": "intermediate-repository",
   "metadata": {},
   "outputs": [],
   "source": [
    "class Rectangle:\n",
    "    # by convention, first argument is self for instance objects\n",
    "    def __init__(self, width, height):\n",
    "        # By convention a _, let users know the attributes are meant to be private\n",
    "        self._width = width\n",
    "        self._height = height\n",
    "\n",
    "    \n",
    "    def get_width(self):\n",
    "        return self._width\n",
    "    \n",
    "    \n",
    "    def set_width(self, width):\n",
    "        if width <= 0:\n",
    "            raise ValueError(\"Width must be positive\")\n",
    "        else:\n",
    "            self._width = width\n",
    "    \n",
    "        \n",
    "    def area(self):\n",
    "        return self._width * self._height\n",
    "\n",
    "    \n",
    "    def perimeter(self):\n",
    "        return 2 * self.area()\n",
    "\n",
    "    \n",
    "    def __str__(self):\n",
    "        # This is a special method is used to convert to a string\n",
    "        return f\"Rectangle: width={self._width}, height={self._height}\"\n",
    "    \n",
    "    \n",
    "    def __repr__(self):\n",
    "        # This is a special method typically used to represent how this object would be created\n",
    "        return f\"Rectangle({self._width}, {self._height})\"\n",
    "    \n",
    "    \n",
    "    def __eq__(self, other):\n",
    "        if isinstance(other, Rectangle):\n",
    "            return self._width == other._width and self._height == other._height\n",
    "        \n",
    "        return False    \n",
    "\n",
    "    \n",
    "    def __lt__(self, other):\n",
    "        # Area will be used to verify less than other\n",
    "        if isinstance(other, Rectangle):\n",
    "            return self.area() < other.area()\n",
    "        \n",
    "        return NotImplemented\n"
   ]
  },
  {
   "cell_type": "code",
   "execution_count": 57,
   "id": "three-reporter",
   "metadata": {},
   "outputs": [],
   "source": [
    "r1 = Rectangle(10, 20)"
   ]
  },
  {
   "cell_type": "code",
   "execution_count": 58,
   "id": "civilian-terrain",
   "metadata": {},
   "outputs": [
    {
     "ename": "AttributeError",
     "evalue": "'Rectangle' object has no attribute 'width'",
     "output_type": "error",
     "traceback": [
      "\u001b[0;31m---------------------------------------------------------------------------\u001b[0m",
      "\u001b[0;31mAttributeError\u001b[0m                            Traceback (most recent call last)",
      "\u001b[0;32m<ipython-input-58-0fef21a529ba>\u001b[0m in \u001b[0;36m<module>\u001b[0;34m\u001b[0m\n\u001b[0;32m----> 1\u001b[0;31m \u001b[0mr1\u001b[0m\u001b[0;34m.\u001b[0m\u001b[0mwidth\u001b[0m\u001b[0;34m\u001b[0m\u001b[0;34m\u001b[0m\u001b[0m\n\u001b[0m",
      "\u001b[0;31mAttributeError\u001b[0m: 'Rectangle' object has no attribute 'width'"
     ]
    }
   ],
   "source": [
    "# Attribute does not exist\n",
    "r1.width"
   ]
  },
  {
   "cell_type": "code",
   "execution_count": 59,
   "id": "likely-signature",
   "metadata": {},
   "outputs": [],
   "source": [
    "# Monkey patching, adding a property at runtime\n",
    "r1.width = -100"
   ]
  },
  {
   "cell_type": "code",
   "execution_count": 60,
   "id": "under-telescope",
   "metadata": {},
   "outputs": [
    {
     "data": {
      "text/plain": [
       "-100"
      ]
     },
     "execution_count": 60,
     "metadata": {},
     "output_type": "execute_result"
    }
   ],
   "source": [
    "r1.width"
   ]
  },
  {
   "cell_type": "code",
   "execution_count": 61,
   "id": "monthly-career",
   "metadata": {},
   "outputs": [
    {
     "data": {
      "text/plain": [
       "10"
      ]
     },
     "execution_count": 61,
     "metadata": {},
     "output_type": "execute_result"
    }
   ],
   "source": [
    "r1._width"
   ]
  },
  {
   "cell_type": "code",
   "execution_count": 62,
   "id": "heavy-ontario",
   "metadata": {},
   "outputs": [
    {
     "data": {
      "text/plain": [
       "Rectangle(10, 20)"
      ]
     },
     "execution_count": 62,
     "metadata": {},
     "output_type": "execute_result"
    }
   ],
   "source": [
    "r1"
   ]
  },
  {
   "cell_type": "code",
   "execution_count": 63,
   "id": "signed-literature",
   "metadata": {},
   "outputs": [
    {
     "data": {
      "text/plain": [
       "10"
      ]
     },
     "execution_count": 63,
     "metadata": {},
     "output_type": "execute_result"
    }
   ],
   "source": [
    "r1.get_width()"
   ]
  },
  {
   "cell_type": "code",
   "execution_count": 64,
   "id": "diverse-intent",
   "metadata": {},
   "outputs": [
    {
     "ename": "ValueError",
     "evalue": "Width must be positive",
     "output_type": "error",
     "traceback": [
      "\u001b[0;31m---------------------------------------------------------------------------\u001b[0m",
      "\u001b[0;31mValueError\u001b[0m                                Traceback (most recent call last)",
      "\u001b[0;32m<ipython-input-64-cc061d39edc3>\u001b[0m in \u001b[0;36m<module>\u001b[0;34m\u001b[0m\n\u001b[1;32m      1\u001b[0m \u001b[0;31m# setting to invalid value\u001b[0m\u001b[0;34m\u001b[0m\u001b[0;34m\u001b[0m\u001b[0;34m\u001b[0m\u001b[0m\n\u001b[0;32m----> 2\u001b[0;31m \u001b[0mr1\u001b[0m\u001b[0;34m.\u001b[0m\u001b[0mset_width\u001b[0m\u001b[0;34m(\u001b[0m\u001b[0;34m-\u001b[0m\u001b[0;36m10\u001b[0m\u001b[0;34m)\u001b[0m\u001b[0;34m\u001b[0m\u001b[0;34m\u001b[0m\u001b[0m\n\u001b[0m",
      "\u001b[0;32m<ipython-input-56-a0049b9a0e39>\u001b[0m in \u001b[0;36mset_width\u001b[0;34m(self, width)\u001b[0m\n\u001b[1;32m     13\u001b[0m     \u001b[0;32mdef\u001b[0m \u001b[0mset_width\u001b[0m\u001b[0;34m(\u001b[0m\u001b[0mself\u001b[0m\u001b[0;34m,\u001b[0m \u001b[0mwidth\u001b[0m\u001b[0;34m)\u001b[0m\u001b[0;34m:\u001b[0m\u001b[0;34m\u001b[0m\u001b[0;34m\u001b[0m\u001b[0m\n\u001b[1;32m     14\u001b[0m         \u001b[0;32mif\u001b[0m \u001b[0mwidth\u001b[0m \u001b[0;34m<=\u001b[0m \u001b[0;36m0\u001b[0m\u001b[0;34m:\u001b[0m\u001b[0;34m\u001b[0m\u001b[0;34m\u001b[0m\u001b[0m\n\u001b[0;32m---> 15\u001b[0;31m             \u001b[0;32mraise\u001b[0m \u001b[0mValueError\u001b[0m\u001b[0;34m(\u001b[0m\u001b[0;34m\"Width must be positive\"\u001b[0m\u001b[0;34m)\u001b[0m\u001b[0;34m\u001b[0m\u001b[0;34m\u001b[0m\u001b[0m\n\u001b[0m\u001b[1;32m     16\u001b[0m         \u001b[0;32melse\u001b[0m\u001b[0;34m:\u001b[0m\u001b[0;34m\u001b[0m\u001b[0;34m\u001b[0m\u001b[0m\n\u001b[1;32m     17\u001b[0m             \u001b[0mself\u001b[0m\u001b[0;34m.\u001b[0m\u001b[0m_width\u001b[0m \u001b[0;34m=\u001b[0m \u001b[0mwidth\u001b[0m\u001b[0;34m\u001b[0m\u001b[0;34m\u001b[0m\u001b[0m\n",
      "\u001b[0;31mValueError\u001b[0m: Width must be positive"
     ]
    }
   ],
   "source": [
    "# setting to invalid value\n",
    "r1.set_width(-10)"
   ]
  },
  {
   "cell_type": "code",
   "execution_count": 65,
   "id": "accompanied-belle",
   "metadata": {},
   "outputs": [],
   "source": [
    "r1.set_width(100)"
   ]
  },
  {
   "cell_type": "code",
   "execution_count": 66,
   "id": "extensive-missouri",
   "metadata": {},
   "outputs": [
    {
     "data": {
      "text/plain": [
       "Rectangle(100, 20)"
      ]
     },
     "execution_count": 66,
     "metadata": {},
     "output_type": "execute_result"
    }
   ],
   "source": [
    "r1"
   ]
  },
  {
   "cell_type": "code",
   "execution_count": 80,
   "id": "dried-surfing",
   "metadata": {},
   "outputs": [],
   "source": [
    "class Rectangle:\n",
    "    # by convention, first argument is self for instance objects\n",
    "    def __init__(self, width, height):\n",
    "        self._width = width\n",
    "        self._height = height\n",
    "\n",
    "    \n",
    "    @property\n",
    "    def width(self):\n",
    "        # Getter for width\n",
    "        print(\"Width property called\")\n",
    "        return self._width\n",
    "    \n",
    "    \n",
    "    @width.setter\n",
    "    def width(self, width):\n",
    "        # Setter for width\n",
    "        print(\"Width setter called\")\n",
    "        \n",
    "        if width <= 0:\n",
    "            raise ValueError(\"Width must be positive\")\n",
    "        else:\n",
    "            self._width = width\n",
    "        \n",
    "    \n",
    "    @property\n",
    "    def height(self):\n",
    "        # Getter for height\n",
    "        print(\"Height property called\")\n",
    "        return self._height\n",
    "   \n",
    "    \n",
    "    @height.setter\n",
    "    def height(self, height):\n",
    "        # Setter for height\n",
    "        print(\"Height setter called\")\n",
    "        \n",
    "        if heigth <= 0:\n",
    "            raise ValueError(\"Height must be positive\")\n",
    "        else:\n",
    "            self._height = height\n",
    "            \n",
    "        \n",
    "    def area(self):\n",
    "        return self.width * self.height\n",
    "\n",
    "    \n",
    "    def perimeter(self):\n",
    "        return 2 * self.area()\n",
    "\n",
    "    \n",
    "    def __str__(self):\n",
    "        # This is a special method is used to convert to a string\n",
    "        return f\"Rectangle: width={self.width}, height={self.height}\"\n",
    "    \n",
    "    \n",
    "    def __repr__(self):\n",
    "        # This is a special method typically used to represent how this object would be created\n",
    "        return f\"Rectangle({self.width}, {self.height})\"\n",
    "    \n",
    "    \n",
    "    def __eq__(self, other):\n",
    "        if isinstance(other, Rectangle):\n",
    "            return self.width == other.width and self.height == other.height\n",
    "        \n",
    "        return False    \n",
    "\n",
    "    \n",
    "    def __lt__(self, other):\n",
    "        # Area will be used to verify less than other\n",
    "        if isinstance(other, Rectangle):\n",
    "            return self.area() < other.area()\n",
    "        \n",
    "        return NotImplemented\n"
   ]
  },
  {
   "cell_type": "code",
   "execution_count": 81,
   "id": "american-drilling",
   "metadata": {},
   "outputs": [],
   "source": [
    "r1 = Rectangle(10, 20)"
   ]
  },
  {
   "cell_type": "code",
   "execution_count": 82,
   "id": "hollow-clearing",
   "metadata": {},
   "outputs": [
    {
     "name": "stdout",
     "output_type": "stream",
     "text": [
      "Width property called\n",
      "Height property called\n"
     ]
    },
    {
     "data": {
      "text/plain": [
       "Rectangle(10, 20)"
      ]
     },
     "execution_count": 82,
     "metadata": {},
     "output_type": "execute_result"
    }
   ],
   "source": [
    "r1"
   ]
  },
  {
   "cell_type": "code",
   "execution_count": 83,
   "id": "polish-halloween",
   "metadata": {},
   "outputs": [
    {
     "name": "stdout",
     "output_type": "stream",
     "text": [
      "Width property called\n"
     ]
    },
    {
     "data": {
      "text/plain": [
       "10"
      ]
     },
     "execution_count": 83,
     "metadata": {},
     "output_type": "execute_result"
    }
   ],
   "source": [
    "r1.width"
   ]
  },
  {
   "cell_type": "code",
   "execution_count": 84,
   "id": "alone-pierre",
   "metadata": {},
   "outputs": [
    {
     "name": "stdout",
     "output_type": "stream",
     "text": [
      "Height property called\n"
     ]
    },
    {
     "data": {
      "text/plain": [
       "20"
      ]
     },
     "execution_count": 84,
     "metadata": {},
     "output_type": "execute_result"
    }
   ],
   "source": [
    "r1.height"
   ]
  },
  {
   "cell_type": "code",
   "execution_count": 85,
   "id": "rubber-national",
   "metadata": {},
   "outputs": [
    {
     "name": "stdout",
     "output_type": "stream",
     "text": [
      "Width setter called\n"
     ]
    },
    {
     "ename": "ValueError",
     "evalue": "Width must be positive",
     "output_type": "error",
     "traceback": [
      "\u001b[0;31m---------------------------------------------------------------------------\u001b[0m",
      "\u001b[0;31mValueError\u001b[0m                                Traceback (most recent call last)",
      "\u001b[0;32m<ipython-input-85-7febe5f9cdf2>\u001b[0m in \u001b[0;36m<module>\u001b[0;34m\u001b[0m\n\u001b[0;32m----> 1\u001b[0;31m \u001b[0mr1\u001b[0m\u001b[0;34m.\u001b[0m\u001b[0mwidth\u001b[0m \u001b[0;34m=\u001b[0m \u001b[0;34m-\u001b[0m\u001b[0;36m100\u001b[0m\u001b[0;34m\u001b[0m\u001b[0;34m\u001b[0m\u001b[0m\n\u001b[0m",
      "\u001b[0;32m<ipython-input-80-3693e9715175>\u001b[0m in \u001b[0;36mwidth\u001b[0;34m(self, width)\u001b[0m\n\u001b[1;32m     19\u001b[0m \u001b[0;34m\u001b[0m\u001b[0m\n\u001b[1;32m     20\u001b[0m         \u001b[0;32mif\u001b[0m \u001b[0mwidth\u001b[0m \u001b[0;34m<=\u001b[0m \u001b[0;36m0\u001b[0m\u001b[0;34m:\u001b[0m\u001b[0;34m\u001b[0m\u001b[0;34m\u001b[0m\u001b[0m\n\u001b[0;32m---> 21\u001b[0;31m             \u001b[0;32mraise\u001b[0m \u001b[0mValueError\u001b[0m\u001b[0;34m(\u001b[0m\u001b[0;34m\"Width must be positive\"\u001b[0m\u001b[0;34m)\u001b[0m\u001b[0;34m\u001b[0m\u001b[0;34m\u001b[0m\u001b[0m\n\u001b[0m\u001b[1;32m     22\u001b[0m         \u001b[0;32melse\u001b[0m\u001b[0;34m:\u001b[0m\u001b[0;34m\u001b[0m\u001b[0;34m\u001b[0m\u001b[0m\n\u001b[1;32m     23\u001b[0m             \u001b[0mself\u001b[0m\u001b[0;34m.\u001b[0m\u001b[0m_width\u001b[0m \u001b[0;34m=\u001b[0m \u001b[0mwidth\u001b[0m\u001b[0;34m\u001b[0m\u001b[0;34m\u001b[0m\u001b[0m\n",
      "\u001b[0;31mValueError\u001b[0m: Width must be positive"
     ]
    }
   ],
   "source": [
    "r1.width = -100"
   ]
  },
  {
   "cell_type": "code",
   "execution_count": 86,
   "id": "alternative-uniform",
   "metadata": {},
   "outputs": [
    {
     "name": "stdout",
     "output_type": "stream",
     "text": [
      "Width setter called\n"
     ]
    }
   ],
   "source": [
    "r1.width = 100"
   ]
  },
  {
   "cell_type": "code",
   "execution_count": 87,
   "id": "loose-ticket",
   "metadata": {},
   "outputs": [
    {
     "name": "stdout",
     "output_type": "stream",
     "text": [
      "Width property called\n",
      "Height property called\n"
     ]
    },
    {
     "data": {
      "text/plain": [
       "Rectangle(100, 20)"
      ]
     },
     "execution_count": 87,
     "metadata": {},
     "output_type": "execute_result"
    }
   ],
   "source": [
    "r1"
   ]
  },
  {
   "cell_type": "code",
   "execution_count": 88,
   "id": "minute-defeat",
   "metadata": {},
   "outputs": [],
   "source": [
    "# Creating instance with a negative number\n",
    "r1 = Rectangle(-100, 100)"
   ]
  },
  {
   "cell_type": "code",
   "execution_count": 89,
   "id": "excessive-simon",
   "metadata": {},
   "outputs": [
    {
     "name": "stdout",
     "output_type": "stream",
     "text": [
      "Width property called\n",
      "Height property called\n"
     ]
    },
    {
     "data": {
      "text/plain": [
       "Rectangle(-100, 100)"
      ]
     },
     "execution_count": 89,
     "metadata": {},
     "output_type": "execute_result"
    }
   ],
   "source": [
    "r1"
   ]
  },
  {
   "cell_type": "code",
   "execution_count": 90,
   "id": "virgin-teaching",
   "metadata": {},
   "outputs": [],
   "source": [
    "# Fixing the init so it doesn't allow negative nubmers\n",
    "# This is done by using the setter instead of assign directly\n",
    "class Rectangle:\n",
    "    # by convention, first argument is self for instance objects\n",
    "    def __init__(self, width, height):\n",
    "        self.width = width\n",
    "        self.height = height\n",
    "\n",
    "    \n",
    "    @property\n",
    "    def width(self):\n",
    "        # Getter for width\n",
    "        print(\"Width property called\")\n",
    "        return self._width\n",
    "    \n",
    "    \n",
    "    @width.setter\n",
    "    def width(self, width):\n",
    "        # Setter for width\n",
    "        print(\"Width setter called\")\n",
    "        \n",
    "        if width <= 0:\n",
    "            raise ValueError(\"Width must be positive\")\n",
    "        else:\n",
    "            self._width = width\n",
    "        \n",
    "    \n",
    "    @property\n",
    "    def height(self):\n",
    "        # Getter for height\n",
    "        print(\"Height property called\")\n",
    "        return self._height\n",
    "   \n",
    "    \n",
    "    @height.setter\n",
    "    def height(self, height):\n",
    "        # Setter for height\n",
    "        print(\"Height setter called\")\n",
    "        \n",
    "        if heigth <= 0:\n",
    "            raise ValueError(\"Height must be positive\")\n",
    "        else:\n",
    "            self._height = height\n",
    "            \n",
    "        \n",
    "    def area(self):\n",
    "        return self.width * self.height\n",
    "\n",
    "    \n",
    "    def perimeter(self):\n",
    "        return 2 * self.area()\n",
    "\n",
    "    \n",
    "    def __str__(self):\n",
    "        # This is a special method is used to convert to a string\n",
    "        return f\"Rectangle: width={self.width}, height={self.height}\"\n",
    "    \n",
    "    \n",
    "    def __repr__(self):\n",
    "        # This is a special method typically used to represent how this object would be created\n",
    "        return f\"Rectangle({self.width}, {self.height})\"\n",
    "    \n",
    "    \n",
    "    def __eq__(self, other):\n",
    "        if isinstance(other, Rectangle):\n",
    "            return self.width == other.width and self.height == other.height\n",
    "        \n",
    "        return False    \n",
    "\n",
    "    \n",
    "    def __lt__(self, other):\n",
    "        # Area will be used to verify less than other\n",
    "        if isinstance(other, Rectangle):\n",
    "            return self.area() < other.area()\n",
    "        \n",
    "        return NotImplemented\n"
   ]
  },
  {
   "cell_type": "code",
   "execution_count": 91,
   "id": "banned-discrimination",
   "metadata": {},
   "outputs": [
    {
     "name": "stdout",
     "output_type": "stream",
     "text": [
      "Width setter called\n"
     ]
    },
    {
     "ename": "ValueError",
     "evalue": "Width must be positive",
     "output_type": "error",
     "traceback": [
      "\u001b[0;31m---------------------------------------------------------------------------\u001b[0m",
      "\u001b[0;31mValueError\u001b[0m                                Traceback (most recent call last)",
      "\u001b[0;32m<ipython-input-91-a66a705986f8>\u001b[0m in \u001b[0;36m<module>\u001b[0;34m\u001b[0m\n\u001b[0;32m----> 1\u001b[0;31m \u001b[0mr1\u001b[0m \u001b[0;34m=\u001b[0m \u001b[0mRectangle\u001b[0m\u001b[0;34m(\u001b[0m\u001b[0;34m-\u001b[0m\u001b[0;36m100\u001b[0m\u001b[0;34m,\u001b[0m \u001b[0;36m100\u001b[0m\u001b[0;34m)\u001b[0m\u001b[0;34m\u001b[0m\u001b[0;34m\u001b[0m\u001b[0m\n\u001b[0m",
      "\u001b[0;32m<ipython-input-90-b7aad4473f3e>\u001b[0m in \u001b[0;36m__init__\u001b[0;34m(self, width, height)\u001b[0m\n\u001b[1;32m      4\u001b[0m     \u001b[0;31m# by convention, first argument is self for instance objects\u001b[0m\u001b[0;34m\u001b[0m\u001b[0;34m\u001b[0m\u001b[0;34m\u001b[0m\u001b[0m\n\u001b[1;32m      5\u001b[0m     \u001b[0;32mdef\u001b[0m \u001b[0m__init__\u001b[0m\u001b[0;34m(\u001b[0m\u001b[0mself\u001b[0m\u001b[0;34m,\u001b[0m \u001b[0mwidth\u001b[0m\u001b[0;34m,\u001b[0m \u001b[0mheight\u001b[0m\u001b[0;34m)\u001b[0m\u001b[0;34m:\u001b[0m\u001b[0;34m\u001b[0m\u001b[0;34m\u001b[0m\u001b[0m\n\u001b[0;32m----> 6\u001b[0;31m         \u001b[0mself\u001b[0m\u001b[0;34m.\u001b[0m\u001b[0mwidth\u001b[0m \u001b[0;34m=\u001b[0m \u001b[0mwidth\u001b[0m\u001b[0;34m\u001b[0m\u001b[0;34m\u001b[0m\u001b[0m\n\u001b[0m\u001b[1;32m      7\u001b[0m         \u001b[0mself\u001b[0m\u001b[0;34m.\u001b[0m\u001b[0mheight\u001b[0m \u001b[0;34m=\u001b[0m \u001b[0mheight\u001b[0m\u001b[0;34m\u001b[0m\u001b[0;34m\u001b[0m\u001b[0m\n\u001b[1;32m      8\u001b[0m \u001b[0;34m\u001b[0m\u001b[0m\n",
      "\u001b[0;32m<ipython-input-90-b7aad4473f3e>\u001b[0m in \u001b[0;36mwidth\u001b[0;34m(self, width)\u001b[0m\n\u001b[1;32m     21\u001b[0m \u001b[0;34m\u001b[0m\u001b[0m\n\u001b[1;32m     22\u001b[0m         \u001b[0;32mif\u001b[0m \u001b[0mwidth\u001b[0m \u001b[0;34m<=\u001b[0m \u001b[0;36m0\u001b[0m\u001b[0;34m:\u001b[0m\u001b[0;34m\u001b[0m\u001b[0;34m\u001b[0m\u001b[0m\n\u001b[0;32m---> 23\u001b[0;31m             \u001b[0;32mraise\u001b[0m \u001b[0mValueError\u001b[0m\u001b[0;34m(\u001b[0m\u001b[0;34m\"Width must be positive\"\u001b[0m\u001b[0;34m)\u001b[0m\u001b[0;34m\u001b[0m\u001b[0;34m\u001b[0m\u001b[0m\n\u001b[0m\u001b[1;32m     24\u001b[0m         \u001b[0;32melse\u001b[0m\u001b[0;34m:\u001b[0m\u001b[0;34m\u001b[0m\u001b[0;34m\u001b[0m\u001b[0m\n\u001b[1;32m     25\u001b[0m             \u001b[0mself\u001b[0m\u001b[0;34m.\u001b[0m\u001b[0m_width\u001b[0m \u001b[0;34m=\u001b[0m \u001b[0mwidth\u001b[0m\u001b[0;34m\u001b[0m\u001b[0;34m\u001b[0m\u001b[0m\n",
      "\u001b[0;31mValueError\u001b[0m: Width must be positive"
     ]
    }
   ],
   "source": [
    "r1 = Rectangle(-100, 100)"
   ]
  },
  {
   "cell_type": "code",
   "execution_count": null,
   "id": "convenient-matter",
   "metadata": {},
   "outputs": [],
   "source": []
  }
 ],
 "metadata": {
  "kernelspec": {
   "display_name": "Python 3",
   "language": "python",
   "name": "python3"
  },
  "language_info": {
   "codemirror_mode": {
    "name": "ipython",
    "version": 3
   },
   "file_extension": ".py",
   "mimetype": "text/x-python",
   "name": "python",
   "nbconvert_exporter": "python",
   "pygments_lexer": "ipython3",
   "version": "3.8.5"
  }
 },
 "nbformat": 4,
 "nbformat_minor": 5
}
