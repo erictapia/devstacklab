{
 "cells": [
  {
   "cell_type": "markdown",
   "id": "expensive-workplace",
   "metadata": {},
   "source": [
    "# Multi-Line Statements and Strings\n",
    "\n",
    "## Python Program\n",
    "\n",
    "*Physical* lines of code (written code) end with a *physical newline* character\n",
    "\n",
    "*Logical* lines of code (grammar) end with a *logical NEWLINE* token\n",
    "\n",
    "*Sometimes*, physical newlines are ignored *in order to* combine multiple physical lines\n",
    "*into a* single logical line of code *terminated* by a logical NEWLINE token\n",
    "\n",
    "This allows us to make code more readable.\n"
   ]
  },
  {
   "cell_type": "markdown",
   "id": "historic-edwards",
   "metadata": {},
   "source": [
    "## Implicit Multi-Line\n"
   ]
  },
  {
   "cell_type": "markdown",
   "id": "affecting-coalition",
   "metadata": {},
   "source": [
    "list literals: []\n"
   ]
  },
  {
   "cell_type": "code",
   "execution_count": 1,
   "id": "quiet-ribbon",
   "metadata": {},
   "outputs": [
    {
     "data": {
      "text/plain": [
       "[1, 2, 3]"
      ]
     },
     "execution_count": 1,
     "metadata": {},
     "output_type": "execute_result"
    }
   ],
   "source": [
    "[\n",
    "    1,\n",
    "    2,\n",
    "    3\n",
    "]"
   ]
  },
  {
   "cell_type": "markdown",
   "id": "demographic-render",
   "metadata": {},
   "source": [
    "tuple lieterals: ()\n"
   ]
  },
  {
   "cell_type": "code",
   "execution_count": 2,
   "id": "vietnamese-overall",
   "metadata": {},
   "outputs": [
    {
     "data": {
      "text/plain": [
       "(1, 2, 3)"
      ]
     },
     "execution_count": 2,
     "metadata": {},
     "output_type": "execute_result"
    }
   ],
   "source": [
    "(\n",
    "    1,\n",
    "    2,\n",
    "    3\n",
    ")"
   ]
  },
  {
   "cell_type": "markdown",
   "id": "brutal-relation",
   "metadata": {},
   "source": [
    "dictionary literals: {}\n"
   ]
  },
  {
   "cell_type": "code",
   "execution_count": 3,
   "id": "likely-locator",
   "metadata": {},
   "outputs": [
    {
     "data": {
      "text/plain": [
       "{1: 1, 2: 2, 3: 3}"
      ]
     },
     "execution_count": 3,
     "metadata": {},
     "output_type": "execute_result"
    }
   ],
   "source": [
    "{\n",
    "    1: 1,\n",
    "    2: 2,\n",
    "    3: 3\n",
    "}"
   ]
  },
  {
   "cell_type": "markdown",
   "id": "considerable-potter",
   "metadata": {},
   "source": [
    "set literals: {}\n"
   ]
  },
  {
   "cell_type": "code",
   "execution_count": 4,
   "id": "solid-membership",
   "metadata": {},
   "outputs": [
    {
     "data": {
      "text/plain": [
       "{1, 2, 3}"
      ]
     },
     "execution_count": 4,
     "metadata": {},
     "output_type": "execute_result"
    }
   ],
   "source": [
    "{\n",
    "    1,\n",
    "    2,\n",
    "    3\n",
    "}"
   ]
  },
  {
   "cell_type": "markdown",
   "id": "familiar-agenda",
   "metadata": {},
   "source": [
    "function parameters / arguments with inline comments\n"
   ]
  },
  {
   "cell_type": "code",
   "execution_count": 7,
   "id": "egyptian-cosmetic",
   "metadata": {},
   "outputs": [],
   "source": [
    "def func(\n",
    "    a: int, # parameter a\n",
    "    b: int, # parameter b\n",
    "    c: int  # parameter c\n",
    ") -> int:\n",
    "    return a + b + c"
   ]
  },
  {
   "cell_type": "code",
   "execution_count": 8,
   "id": "cutting-characteristic",
   "metadata": {},
   "outputs": [
    {
     "data": {
      "text/plain": [
       "6"
      ]
     },
     "execution_count": 8,
     "metadata": {},
     "output_type": "execute_result"
    }
   ],
   "source": [
    "func(\n",
    "    1, # argument a\n",
    "    2, # argument b\n",
    "    3  # argument c\n",
    ")"
   ]
  },
  {
   "cell_type": "markdown",
   "id": "according-taiwan",
   "metadata": {},
   "source": [
    "## Explicit Multi-Line\n",
    "\n",
    "Statements can be broken into multiple lines explicitly, by using the *\\* character.\n",
    "\n",
    "Multi-line statements are not implicitly converted to a single logical line."
   ]
  },
  {
   "cell_type": "code",
   "execution_count": 11,
   "id": "thorough-bonus",
   "metadata": {},
   "outputs": [],
   "source": [
    "a = b = c = True"
   ]
  },
  {
   "cell_type": "markdown",
   "id": "viral-improvement",
   "metadata": {},
   "source": [
    "*Invalid* multi-line statement"
   ]
  },
  {
   "cell_type": "code",
   "execution_count": 9,
   "id": "fleet-demonstration",
   "metadata": {},
   "outputs": [
    {
     "ename": "SyntaxError",
     "evalue": "invalid syntax (<ipython-input-9-044a5129ebdf>, line 1)",
     "output_type": "error",
     "traceback": [
      "\u001b[0;36m  File \u001b[0;32m\"<ipython-input-9-044a5129ebdf>\"\u001b[0;36m, line \u001b[0;32m1\u001b[0m\n\u001b[0;31m    if a\u001b[0m\n\u001b[0m        ^\u001b[0m\n\u001b[0;31mSyntaxError\u001b[0m\u001b[0;31m:\u001b[0m invalid syntax\n"
     ]
    }
   ],
   "source": [
    "if a\n",
    "    and b\n",
    "        and c:\n",
    "    pass"
   ]
  },
  {
   "cell_type": "code",
   "execution_count": null,
   "id": "careful-berlin",
   "metadata": {},
   "outputs": [],
   "source": [
    "*Valid* explicittly multi-line statement.  Indentention does not matter because logically it will be a\n",
    "single line statement.\n"
   ]
  },
  {
   "cell_type": "code",
   "execution_count": 14,
   "id": "becoming-burlington",
   "metadata": {},
   "outputs": [
    {
     "name": "stdout",
     "output_type": "stream",
     "text": [
      "True\n"
     ]
    }
   ],
   "source": [
    "if a \\\n",
    "    and b \\\n",
    "        and c:\n",
    "    print(True)"
   ]
  },
  {
   "cell_type": "markdown",
   "id": "tested-dancing",
   "metadata": {},
   "source": [
    "## Multi-line String Literals\n",
    "\n",
    "Multi-line string literals are created using triple delimeters using either *'* single or *\"* double\n",
    "qoutes.  These strings will include control characters as part of the strings such as spaces, newline,\n",
    "and tabs.\n"
   ]
  },
  {
   "cell_type": "code",
   "execution_count": 19,
   "id": "honey-ebony",
   "metadata": {},
   "outputs": [],
   "source": [
    "m1 = '''\n",
    "This is a multi-line string literal.\n",
    "'''\n",
    "\n",
    "m2 = \"\"\"\n",
    "This is also a multi-line string literal.\n",
    "\"\"\"\n",
    "\n",
    "m3 = '''\n",
    "        This is also a multi-line string literal.\n",
    "    '''"
   ]
  },
  {
   "cell_type": "code",
   "execution_count": 20,
   "id": "painful-exhibit",
   "metadata": {},
   "outputs": [
    {
     "name": "stdout",
     "output_type": "stream",
     "text": [
      "\n",
      "This is a multi-line string literal.\n",
      "\n",
      "\n",
      "This is also a multi-line string literal.\n",
      "\n",
      "\n",
      "        This is also a multi-line string literal.\n",
      "    \n"
     ]
    }
   ],
   "source": [
    "print(m1)\n",
    "print(m2)\n",
    "print(m3)"
   ]
  },
  {
   "cell_type": "code",
   "execution_count": null,
   "id": "advance-emperor",
   "metadata": {},
   "outputs": [],
   "source": []
  }
 ],
 "metadata": {
  "kernelspec": {
   "display_name": "Python 3",
   "language": "python",
   "name": "python3"
  },
  "language_info": {
   "codemirror_mode": {
    "name": "ipython",
    "version": 3
   },
   "file_extension": ".py",
   "mimetype": "text/x-python",
   "name": "python",
   "nbconvert_exporter": "python",
   "pygments_lexer": "ipython3",
   "version": "3.8.5"
  }
 },
 "nbformat": 4,
 "nbformat_minor": 5
}
